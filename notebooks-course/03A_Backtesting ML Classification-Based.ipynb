{
 "cells": [
  {
   "attachments": {},
   "cell_type": "markdown",
   "id": "1834c01c-a4e3-4064-9d85-dd51ca17cd3f",
   "metadata": {},
   "source": [
    "# Backtesting ML Classification-Based"
   ]
  },
  {
   "cell_type": "code",
   "execution_count": null,
   "id": "65f1b18d",
   "metadata": {},
   "outputs": [],
   "source": [
    "???"
   ]
  },
  {
   "attachments": {},
   "cell_type": "markdown",
   "id": "314e88d0",
   "metadata": {},
   "source": [
    "![](src/res_classification.png)"
   ]
  },
  {
   "attachments": {},
   "cell_type": "markdown",
   "id": "61668305-195b-4fb6-9f8b-6b614f300f12",
   "metadata": {},
   "source": [
    "## Load the model"
   ]
  },
  {
   "cell_type": "code",
   "execution_count": 1,
   "id": "7b73033e-2f6e-4869-94ef-2d24be8e699e",
   "metadata": {},
   "outputs": [],
   "source": [
    "import pickle"
   ]
  },
  {
   "cell_type": "code",
   "execution_count": 2,
   "id": "36bff3f6-0edb-461a-a28c-4759b156ff98",
   "metadata": {},
   "outputs": [],
   "source": [
    "with open('models/model_dt_classification.pkl', 'rb') as f:\n",
    "    model_dt = pickle.load(f)"
   ]
  },
  {
   "cell_type": "code",
   "execution_count": 3,
   "id": "2a590efa",
   "metadata": {},
   "outputs": [
    {
     "data": {
      "text/html": [
       "<style>#sk-container-id-1 {color: black;}#sk-container-id-1 pre{padding: 0;}#sk-container-id-1 div.sk-toggleable {background-color: white;}#sk-container-id-1 label.sk-toggleable__label {cursor: pointer;display: block;width: 100%;margin-bottom: 0;padding: 0.3em;box-sizing: border-box;text-align: center;}#sk-container-id-1 label.sk-toggleable__label-arrow:before {content: \"▸\";float: left;margin-right: 0.25em;color: #696969;}#sk-container-id-1 label.sk-toggleable__label-arrow:hover:before {color: black;}#sk-container-id-1 div.sk-estimator:hover label.sk-toggleable__label-arrow:before {color: black;}#sk-container-id-1 div.sk-toggleable__content {max-height: 0;max-width: 0;overflow: hidden;text-align: left;background-color: #f0f8ff;}#sk-container-id-1 div.sk-toggleable__content pre {margin: 0.2em;color: black;border-radius: 0.25em;background-color: #f0f8ff;}#sk-container-id-1 input.sk-toggleable__control:checked~div.sk-toggleable__content {max-height: 200px;max-width: 100%;overflow: auto;}#sk-container-id-1 input.sk-toggleable__control:checked~label.sk-toggleable__label-arrow:before {content: \"▾\";}#sk-container-id-1 div.sk-estimator input.sk-toggleable__control:checked~label.sk-toggleable__label {background-color: #d4ebff;}#sk-container-id-1 div.sk-label input.sk-toggleable__control:checked~label.sk-toggleable__label {background-color: #d4ebff;}#sk-container-id-1 input.sk-hidden--visually {border: 0;clip: rect(1px 1px 1px 1px);clip: rect(1px, 1px, 1px, 1px);height: 1px;margin: -1px;overflow: hidden;padding: 0;position: absolute;width: 1px;}#sk-container-id-1 div.sk-estimator {font-family: monospace;background-color: #f0f8ff;border: 1px dotted black;border-radius: 0.25em;box-sizing: border-box;margin-bottom: 0.5em;}#sk-container-id-1 div.sk-estimator:hover {background-color: #d4ebff;}#sk-container-id-1 div.sk-parallel-item::after {content: \"\";width: 100%;border-bottom: 1px solid gray;flex-grow: 1;}#sk-container-id-1 div.sk-label:hover label.sk-toggleable__label {background-color: #d4ebff;}#sk-container-id-1 div.sk-serial::before {content: \"\";position: absolute;border-left: 1px solid gray;box-sizing: border-box;top: 0;bottom: 0;left: 50%;z-index: 0;}#sk-container-id-1 div.sk-serial {display: flex;flex-direction: column;align-items: center;background-color: white;padding-right: 0.2em;padding-left: 0.2em;position: relative;}#sk-container-id-1 div.sk-item {position: relative;z-index: 1;}#sk-container-id-1 div.sk-parallel {display: flex;align-items: stretch;justify-content: center;background-color: white;position: relative;}#sk-container-id-1 div.sk-item::before, #sk-container-id-1 div.sk-parallel-item::before {content: \"\";position: absolute;border-left: 1px solid gray;box-sizing: border-box;top: 0;bottom: 0;left: 50%;z-index: -1;}#sk-container-id-1 div.sk-parallel-item {display: flex;flex-direction: column;z-index: 1;position: relative;background-color: white;}#sk-container-id-1 div.sk-parallel-item:first-child::after {align-self: flex-end;width: 50%;}#sk-container-id-1 div.sk-parallel-item:last-child::after {align-self: flex-start;width: 50%;}#sk-container-id-1 div.sk-parallel-item:only-child::after {width: 0;}#sk-container-id-1 div.sk-dashed-wrapped {border: 1px dashed gray;margin: 0 0.4em 0.5em 0.4em;box-sizing: border-box;padding-bottom: 0.4em;background-color: white;}#sk-container-id-1 div.sk-label label {font-family: monospace;font-weight: bold;display: inline-block;line-height: 1.2em;}#sk-container-id-1 div.sk-label-container {text-align: center;}#sk-container-id-1 div.sk-container {/* jupyter's `normalize.less` sets `[hidden] { display: none; }` but bootstrap.min.css set `[hidden] { display: none !important; }` so we also need the `!important` here to be able to override the default hidden behavior on the sphinx rendered scikit-learn.org. See: https://github.com/scikit-learn/scikit-learn/issues/21755 */display: inline-block !important;position: relative;}#sk-container-id-1 div.sk-text-repr-fallback {display: none;}</style><div id=\"sk-container-id-1\" class=\"sk-top-container\"><div class=\"sk-text-repr-fallback\"><pre>DecisionTreeClassifier(max_depth=15)</pre><b>In a Jupyter environment, please rerun this cell to show the HTML representation or trust the notebook. <br />On GitHub, the HTML representation is unable to render, please try loading this page with nbviewer.org.</b></div><div class=\"sk-container\" hidden><div class=\"sk-item\"><div class=\"sk-estimator sk-toggleable\"><input class=\"sk-toggleable__control sk-hidden--visually\" id=\"sk-estimator-id-1\" type=\"checkbox\" checked><label for=\"sk-estimator-id-1\" class=\"sk-toggleable__label sk-toggleable__label-arrow\">DecisionTreeClassifier</label><div class=\"sk-toggleable__content\"><pre>DecisionTreeClassifier(max_depth=15)</pre></div></div></div></div></div>"
      ],
      "text/plain": [
       "DecisionTreeClassifier(max_depth=15)"
      ]
     },
     "execution_count": 3,
     "metadata": {},
     "output_type": "execute_result"
    }
   ],
   "source": [
    "model_dt"
   ]
  },
  {
   "attachments": {},
   "cell_type": "markdown",
   "id": "e7744eb0-9aab-4b3b-b9c2-62f1c6a47ad9",
   "metadata": {},
   "source": [
    "## Load the data"
   ]
  },
  {
   "cell_type": "code",
   "execution_count": 4,
   "id": "27c084df-99c2-4c14-bb17-977c4c8f0ce6",
   "metadata": {},
   "outputs": [
    {
     "data": {
      "text/html": [
       "<div>\n",
       "<style scoped>\n",
       "    .dataframe tbody tr th:only-of-type {\n",
       "        vertical-align: middle;\n",
       "    }\n",
       "\n",
       "    .dataframe tbody tr th {\n",
       "        vertical-align: top;\n",
       "    }\n",
       "\n",
       "    .dataframe thead th {\n",
       "        text-align: right;\n",
       "    }\n",
       "</style>\n",
       "<table border=\"1\" class=\"dataframe\">\n",
       "  <thead>\n",
       "    <tr style=\"text-align: right;\">\n",
       "      <th></th>\n",
       "      <th>Open</th>\n",
       "      <th>High</th>\n",
       "      <th>Low</th>\n",
       "      <th>Close</th>\n",
       "      <th>Adj Close</th>\n",
       "      <th>Volume</th>\n",
       "      <th>change_tomorrow</th>\n",
       "      <th>change_tomorrow_direction</th>\n",
       "    </tr>\n",
       "    <tr>\n",
       "      <th>Date</th>\n",
       "      <th></th>\n",
       "      <th></th>\n",
       "      <th></th>\n",
       "      <th></th>\n",
       "      <th></th>\n",
       "      <th></th>\n",
       "      <th></th>\n",
       "      <th></th>\n",
       "    </tr>\n",
       "  </thead>\n",
       "  <tbody>\n",
       "    <tr>\n",
       "      <th>2016-12-08</th>\n",
       "      <td>61.299999</td>\n",
       "      <td>61.580002</td>\n",
       "      <td>60.840000</td>\n",
       "      <td>61.009998</td>\n",
       "      <td>55.705235</td>\n",
       "      <td>21220800</td>\n",
       "      <td>1.549141</td>\n",
       "      <td>UP</td>\n",
       "    </tr>\n",
       "    <tr>\n",
       "      <th>2016-12-09</th>\n",
       "      <td>61.180000</td>\n",
       "      <td>61.990002</td>\n",
       "      <td>61.130001</td>\n",
       "      <td>61.970001</td>\n",
       "      <td>56.581772</td>\n",
       "      <td>27349400</td>\n",
       "      <td>0.321694</td>\n",
       "      <td>UP</td>\n",
       "    </tr>\n",
       "    <tr>\n",
       "      <th>2016-12-12</th>\n",
       "      <td>61.820000</td>\n",
       "      <td>62.299999</td>\n",
       "      <td>61.720001</td>\n",
       "      <td>62.169998</td>\n",
       "      <td>56.764374</td>\n",
       "      <td>20198100</td>\n",
       "      <td>1.286125</td>\n",
       "      <td>UP</td>\n",
       "    </tr>\n",
       "    <tr>\n",
       "      <th>2016-12-13</th>\n",
       "      <td>62.500000</td>\n",
       "      <td>63.419998</td>\n",
       "      <td>62.240002</td>\n",
       "      <td>62.980000</td>\n",
       "      <td>57.503944</td>\n",
       "      <td>35718900</td>\n",
       "      <td>-0.478620</td>\n",
       "      <td>DOWN</td>\n",
       "    </tr>\n",
       "    <tr>\n",
       "      <th>2016-12-14</th>\n",
       "      <td>63.000000</td>\n",
       "      <td>63.450001</td>\n",
       "      <td>62.529999</td>\n",
       "      <td>62.680000</td>\n",
       "      <td>57.230022</td>\n",
       "      <td>30352700</td>\n",
       "      <td>-0.159793</td>\n",
       "      <td>DOWN</td>\n",
       "    </tr>\n",
       "    <tr>\n",
       "      <th>...</th>\n",
       "      <td>...</td>\n",
       "      <td>...</td>\n",
       "      <td>...</td>\n",
       "      <td>...</td>\n",
       "      <td>...</td>\n",
       "      <td>...</td>\n",
       "      <td>...</td>\n",
       "      <td>...</td>\n",
       "    </tr>\n",
       "    <tr>\n",
       "      <th>2023-12-18</th>\n",
       "      <td>369.450012</td>\n",
       "      <td>373.000000</td>\n",
       "      <td>368.679993</td>\n",
       "      <td>372.649994</td>\n",
       "      <td>372.649994</td>\n",
       "      <td>21802900</td>\n",
       "      <td>0.163429</td>\n",
       "      <td>UP</td>\n",
       "    </tr>\n",
       "    <tr>\n",
       "      <th>2023-12-19</th>\n",
       "      <td>371.489990</td>\n",
       "      <td>373.260010</td>\n",
       "      <td>369.839996</td>\n",
       "      <td>373.260010</td>\n",
       "      <td>373.260010</td>\n",
       "      <td>20603700</td>\n",
       "      <td>-0.712324</td>\n",
       "      <td>DOWN</td>\n",
       "    </tr>\n",
       "    <tr>\n",
       "      <th>2023-12-20</th>\n",
       "      <td>375.000000</td>\n",
       "      <td>376.029999</td>\n",
       "      <td>370.529999</td>\n",
       "      <td>370.619995</td>\n",
       "      <td>370.619995</td>\n",
       "      <td>26316700</td>\n",
       "      <td>0.781714</td>\n",
       "      <td>UP</td>\n",
       "    </tr>\n",
       "    <tr>\n",
       "      <th>2023-12-21</th>\n",
       "      <td>372.559998</td>\n",
       "      <td>374.410004</td>\n",
       "      <td>370.040009</td>\n",
       "      <td>373.540009</td>\n",
       "      <td>373.540009</td>\n",
       "      <td>17708000</td>\n",
       "      <td>0.277638</td>\n",
       "      <td>UP</td>\n",
       "    </tr>\n",
       "    <tr>\n",
       "      <th>2023-12-22</th>\n",
       "      <td>373.679993</td>\n",
       "      <td>375.179993</td>\n",
       "      <td>372.709991</td>\n",
       "      <td>374.579987</td>\n",
       "      <td>374.579987</td>\n",
       "      <td>17091100</td>\n",
       "      <td>0.021357</td>\n",
       "      <td>UP</td>\n",
       "    </tr>\n",
       "  </tbody>\n",
       "</table>\n",
       "<p>1772 rows × 8 columns</p>\n",
       "</div>"
      ],
      "text/plain": [
       "                  Open        High         Low       Close   Adj Close  \\\n",
       "Date                                                                     \n",
       "2016-12-08   61.299999   61.580002   60.840000   61.009998   55.705235   \n",
       "2016-12-09   61.180000   61.990002   61.130001   61.970001   56.581772   \n",
       "2016-12-12   61.820000   62.299999   61.720001   62.169998   56.764374   \n",
       "2016-12-13   62.500000   63.419998   62.240002   62.980000   57.503944   \n",
       "2016-12-14   63.000000   63.450001   62.529999   62.680000   57.230022   \n",
       "...                ...         ...         ...         ...         ...   \n",
       "2023-12-18  369.450012  373.000000  368.679993  372.649994  372.649994   \n",
       "2023-12-19  371.489990  373.260010  369.839996  373.260010  373.260010   \n",
       "2023-12-20  375.000000  376.029999  370.529999  370.619995  370.619995   \n",
       "2023-12-21  372.559998  374.410004  370.040009  373.540009  373.540009   \n",
       "2023-12-22  373.679993  375.179993  372.709991  374.579987  374.579987   \n",
       "\n",
       "              Volume  change_tomorrow change_tomorrow_direction  \n",
       "Date                                                             \n",
       "2016-12-08  21220800         1.549141                        UP  \n",
       "2016-12-09  27349400         0.321694                        UP  \n",
       "2016-12-12  20198100         1.286125                        UP  \n",
       "2016-12-13  35718900        -0.478620                      DOWN  \n",
       "2016-12-14  30352700        -0.159793                      DOWN  \n",
       "...              ...              ...                       ...  \n",
       "2023-12-18  21802900         0.163429                        UP  \n",
       "2023-12-19  20603700        -0.712324                      DOWN  \n",
       "2023-12-20  26316700         0.781714                        UP  \n",
       "2023-12-21  17708000         0.277638                        UP  \n",
       "2023-12-22  17091100         0.021357                        UP  \n",
       "\n",
       "[1772 rows x 8 columns]"
      ]
     },
     "execution_count": 4,
     "metadata": {},
     "output_type": "execute_result"
    }
   ],
   "source": [
    "import pandas as pd\n",
    "\n",
    "df = pd.read_excel('data/Microsoft_LinkedIn_Processed.xlsx', index_col=0, parse_dates=['Date'])\n",
    "df"
   ]
  },
  {
   "attachments": {},
   "cell_type": "markdown",
   "id": "f6dd7c63-3fae-4de7-8c7f-968a966b0d84",
   "metadata": {},
   "source": [
    "## Backtesting.py Library"
   ]
  },
  {
   "attachments": {},
   "cell_type": "markdown",
   "id": "be593682-a169-4e9d-b402-9b92b456dd38",
   "metadata": {},
   "source": [
    "### Create your Strategy Class"
   ]
  },
  {
   "cell_type": "code",
   "execution_count": 5,
   "id": "970f3a44",
   "metadata": {},
   "outputs": [],
   "source": [
    "from backtesting import Backtest, Strategy"
   ]
  },
  {
   "cell_type": "code",
   "execution_count": null,
   "id": "f26ef02a",
   "metadata": {},
   "outputs": [],
   "source": [
    "Backtest(???)"
   ]
  },
  {
   "cell_type": "code",
   "execution_count": 6,
   "id": "52b18ab3",
   "metadata": {},
   "outputs": [],
   "source": [
    "df_explanatory = df.drop(columns=['change_tomorrow', 'change_tomorrow_direction'])"
   ]
  },
  {
   "cell_type": "code",
   "execution_count": 7,
   "id": "c244a9a3",
   "metadata": {},
   "outputs": [
    {
     "data": {
      "text/plain": [
       "array(['UP', 'UP', 'UP', ..., 'UP', 'UP', 'UP'], dtype=object)"
      ]
     },
     "execution_count": 7,
     "metadata": {},
     "output_type": "execute_result"
    }
   ],
   "source": [
    "model_dt.predict(X=df_explanatory)"
   ]
  },
  {
   "attachments": {},
   "cell_type": "markdown",
   "id": "ca33bf67-3480-453f-989b-9cf9c74410bd",
   "metadata": {},
   "source": [
    "#### Simulate the prediction for the last observation"
   ]
  },
  {
   "cell_type": "code",
   "execution_count": 10,
   "id": "8d76ace4-ad8a-4664-b41e-cc7521750481",
   "metadata": {},
   "outputs": [],
   "source": [
    "explanatory_today = df_explanatory.iloc[[-1],:]"
   ]
  },
  {
   "cell_type": "code",
   "execution_count": 13,
   "id": "90883281",
   "metadata": {},
   "outputs": [],
   "source": [
    "forecast_tomorrow = model_dt.predict(explanatory_today)[0]"
   ]
  },
  {
   "attachments": {},
   "cell_type": "markdown",
   "id": "d6458f0b-8870-425f-9035-54993f321639",
   "metadata": {},
   "source": [
    "#### Write the prediction process in the Strategy class"
   ]
  },
  {
   "cell_type": "code",
   "execution_count": null,
   "id": "0bc69f66-fb5f-4913-9e83-d5f43ac8b45b",
   "metadata": {},
   "outputs": [],
   "source": [
    "class ClassificationUP(Strategy):\n",
    "    def init(self):\n",
    "        self.model = model_dt\n",
    "\n",
    "    def next(self):\n",
    "        explanatory_today = df_explanatory.iloc[[-1],:]\n",
    "        forecast_tomorrow = model_dt.predict(explanatory_today)[0]\n",
    "        \n",
    "        # conditions to sell or buy"
   ]
  },
  {
   "attachments": {},
   "cell_type": "markdown",
   "id": "f82e9998-9458-4ea5-8760-aa8914d25c83",
   "metadata": {},
   "source": [
    "#### Calculate Purchase Recommendation"
   ]
  },
  {
   "attachments": {},
   "cell_type": "markdown",
   "id": "dbcd713b-1a6c-464b-94c3-864da2e215d6",
   "metadata": {},
   "source": [
    "##### Buy if it goes up"
   ]
  },
  {
   "cell_type": "code",
   "execution_count": 17,
   "id": "81ee857b",
   "metadata": {},
   "outputs": [],
   "source": [
    "list_buy_sell = []"
   ]
  },
  {
   "cell_type": "code",
   "execution_count": 18,
   "id": "4e9c4632",
   "metadata": {},
   "outputs": [],
   "source": [
    "for tomorrow_direction in df.change_tomorrow_direction:\n",
    "  if tomorrow_direction =='UP':\n",
    "    list_buy_sell.append(1)\n",
    "\n",
    "  elif tomorrow_direction =='DOWN':\n",
    "    list_buy_sell.append(-1)"
   ]
  },
  {
   "cell_type": "code",
   "execution_count": 19,
   "id": "11463848",
   "metadata": {},
   "outputs": [],
   "source": [
    "df['buy_sell'] = list_buy_sell"
   ]
  },
  {
   "cell_type": "code",
   "execution_count": 21,
   "id": "d23fe4e0-52e9-44f9-bb5a-4c80f83de549",
   "metadata": {},
   "outputs": [
    {
     "data": {
      "text/html": [
       "<div>\n",
       "<style scoped>\n",
       "    .dataframe tbody tr th:only-of-type {\n",
       "        vertical-align: middle;\n",
       "    }\n",
       "\n",
       "    .dataframe tbody tr th {\n",
       "        vertical-align: top;\n",
       "    }\n",
       "\n",
       "    .dataframe thead th {\n",
       "        text-align: right;\n",
       "    }\n",
       "</style>\n",
       "<table border=\"1\" class=\"dataframe\">\n",
       "  <thead>\n",
       "    <tr style=\"text-align: right;\">\n",
       "      <th></th>\n",
       "      <th>change_tomorrow_direction</th>\n",
       "      <th>buy_sell</th>\n",
       "    </tr>\n",
       "    <tr>\n",
       "      <th>Date</th>\n",
       "      <th></th>\n",
       "      <th></th>\n",
       "    </tr>\n",
       "  </thead>\n",
       "  <tbody>\n",
       "    <tr>\n",
       "      <th>2016-12-08</th>\n",
       "      <td>UP</td>\n",
       "      <td>1</td>\n",
       "    </tr>\n",
       "    <tr>\n",
       "      <th>2016-12-09</th>\n",
       "      <td>UP</td>\n",
       "      <td>1</td>\n",
       "    </tr>\n",
       "    <tr>\n",
       "      <th>2016-12-12</th>\n",
       "      <td>UP</td>\n",
       "      <td>1</td>\n",
       "    </tr>\n",
       "    <tr>\n",
       "      <th>2016-12-13</th>\n",
       "      <td>DOWN</td>\n",
       "      <td>-1</td>\n",
       "    </tr>\n",
       "    <tr>\n",
       "      <th>2016-12-14</th>\n",
       "      <td>DOWN</td>\n",
       "      <td>-1</td>\n",
       "    </tr>\n",
       "    <tr>\n",
       "      <th>2016-12-15</th>\n",
       "      <td>DOWN</td>\n",
       "      <td>-1</td>\n",
       "    </tr>\n",
       "    <tr>\n",
       "      <th>2016-12-16</th>\n",
       "      <td>UP</td>\n",
       "      <td>1</td>\n",
       "    </tr>\n",
       "    <tr>\n",
       "      <th>2016-12-19</th>\n",
       "      <td>DOWN</td>\n",
       "      <td>-1</td>\n",
       "    </tr>\n",
       "    <tr>\n",
       "      <th>2016-12-20</th>\n",
       "      <td>DOWN</td>\n",
       "      <td>-1</td>\n",
       "    </tr>\n",
       "    <tr>\n",
       "      <th>2016-12-21</th>\n",
       "      <td>UP</td>\n",
       "      <td>1</td>\n",
       "    </tr>\n",
       "  </tbody>\n",
       "</table>\n",
       "</div>"
      ],
      "text/plain": [
       "           change_tomorrow_direction  buy_sell\n",
       "Date                                          \n",
       "2016-12-08                        UP         1\n",
       "2016-12-09                        UP         1\n",
       "2016-12-12                        UP         1\n",
       "2016-12-13                      DOWN        -1\n",
       "2016-12-14                      DOWN        -1\n",
       "2016-12-15                      DOWN        -1\n",
       "2016-12-16                        UP         1\n",
       "2016-12-19                      DOWN        -1\n",
       "2016-12-20                      DOWN        -1\n",
       "2016-12-21                        UP         1"
      ]
     },
     "execution_count": 21,
     "metadata": {},
     "output_type": "execute_result"
    }
   ],
   "source": [
    "df[['change_tomorrow_direction', 'buy_sell']].head(10)"
   ]
  },
  {
   "attachments": {},
   "cell_type": "markdown",
   "id": "320bc188-067d-47b3-9d85-d6e37433209a",
   "metadata": {},
   "source": [
    "##### Buy if it goes and sell if down\n",
    "\n",
    "> You can only sell if you have already bought"
   ]
  },
  {
   "cell_type": "code",
   "execution_count": 22,
   "id": "f4ffc4cb-ea68-4341-89e5-b132cb2399c1",
   "metadata": {},
   "outputs": [],
   "source": [
    "list_buy_sell = []\n",
    "already_bought = False"
   ]
  },
  {
   "cell_type": "code",
   "execution_count": 23,
   "id": "a4a22423",
   "metadata": {},
   "outputs": [],
   "source": [
    "for tomorrow_direction in df.change_tomorrow_direction:\n",
    "  if tomorrow_direction =='UP' and already_bought==False:\n",
    "    list_buy_sell.append(1)\n",
    "    already_bought = True\n",
    "\n",
    "  elif tomorrow_direction =='DOWN' and already_bought:\n",
    "    list_buy_sell.append(-1)\n",
    "    already_bought = False\n",
    "\n",
    "  else:\n",
    "    list_buy_sell.append(0)"
   ]
  },
  {
   "cell_type": "code",
   "execution_count": 24,
   "id": "f5efff0a",
   "metadata": {},
   "outputs": [],
   "source": [
    "df['buy_sell_track'] = list_buy_sell"
   ]
  },
  {
   "cell_type": "code",
   "execution_count": 25,
   "id": "46321a7c",
   "metadata": {},
   "outputs": [
    {
     "data": {
      "text/html": [
       "<div>\n",
       "<style scoped>\n",
       "    .dataframe tbody tr th:only-of-type {\n",
       "        vertical-align: middle;\n",
       "    }\n",
       "\n",
       "    .dataframe tbody tr th {\n",
       "        vertical-align: top;\n",
       "    }\n",
       "\n",
       "    .dataframe thead th {\n",
       "        text-align: right;\n",
       "    }\n",
       "</style>\n",
       "<table border=\"1\" class=\"dataframe\">\n",
       "  <thead>\n",
       "    <tr style=\"text-align: right;\">\n",
       "      <th></th>\n",
       "      <th>change_tomorrow_direction</th>\n",
       "      <th>buy_sell</th>\n",
       "      <th>buy_sell_track</th>\n",
       "    </tr>\n",
       "    <tr>\n",
       "      <th>Date</th>\n",
       "      <th></th>\n",
       "      <th></th>\n",
       "      <th></th>\n",
       "    </tr>\n",
       "  </thead>\n",
       "  <tbody>\n",
       "    <tr>\n",
       "      <th>2016-12-08</th>\n",
       "      <td>UP</td>\n",
       "      <td>1</td>\n",
       "      <td>1</td>\n",
       "    </tr>\n",
       "    <tr>\n",
       "      <th>2016-12-09</th>\n",
       "      <td>UP</td>\n",
       "      <td>1</td>\n",
       "      <td>0</td>\n",
       "    </tr>\n",
       "    <tr>\n",
       "      <th>2016-12-12</th>\n",
       "      <td>UP</td>\n",
       "      <td>1</td>\n",
       "      <td>0</td>\n",
       "    </tr>\n",
       "    <tr>\n",
       "      <th>2016-12-13</th>\n",
       "      <td>DOWN</td>\n",
       "      <td>-1</td>\n",
       "      <td>-1</td>\n",
       "    </tr>\n",
       "    <tr>\n",
       "      <th>2016-12-14</th>\n",
       "      <td>DOWN</td>\n",
       "      <td>-1</td>\n",
       "      <td>0</td>\n",
       "    </tr>\n",
       "    <tr>\n",
       "      <th>2016-12-15</th>\n",
       "      <td>DOWN</td>\n",
       "      <td>-1</td>\n",
       "      <td>0</td>\n",
       "    </tr>\n",
       "    <tr>\n",
       "      <th>2016-12-16</th>\n",
       "      <td>UP</td>\n",
       "      <td>1</td>\n",
       "      <td>1</td>\n",
       "    </tr>\n",
       "    <tr>\n",
       "      <th>2016-12-19</th>\n",
       "      <td>DOWN</td>\n",
       "      <td>-1</td>\n",
       "      <td>-1</td>\n",
       "    </tr>\n",
       "    <tr>\n",
       "      <th>2016-12-20</th>\n",
       "      <td>DOWN</td>\n",
       "      <td>-1</td>\n",
       "      <td>0</td>\n",
       "    </tr>\n",
       "    <tr>\n",
       "      <th>2016-12-21</th>\n",
       "      <td>UP</td>\n",
       "      <td>1</td>\n",
       "      <td>1</td>\n",
       "    </tr>\n",
       "  </tbody>\n",
       "</table>\n",
       "</div>"
      ],
      "text/plain": [
       "           change_tomorrow_direction  buy_sell  buy_sell_track\n",
       "Date                                                          \n",
       "2016-12-08                        UP         1               1\n",
       "2016-12-09                        UP         1               0\n",
       "2016-12-12                        UP         1               0\n",
       "2016-12-13                      DOWN        -1              -1\n",
       "2016-12-14                      DOWN        -1               0\n",
       "2016-12-15                      DOWN        -1               0\n",
       "2016-12-16                        UP         1               1\n",
       "2016-12-19                      DOWN        -1              -1\n",
       "2016-12-20                      DOWN        -1               0\n",
       "2016-12-21                        UP         1               1"
      ]
     },
     "execution_count": 25,
     "metadata": {},
     "output_type": "execute_result"
    }
   ],
   "source": [
    "df[['change_tomorrow_direction', 'buy_sell', 'buy_sell_track']].head(10)"
   ]
  },
  {
   "attachments": {},
   "cell_type": "markdown",
   "id": "e702e032-a716-49ea-ad87-490ed4518ff3",
   "metadata": {},
   "source": [
    "#### Add conditions to the strategy"
   ]
  },
  {
   "cell_type": "code",
   "execution_count": 26,
   "id": "58bdac4e-096d-478d-9b2f-c17552d2a6bd",
   "metadata": {},
   "outputs": [],
   "source": [
    "class ClassificationUP(Strategy):\n",
    "    def init(self):\n",
    "        self.model = model_dt\n",
    "        self.already_bought = False\n",
    "\n",
    "    def next(self):\n",
    "        explanatory_today = self.data.df.iloc[[-1],:]\n",
    "        forecast_tomorrow = model_dt.predict(explanatory_today)[0]\n",
    "        \n",
    "        # conditions to sell or buy\n",
    "        if forecast_tomorrow =='UP' and self.already_bought==False:\n",
    "            self.buy()\n",
    "            self.already_bought = True\n",
    "\n",
    "        elif forecast_tomorrow =='DOWN' and self.already_bought:\n",
    "            self.sell()\n",
    "            self.already_bought = False\n",
    "\n",
    "        else:\n",
    "            pass"
   ]
  },
  {
   "attachments": {},
   "cell_type": "markdown",
   "id": "5a71cfae-bdd6-420f-8fce-30ab56f727d4",
   "metadata": {},
   "source": [
    "### Define initial conditions"
   ]
  },
  {
   "cell_type": "code",
   "execution_count": 27,
   "id": "888bbeeb-0ae8-4914-8f4f-cc9bef8a8db5",
   "metadata": {},
   "outputs": [],
   "source": [
    "bt = Backtest(data = df_explanatory, strategy=ClassificationUP,\n",
    "              cash=10000, commission=.002, exclusive_orders=True)"
   ]
  },
  {
   "attachments": {},
   "cell_type": "markdown",
   "id": "31cddd13",
   "metadata": {},
   "source": [
    "### Run backtesting"
   ]
  },
  {
   "cell_type": "code",
   "execution_count": 29,
   "id": "5c51ad85",
   "metadata": {},
   "outputs": [],
   "source": [
    "results = bt.run()"
   ]
  },
  {
   "attachments": {},
   "cell_type": "markdown",
   "id": "ab6e1b72-689d-4b91-8ec2-4d6d840d3c10",
   "metadata": {},
   "source": [
    "### Interpret backtesting results"
   ]
  },
  {
   "cell_type": "code",
   "execution_count": 30,
   "id": "6aafb264-9f33-42e7-a567-610699f84217",
   "metadata": {},
   "outputs": [
    {
     "data": {
      "text/html": [
       "<div>\n",
       "<style scoped>\n",
       "    .dataframe tbody tr th:only-of-type {\n",
       "        vertical-align: middle;\n",
       "    }\n",
       "\n",
       "    .dataframe tbody tr th {\n",
       "        vertical-align: top;\n",
       "    }\n",
       "\n",
       "    .dataframe thead th {\n",
       "        text-align: right;\n",
       "    }\n",
       "</style>\n",
       "<table border=\"1\" class=\"dataframe\">\n",
       "  <thead>\n",
       "    <tr style=\"text-align: right;\">\n",
       "      <th></th>\n",
       "      <th>Values</th>\n",
       "    </tr>\n",
       "  </thead>\n",
       "  <tbody>\n",
       "    <tr>\n",
       "      <th>Start</th>\n",
       "      <td>2016-12-08 00:00:00</td>\n",
       "    </tr>\n",
       "    <tr>\n",
       "      <th>End</th>\n",
       "      <td>2023-12-22 00:00:00</td>\n",
       "    </tr>\n",
       "    <tr>\n",
       "      <th>Duration</th>\n",
       "      <td>2570 days 00:00:00</td>\n",
       "    </tr>\n",
       "    <tr>\n",
       "      <th>Exposure Time [%]</th>\n",
       "      <td>99.887133</td>\n",
       "    </tr>\n",
       "    <tr>\n",
       "      <th>Equity Final [$]</th>\n",
       "      <td>60189.55283</td>\n",
       "    </tr>\n",
       "    <tr>\n",
       "      <th>Equity Peak [$]</th>\n",
       "      <td>61641.775975</td>\n",
       "    </tr>\n",
       "    <tr>\n",
       "      <th>Return [%]</th>\n",
       "      <td>501.895528</td>\n",
       "    </tr>\n",
       "  </tbody>\n",
       "</table>\n",
       "</div>"
      ],
      "text/plain": [
       "                                Values\n",
       "Start              2016-12-08 00:00:00\n",
       "End                2023-12-22 00:00:00\n",
       "Duration            2570 days 00:00:00\n",
       "Exposure Time [%]            99.887133\n",
       "Equity Final [$]           60189.55283\n",
       "Equity Peak [$]           61641.775975\n",
       "Return [%]                  501.895528"
      ]
     },
     "execution_count": 30,
     "metadata": {},
     "output_type": "execute_result"
    }
   ],
   "source": [
    "results.to_frame(name='Values').loc[:'Return [%]']"
   ]
  },
  {
   "cell_type": "code",
   "execution_count": 31,
   "id": "596f7333",
   "metadata": {},
   "outputs": [
    {
     "data": {
      "text/plain": [
       "<Axes: xlabel='Date'>"
      ]
     },
     "execution_count": 31,
     "metadata": {},
     "output_type": "execute_result"
    },
    {
     "data": {
      "image/png": "[encoded data removed]",
      "text/plain": [
       "<Figure size 640x480 with 1 Axes>"
      ]
     },
     "metadata": {},
     "output_type": "display_data"
    }
   ],
   "source": [
    "df.Close.plot()"
   ]
  },
  {
   "attachments": {},
   "cell_type": "markdown",
   "id": "c8dfd6b8",
   "metadata": {},
   "source": [
    "## Practice to master the knowledge\n",
    "\n",
    "Work on the challenge with another dataset:\n",
    "\n",
    "1. Learn the <a>mental models</a> to solve the challenge faster.\n",
    "2. Complete the <a href=\"03C_Backtesting ML Classification-Based.ipynb\">notebook</a>."
   ]
  }
 ],
 "metadata": {
  "kernelspec": {
   "display_name": "Python 3 (ipykernel)",
   "language": "python",
   "name": "python3"
  },
  "language_info": {
   "codemirror_mode": {
    "name": "ipython",
    "version": 3
   },
   "file_extension": ".py",
   "mimetype": "text/x-python",
   "name": "python",
   "nbconvert_exporter": "python",
   "pygments_lexer": "ipython3",
   "version": "3.10.12"
  }
 },
 "nbformat": 4,
 "nbformat_minor": 5
}
