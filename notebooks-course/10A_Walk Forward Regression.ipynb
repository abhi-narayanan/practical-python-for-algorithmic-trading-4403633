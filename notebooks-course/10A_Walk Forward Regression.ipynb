{
 "cells": [
  {
   "attachments": {},
   "cell_type": "markdown",
   "id": "eefba2db-9f60-42d8-a4f0-1e3c95efbcc1",
   "metadata": {
    "tags": []
   },
   "source": [
    "# Walk Forward: A Realistic Approach to Backtesting"
   ]
  },
  {
   "cell_type": "code",
   "execution_count": null,
   "id": "3d15e41b",
   "metadata": {},
   "outputs": [],
   "source": [
    "???"
   ]
  },
  {
   "attachments": {},
   "cell_type": "markdown",
   "id": "2cbbd389-c68c-4a3c-b37b-04ce831736ae",
   "metadata": {},
   "source": [
    "![](<src/10_Table_Validation Methods.png>)"
   ]
  },
  {
   "attachments": {},
   "cell_type": "markdown",
   "id": "bbaab23b-8ecd-4dd7-b234-bca3866046a6",
   "metadata": {},
   "source": [
    "## Load the data"
   ]
  },
  {
   "cell_type": "code",
   "execution_count": 2,
   "id": "ab861230-5583-46dd-afb6-ba432e1cb765",
   "metadata": {},
   "outputs": [
    {
     "data": {
      "text/html": [
       "<div>\n",
       "<style scoped>\n",
       "    .dataframe tbody tr th:only-of-type {\n",
       "        vertical-align: middle;\n",
       "    }\n",
       "\n",
       "    .dataframe tbody tr th {\n",
       "        vertical-align: top;\n",
       "    }\n",
       "\n",
       "    .dataframe thead th {\n",
       "        text-align: right;\n",
       "    }\n",
       "</style>\n",
       "<table border=\"1\" class=\"dataframe\">\n",
       "  <thead>\n",
       "    <tr style=\"text-align: right;\">\n",
       "      <th></th>\n",
       "      <th>Open</th>\n",
       "      <th>High</th>\n",
       "      <th>Low</th>\n",
       "      <th>Close</th>\n",
       "      <th>Adj Close</th>\n",
       "      <th>Volume</th>\n",
       "      <th>change_tomorrow</th>\n",
       "    </tr>\n",
       "    <tr>\n",
       "      <th>Date</th>\n",
       "      <th></th>\n",
       "      <th></th>\n",
       "      <th></th>\n",
       "      <th></th>\n",
       "      <th></th>\n",
       "      <th></th>\n",
       "      <th></th>\n",
       "    </tr>\n",
       "  </thead>\n",
       "  <tbody>\n",
       "    <tr>\n",
       "      <th>2016-12-08</th>\n",
       "      <td>61.299999</td>\n",
       "      <td>61.580002</td>\n",
       "      <td>60.840000</td>\n",
       "      <td>61.009998</td>\n",
       "      <td>55.705235</td>\n",
       "      <td>21220800</td>\n",
       "      <td>1.549141</td>\n",
       "    </tr>\n",
       "    <tr>\n",
       "      <th>2016-12-09</th>\n",
       "      <td>61.180000</td>\n",
       "      <td>61.990002</td>\n",
       "      <td>61.130001</td>\n",
       "      <td>61.970001</td>\n",
       "      <td>56.581772</td>\n",
       "      <td>27349400</td>\n",
       "      <td>0.321694</td>\n",
       "    </tr>\n",
       "    <tr>\n",
       "      <th>2016-12-12</th>\n",
       "      <td>61.820000</td>\n",
       "      <td>62.299999</td>\n",
       "      <td>61.720001</td>\n",
       "      <td>62.169998</td>\n",
       "      <td>56.764374</td>\n",
       "      <td>20198100</td>\n",
       "      <td>1.286125</td>\n",
       "    </tr>\n",
       "    <tr>\n",
       "      <th>2016-12-13</th>\n",
       "      <td>62.500000</td>\n",
       "      <td>63.419998</td>\n",
       "      <td>62.240002</td>\n",
       "      <td>62.980000</td>\n",
       "      <td>57.503944</td>\n",
       "      <td>35718900</td>\n",
       "      <td>-0.478620</td>\n",
       "    </tr>\n",
       "    <tr>\n",
       "      <th>2016-12-14</th>\n",
       "      <td>63.000000</td>\n",
       "      <td>63.450001</td>\n",
       "      <td>62.529999</td>\n",
       "      <td>62.680000</td>\n",
       "      <td>57.230022</td>\n",
       "      <td>30352700</td>\n",
       "      <td>-0.159793</td>\n",
       "    </tr>\n",
       "    <tr>\n",
       "      <th>...</th>\n",
       "      <td>...</td>\n",
       "      <td>...</td>\n",
       "      <td>...</td>\n",
       "      <td>...</td>\n",
       "      <td>...</td>\n",
       "      <td>...</td>\n",
       "      <td>...</td>\n",
       "    </tr>\n",
       "    <tr>\n",
       "      <th>2023-12-18</th>\n",
       "      <td>369.450012</td>\n",
       "      <td>373.000000</td>\n",
       "      <td>368.679993</td>\n",
       "      <td>372.649994</td>\n",
       "      <td>372.649994</td>\n",
       "      <td>21802900</td>\n",
       "      <td>0.163429</td>\n",
       "    </tr>\n",
       "    <tr>\n",
       "      <th>2023-12-19</th>\n",
       "      <td>371.489990</td>\n",
       "      <td>373.260010</td>\n",
       "      <td>369.839996</td>\n",
       "      <td>373.260010</td>\n",
       "      <td>373.260010</td>\n",
       "      <td>20603700</td>\n",
       "      <td>-0.712324</td>\n",
       "    </tr>\n",
       "    <tr>\n",
       "      <th>2023-12-20</th>\n",
       "      <td>375.000000</td>\n",
       "      <td>376.029999</td>\n",
       "      <td>370.529999</td>\n",
       "      <td>370.619995</td>\n",
       "      <td>370.619995</td>\n",
       "      <td>26316700</td>\n",
       "      <td>0.781714</td>\n",
       "    </tr>\n",
       "    <tr>\n",
       "      <th>2023-12-21</th>\n",
       "      <td>372.559998</td>\n",
       "      <td>374.410004</td>\n",
       "      <td>370.040009</td>\n",
       "      <td>373.540009</td>\n",
       "      <td>373.540009</td>\n",
       "      <td>17708000</td>\n",
       "      <td>0.277638</td>\n",
       "    </tr>\n",
       "    <tr>\n",
       "      <th>2023-12-22</th>\n",
       "      <td>373.679993</td>\n",
       "      <td>375.179993</td>\n",
       "      <td>372.709991</td>\n",
       "      <td>374.579987</td>\n",
       "      <td>374.579987</td>\n",
       "      <td>17091100</td>\n",
       "      <td>0.021357</td>\n",
       "    </tr>\n",
       "  </tbody>\n",
       "</table>\n",
       "<p>1772 rows × 7 columns</p>\n",
       "</div>"
      ],
      "text/plain": [
       "                  Open        High         Low       Close   Adj Close  \\\n",
       "Date                                                                     \n",
       "2016-12-08   61.299999   61.580002   60.840000   61.009998   55.705235   \n",
       "2016-12-09   61.180000   61.990002   61.130001   61.970001   56.581772   \n",
       "2016-12-12   61.820000   62.299999   61.720001   62.169998   56.764374   \n",
       "2016-12-13   62.500000   63.419998   62.240002   62.980000   57.503944   \n",
       "2016-12-14   63.000000   63.450001   62.529999   62.680000   57.230022   \n",
       "...                ...         ...         ...         ...         ...   \n",
       "2023-12-18  369.450012  373.000000  368.679993  372.649994  372.649994   \n",
       "2023-12-19  371.489990  373.260010  369.839996  373.260010  373.260010   \n",
       "2023-12-20  375.000000  376.029999  370.529999  370.619995  370.619995   \n",
       "2023-12-21  372.559998  374.410004  370.040009  373.540009  373.540009   \n",
       "2023-12-22  373.679993  375.179993  372.709991  374.579987  374.579987   \n",
       "\n",
       "              Volume  change_tomorrow  \n",
       "Date                                   \n",
       "2016-12-08  21220800         1.549141  \n",
       "2016-12-09  27349400         0.321694  \n",
       "2016-12-12  20198100         1.286125  \n",
       "2016-12-13  35718900        -0.478620  \n",
       "2016-12-14  30352700        -0.159793  \n",
       "...              ...              ...  \n",
       "2023-12-18  21802900         0.163429  \n",
       "2023-12-19  20603700        -0.712324  \n",
       "2023-12-20  26316700         0.781714  \n",
       "2023-12-21  17708000         0.277638  \n",
       "2023-12-22  17091100         0.021357  \n",
       "\n",
       "[1772 rows x 7 columns]"
      ]
     },
     "execution_count": 2,
     "metadata": {},
     "output_type": "execute_result"
    }
   ],
   "source": [
    "import pandas as pd\n",
    "\n",
    "df = pd.read_excel('data/Microsoft_LinkedIn_Processed.xlsx', parse_dates=['Date'], index_col=0)\n",
    "df = df.drop(columns='change_tomorrow_direction')\n",
    "df"
   ]
  },
  {
   "attachments": {},
   "cell_type": "markdown",
   "id": "6727b5de-2ebf-4c69-b394-3d05b810c4e3",
   "metadata": {},
   "source": [
    "## Walk Forward Validation"
   ]
  },
  {
   "attachments": {},
   "cell_type": "markdown",
   "id": "4166d62a-ce20-4983-a6e1-a21104257369",
   "metadata": {},
   "source": [
    "### How `TimeSeriesSplit` works"
   ]
  },
  {
   "cell_type": "code",
   "execution_count": 1,
   "id": "beb195e5",
   "metadata": {},
   "outputs": [],
   "source": [
    "from sklearn.model_selection import TimeSeriesSplit"
   ]
  },
  {
   "cell_type": "code",
   "execution_count": 3,
   "id": "dda9f18b",
   "metadata": {},
   "outputs": [],
   "source": [
    "ts = TimeSeriesSplit(test_size=200)\n",
    "splits = ts.split(X=df)"
   ]
  },
  {
   "cell_type": "code",
   "execution_count": 5,
   "id": "1a29dc00",
   "metadata": {},
   "outputs": [
    {
     "data": {
      "text/plain": [
       "(array([  0,   1,   2,   3,   4,   5,   6,   7,   8,   9,  10,  11,  12,\n",
       "         13,  14,  15,  16,  17,  18,  19,  20,  21,  22,  23,  24,  25,\n",
       "         26,  27,  28,  29,  30,  31,  32,  33,  34,  35,  36,  37,  38,\n",
       "         39,  40,  41,  42,  43,  44,  45,  46,  47,  48,  49,  50,  51,\n",
       "         52,  53,  54,  55,  56,  57,  58,  59,  60,  61,  62,  63,  64,\n",
       "         65,  66,  67,  68,  69,  70,  71,  72,  73,  74,  75,  76,  77,\n",
       "         78,  79,  80,  81,  82,  83,  84,  85,  86,  87,  88,  89,  90,\n",
       "         91,  92,  93,  94,  95,  96,  97,  98,  99, 100, 101, 102, 103,\n",
       "        104, 105, 106, 107, 108, 109, 110, 111, 112, 113, 114, 115, 116,\n",
       "        117, 118, 119, 120, 121, 122, 123, 124, 125, 126, 127, 128, 129,\n",
       "        130, 131, 132, 133, 134, 135, 136, 137, 138, 139, 140, 141, 142,\n",
       "        143, 144, 145, 146, 147, 148, 149, 150, 151, 152, 153, 154, 155,\n",
       "        156, 157, 158, 159, 160, 161, 162, 163, 164, 165, 166, 167, 168,\n",
       "        169, 170, 171, 172, 173, 174, 175, 176, 177, 178, 179, 180, 181,\n",
       "        182, 183, 184, 185, 186, 187, 188, 189, 190, 191, 192, 193, 194,\n",
       "        195, 196, 197, 198, 199, 200, 201, 202, 203, 204, 205, 206, 207,\n",
       "        208, 209, 210, 211, 212, 213, 214, 215, 216, 217, 218, 219, 220,\n",
       "        221, 222, 223, 224, 225, 226, 227, 228, 229, 230, 231, 232, 233,\n",
       "        234, 235, 236, 237, 238, 239, 240, 241, 242, 243, 244, 245, 246,\n",
       "        247, 248, 249, 250, 251, 252, 253, 254, 255, 256, 257, 258, 259,\n",
       "        260, 261, 262, 263, 264, 265, 266, 267, 268, 269, 270, 271, 272,\n",
       "        273, 274, 275, 276, 277, 278, 279, 280, 281, 282, 283, 284, 285,\n",
       "        286, 287, 288, 289, 290, 291, 292, 293, 294, 295, 296, 297, 298,\n",
       "        299, 300, 301, 302, 303, 304, 305, 306, 307, 308, 309, 310, 311,\n",
       "        312, 313, 314, 315, 316, 317, 318, 319, 320, 321, 322, 323, 324,\n",
       "        325, 326, 327, 328, 329, 330, 331, 332, 333, 334, 335, 336, 337,\n",
       "        338, 339, 340, 341, 342, 343, 344, 345, 346, 347, 348, 349, 350,\n",
       "        351, 352, 353, 354, 355, 356, 357, 358, 359, 360, 361, 362, 363,\n",
       "        364, 365, 366, 367, 368, 369, 370, 371, 372, 373, 374, 375, 376,\n",
       "        377, 378, 379, 380, 381, 382, 383, 384, 385, 386, 387, 388, 389,\n",
       "        390, 391, 392, 393, 394, 395, 396, 397, 398, 399, 400, 401, 402,\n",
       "        403, 404, 405, 406, 407, 408, 409, 410, 411, 412, 413, 414, 415,\n",
       "        416, 417, 418, 419, 420, 421, 422, 423, 424, 425, 426, 427, 428,\n",
       "        429, 430, 431, 432, 433, 434, 435, 436, 437, 438, 439, 440, 441,\n",
       "        442, 443, 444, 445, 446, 447, 448, 449, 450, 451, 452, 453, 454,\n",
       "        455, 456, 457, 458, 459, 460, 461, 462, 463, 464, 465, 466, 467,\n",
       "        468, 469, 470, 471, 472, 473, 474, 475, 476, 477, 478, 479, 480,\n",
       "        481, 482, 483, 484, 485, 486, 487, 488, 489, 490, 491, 492, 493,\n",
       "        494, 495, 496, 497, 498, 499, 500, 501, 502, 503, 504, 505, 506,\n",
       "        507, 508, 509, 510, 511, 512, 513, 514, 515, 516, 517, 518, 519,\n",
       "        520, 521, 522, 523, 524, 525, 526, 527, 528, 529, 530, 531, 532,\n",
       "        533, 534, 535, 536, 537, 538, 539, 540, 541, 542, 543, 544, 545,\n",
       "        546, 547, 548, 549, 550, 551, 552, 553, 554, 555, 556, 557, 558,\n",
       "        559, 560, 561, 562, 563, 564, 565, 566, 567, 568, 569, 570, 571,\n",
       "        572, 573, 574, 575, 576, 577, 578, 579, 580, 581, 582, 583, 584,\n",
       "        585, 586, 587, 588, 589, 590, 591, 592, 593, 594, 595, 596, 597,\n",
       "        598, 599, 600, 601, 602, 603, 604, 605, 606, 607, 608, 609, 610,\n",
       "        611, 612, 613, 614, 615, 616, 617, 618, 619, 620, 621, 622, 623,\n",
       "        624, 625, 626, 627, 628, 629, 630, 631, 632, 633, 634, 635, 636,\n",
       "        637, 638, 639, 640, 641, 642, 643, 644, 645, 646, 647, 648, 649,\n",
       "        650, 651, 652, 653, 654, 655, 656, 657, 658, 659, 660, 661, 662,\n",
       "        663, 664, 665, 666, 667, 668, 669, 670, 671, 672, 673, 674, 675,\n",
       "        676, 677, 678, 679, 680, 681, 682, 683, 684, 685, 686, 687, 688,\n",
       "        689, 690, 691, 692, 693, 694, 695, 696, 697, 698, 699, 700, 701,\n",
       "        702, 703, 704, 705, 706, 707, 708, 709, 710, 711, 712, 713, 714,\n",
       "        715, 716, 717, 718, 719, 720, 721, 722, 723, 724, 725, 726, 727,\n",
       "        728, 729, 730, 731, 732, 733, 734, 735, 736, 737, 738, 739, 740,\n",
       "        741, 742, 743, 744, 745, 746, 747, 748, 749, 750, 751, 752, 753,\n",
       "        754, 755, 756, 757, 758, 759, 760, 761, 762, 763, 764, 765, 766,\n",
       "        767, 768, 769, 770, 771, 772, 773, 774, 775, 776, 777, 778, 779,\n",
       "        780, 781, 782, 783, 784, 785, 786, 787, 788, 789, 790, 791, 792,\n",
       "        793, 794, 795, 796, 797, 798, 799, 800, 801, 802, 803, 804, 805,\n",
       "        806, 807, 808, 809, 810, 811, 812, 813, 814, 815, 816, 817, 818,\n",
       "        819, 820, 821, 822, 823, 824, 825, 826, 827, 828, 829, 830, 831,\n",
       "        832, 833, 834, 835, 836, 837, 838, 839, 840, 841, 842, 843, 844,\n",
       "        845, 846, 847, 848, 849, 850, 851, 852, 853, 854, 855, 856, 857,\n",
       "        858, 859, 860, 861, 862, 863, 864, 865, 866, 867, 868, 869, 870,\n",
       "        871, 872, 873, 874, 875, 876, 877, 878, 879, 880, 881, 882, 883,\n",
       "        884, 885, 886, 887, 888, 889, 890, 891, 892, 893, 894, 895, 896,\n",
       "        897, 898, 899, 900, 901, 902, 903, 904, 905, 906, 907, 908, 909,\n",
       "        910, 911, 912, 913, 914, 915, 916, 917, 918, 919, 920, 921, 922,\n",
       "        923, 924, 925, 926, 927, 928, 929, 930, 931, 932, 933, 934, 935,\n",
       "        936, 937, 938, 939, 940, 941, 942, 943, 944, 945, 946, 947, 948,\n",
       "        949, 950, 951, 952, 953, 954, 955, 956, 957, 958, 959, 960, 961,\n",
       "        962, 963, 964, 965, 966, 967, 968, 969, 970, 971]),\n",
       " array([ 972,  973,  974,  975,  976,  977,  978,  979,  980,  981,  982,\n",
       "         983,  984,  985,  986,  987,  988,  989,  990,  991,  992,  993,\n",
       "         994,  995,  996,  997,  998,  999, 1000, 1001, 1002, 1003, 1004,\n",
       "        1005, 1006, 1007, 1008, 1009, 1010, 1011, 1012, 1013, 1014, 1015,\n",
       "        1016, 1017, 1018, 1019, 1020, 1021, 1022, 1023, 1024, 1025, 1026,\n",
       "        1027, 1028, 1029, 1030, 1031, 1032, 1033, 1034, 1035, 1036, 1037,\n",
       "        1038, 1039, 1040, 1041, 1042, 1043, 1044, 1045, 1046, 1047, 1048,\n",
       "        1049, 1050, 1051, 1052, 1053, 1054, 1055, 1056, 1057, 1058, 1059,\n",
       "        1060, 1061, 1062, 1063, 1064, 1065, 1066, 1067, 1068, 1069, 1070,\n",
       "        1071, 1072, 1073, 1074, 1075, 1076, 1077, 1078, 1079, 1080, 1081,\n",
       "        1082, 1083, 1084, 1085, 1086, 1087, 1088, 1089, 1090, 1091, 1092,\n",
       "        1093, 1094, 1095, 1096, 1097, 1098, 1099, 1100, 1101, 1102, 1103,\n",
       "        1104, 1105, 1106, 1107, 1108, 1109, 1110, 1111, 1112, 1113, 1114,\n",
       "        1115, 1116, 1117, 1118, 1119, 1120, 1121, 1122, 1123, 1124, 1125,\n",
       "        1126, 1127, 1128, 1129, 1130, 1131, 1132, 1133, 1134, 1135, 1136,\n",
       "        1137, 1138, 1139, 1140, 1141, 1142, 1143, 1144, 1145, 1146, 1147,\n",
       "        1148, 1149, 1150, 1151, 1152, 1153, 1154, 1155, 1156, 1157, 1158,\n",
       "        1159, 1160, 1161, 1162, 1163, 1164, 1165, 1166, 1167, 1168, 1169,\n",
       "        1170, 1171]))"
      ]
     },
     "execution_count": 5,
     "metadata": {},
     "output_type": "execute_result"
    }
   ],
   "source": [
    "split2 = next(splits)\n",
    "split2"
   ]
  },
  {
   "cell_type": "code",
   "execution_count": 6,
   "id": "d8a46710",
   "metadata": {},
   "outputs": [],
   "source": [
    "list_df_train = []\n",
    "list_df_test = []\n",
    "\n",
    "for index_train, index_test in ts.split(X=df):\n",
    "    list_df_train.append(df.iloc[index_train])\n",
    "    list_df_test.append(df.iloc[index_test])"
   ]
  },
  {
   "attachments": {},
   "cell_type": "markdown",
   "id": "cb5a5fb3-4ef1-4f77-8466-6099e8538e56",
   "metadata": {},
   "source": [
    "## Machine Learning Model"
   ]
  },
  {
   "attachments": {},
   "cell_type": "markdown",
   "id": "8bbf358a-4cba-49b3-8123-e8efa2bd7242",
   "metadata": {},
   "source": [
    "### Separate the data\n",
    "\n",
    "1. Target: which variable do you want to predict?\n",
    "2. Explanatory: which variables will you use to calculate the prediction?"
   ]
  },
  {
   "cell_type": "code",
   "execution_count": 7,
   "id": "ef3796a9-334d-48b2-b516-0c1e9122dbbc",
   "metadata": {},
   "outputs": [],
   "source": [
    "y = df.change_tomorrow\n",
    "X = df[['Open','High','Low','Close','Volume']]"
   ]
  },
  {
   "cell_type": "code",
   "execution_count": 8,
   "id": "dc340c09",
   "metadata": {},
   "outputs": [],
   "source": [
    "list_df_train = []\n",
    "list_df_test = []\n",
    "\n",
    "for index_train, index_test in ts.split(df):\n",
    "    X_train, y_train = X.iloc[index_train], y.iloc[index_train]\n",
    "    X_test, y_test = X.iloc[index_test], y.iloc[index_test]"
   ]
  },
  {
   "attachments": {},
   "cell_type": "markdown",
   "id": "cc103240",
   "metadata": {},
   "source": [
    "### Simulate one computation of the ML model\n",
    "\n",
    "- Compute the model\n",
    "- Calculate predictions on the test set\n",
    "- Evaluate how good the model is"
   ]
  },
  {
   "cell_type": "code",
   "execution_count": 9,
   "id": "411f911f",
   "metadata": {},
   "outputs": [
    {
     "data": {
      "text/plain": [
       "3.4219764962040595"
      ]
     },
     "execution_count": 9,
     "metadata": {},
     "output_type": "execute_result"
    }
   ],
   "source": [
    "from sklearn.tree import DecisionTreeRegressor\n",
    "from sklearn.metrics import mean_squared_error\n",
    "\n",
    "model_dt = DecisionTreeRegressor(max_depth=15, random_state=42)\n",
    "model_dt.fit(X_train, y_train)\n",
    "\n",
    "y_pred = model_dt.predict(X_test)\n",
    "error_mse = mean_squared_error(y_test, y_pred)\n",
    "error_mse"
   ]
  },
  {
   "attachments": {},
   "cell_type": "markdown",
   "id": "1dcffb9d",
   "metadata": {},
   "source": [
    "### Add the procedure inside the for loop"
   ]
  },
  {
   "cell_type": "code",
   "execution_count": 10,
   "id": "9d693c23",
   "metadata": {},
   "outputs": [],
   "source": [
    "model_dt = DecisionTreeRegressor(max_depth=15, random_state=42)\n",
    "\n",
    "error_mse_list = []\n",
    "\n",
    "for index_train, index_test in ts.split(df):\n",
    "    \n",
    "    X_train, y_train = X.iloc[index_train], y.iloc[index_train]\n",
    "    X_test, y_test = X.iloc[index_test], y.iloc[index_test]\n",
    "\n",
    "    model_dt.fit(X_train, y_train)\n",
    "\n",
    "    y_pred = model_dt.predict(X_test)\n",
    "    error_mse = mean_squared_error(y_test, y_pred)\n",
    "\n",
    "    error_mse_list.append(error_mse)"
   ]
  },
  {
   "cell_type": "code",
   "execution_count": 11,
   "id": "d2e65816",
   "metadata": {},
   "outputs": [
    {
     "data": {
      "text/plain": [
       "[12.163689658106115,\n",
       " 33.69213503324955,\n",
       " 7.237922690463958,\n",
       " 5.342406443574685,\n",
       " 3.4219764962040595]"
      ]
     },
     "execution_count": 11,
     "metadata": {},
     "output_type": "execute_result"
    }
   ],
   "source": [
    "error_mse_list"
   ]
  },
  {
   "cell_type": "code",
   "execution_count": 12,
   "id": "037da012",
   "metadata": {},
   "outputs": [
    {
     "data": {
      "text/plain": [
       "12.371626064319674"
      ]
     },
     "execution_count": 12,
     "metadata": {},
     "output_type": "execute_result"
    }
   ],
   "source": [
    "import numpy as np\n",
    "np.mean(error_mse_list)"
   ]
  },
  {
   "attachments": {},
   "cell_type": "markdown",
   "id": "4b381ac4-c140-4150-9f95-3bff60adca2b",
   "metadata": {},
   "source": [
    "## Anchored Walk Forward evaluation in backtesting"
   ]
  },
  {
   "attachments": {},
   "cell_type": "markdown",
   "id": "9233cc82",
   "metadata": {},
   "source": [
    "![](<src/10_Table_Validation Methods.png>)"
   ]
  },
  {
   "attachments": {},
   "cell_type": "markdown",
   "id": "3e9a4d80-7db7-4f64-965f-36439ffa2fee",
   "metadata": {},
   "source": [
    "### Create a new strategy"
   ]
  },
  {
   "cell_type": "code",
   "execution_count": 18,
   "id": "be4c0515",
   "metadata": {},
   "outputs": [],
   "source": [
    "from backtesting import Backtest, Strategy"
   ]
  },
  {
   "cell_type": "code",
   "execution_count": 19,
   "id": "8ad91bb9",
   "metadata": {},
   "outputs": [],
   "source": [
    "bt = Backtest(df, Regression, cash=10000, commission=.002, exclusive_orders=True)"
   ]
  },
  {
   "cell_type": "code",
   "execution_count": 20,
   "id": "6ee2f5e0",
   "metadata": {},
   "outputs": [],
   "source": [
    "class Regression(Strategy):\n",
    "    limit_buy = 1\n",
    "    limit_sell = -5\n",
    "    n_train = 600\n",
    "    coeff_retrain = 200\n",
    "    \n",
    "    def init(self):\n",
    "        self.model = DecisionTreeRegressor(max_depth=15, random_state=42)\n",
    "        self.already_bought = False\n",
    "        \n",
    "        X_train = self.data.df.iloc[:self.n_train, :-1]\n",
    "        y_train = self.data.df.iloc[:self.n_train, -1]\n",
    "        \n",
    "        self.model.fit(X=X_train, y=y_train)\n",
    "\n",
    "    def next(self):\n",
    "        explanatory_today = self.data.df.iloc[[-1], :-1]\n",
    "        forecast_tomorrow = self.model.predict(explanatory_today)[0]\n",
    "        \n",
    "        if forecast_tomorrow > self.limit_buy and self.already_bought == False:\n",
    "            self.buy()\n",
    "            self.already_bought = True\n",
    "        elif forecast_tomorrow < self.limit_sell and self.already_bought == True:\n",
    "            self.sell()\n",
    "            self.already_bought = False\n",
    "        else:\n",
    "            pass"
   ]
  },
  {
   "cell_type": "code",
   "execution_count": 21,
   "id": "00c0068b",
   "metadata": {},
   "outputs": [],
   "source": [
    "class WalkForwardAnchored(Regression):\n",
    "    def next(self):\n",
    "        \n",
    "        # we don't take any action and move on to the following day\n",
    "        if len(self.data) < self.n_train:\n",
    "            return\n",
    "        \n",
    "        # we retrain the model each x days\n",
    "        if len(self.data) % self.coeff_retrain == 0:\n",
    "            X_train = self.data.df.iloc[:, :-1]\n",
    "            y_train = self.data.df.iloc[:, -1]\n",
    "\n",
    "            self.model.fit(X_train, y_train)\n",
    "\n",
    "            super().next()\n",
    "            \n",
    "        else:\n",
    "            \n",
    "            super().next()"
   ]
  },
  {
   "cell_type": "code",
   "execution_count": 22,
   "id": "dd460401",
   "metadata": {},
   "outputs": [],
   "source": [
    "from backtesting import Backtest\n",
    "bt = Backtest(df, WalkForwardAnchored, cash=10000, commission=.002, exclusive_orders=True)"
   ]
  },
  {
   "cell_type": "code",
   "execution_count": 23,
   "id": "55b7465f",
   "metadata": {},
   "outputs": [],
   "source": [
    "import multiprocessing as mp\n",
    "mp.set_start_method('fork')"
   ]
  },
  {
   "cell_type": "code",
   "execution_count": null,
   "id": "0eab0e5e-bc9d-4cfd-ae54-c4d788235a3b",
   "metadata": {},
   "outputs": [],
   "source": [
    "stats_skopt, heatmap, optimize_result = bt.optimize(\n",
    "    limit_buy = range(0, 6), limit_sell = range(-6, 0),\n",
    "    maximize='Return [%]',\n",
    "    max_tries=500,\n",
    "    random_state=42,\n",
    "    return_heatmap=True,\n",
    "    return_optimization=True,\n",
    "    method='skopt'\n",
    "    )\n",
    "\n",
    "dff = heatmap.reset_index()\n",
    "dff = dff.sort_values('Return [%]', ascending=False)\n",
    "dff"
   ]
  },
  {
   "attachments": {},
   "cell_type": "markdown",
   "id": "5e4bb005-9451-4b3a-ad1f-68677aa0070a",
   "metadata": {},
   "source": [
    "## Unanchored Walk Forward"
   ]
  },
  {
   "attachments": {},
   "cell_type": "markdown",
   "id": "927ec43c",
   "metadata": {},
   "source": [
    "### Create a library of strategies\n",
    "\n",
    "`strategies.py`"
   ]
  },
  {
   "attachments": {},
   "cell_type": "markdown",
   "id": "a217d7d6",
   "metadata": {},
   "source": [
    "### Create the unanchored walk forward class"
   ]
  },
  {
   "attachments": {},
   "cell_type": "markdown",
   "id": "2746c22f",
   "metadata": {},
   "source": [
    "![](<src/10_Table_Validation Methods.png>)"
   ]
  },
  {
   "attachments": {},
   "cell_type": "markdown",
   "id": "b73a4767",
   "metadata": {},
   "source": [
    "### Import the strategy and perform the backtest"
   ]
  },
  {
   "cell_type": "code",
   "execution_count": 25,
   "id": "dbf7436c",
   "metadata": {},
   "outputs": [],
   "source": [
    "%load_ext autoreload\n",
    "%autoreload 2"
   ]
  },
  {
   "cell_type": "code",
   "execution_count": 26,
   "id": "3b0396c5",
   "metadata": {},
   "outputs": [],
   "source": [
    "import strategies"
   ]
  },
  {
   "cell_type": "code",
   "execution_count": 27,
   "id": "39fe79ef",
   "metadata": {},
   "outputs": [
    {
     "data": {
      "text/plain": [
       "strategies.WalkForwardUnanchored"
      ]
     },
     "execution_count": 27,
     "metadata": {},
     "output_type": "execute_result"
    }
   ],
   "source": [
    "strategies.WalkForwardUnanchored"
   ]
  },
  {
   "cell_type": "code",
   "execution_count": null,
   "id": "8d439835-ecfb-45d3-a5c8-eb40a26b51d9",
   "metadata": {},
   "outputs": [],
   "source": [
    "bt_unanchored = Backtest(df, strategies.WalkForwardUnanchored, cash=10000, commission=.002, exclusive_orders=True)\n",
    "\n",
    "stats_skopt, heatmap, optimize_result = bt_unanchored.optimize(\n",
    "    limit_buy = range(0, 6), limit_sell = range(-6, 0),\n",
    "    maximize='Return [%]',\n",
    "    max_tries=500,\n",
    "    random_state=42,\n",
    "    return_heatmap=True,\n",
    "    return_optimization=True,\n",
    "    method='skopt'\n",
    "    )\n",
    "\n",
    "dff = heatmap.reset_index()\n",
    "dff = dff.sort_values('Return [%]', ascending=False)\n",
    "dff"
   ]
  },
  {
   "attachments": {},
   "cell_type": "markdown",
   "id": "7eee71ca",
   "metadata": {},
   "source": [
    "### Interpret the strategies' performance\n",
    "\n",
    "- Both anchored and unanchored backtesting"
   ]
  },
  {
   "cell_type": "code",
   "execution_count": null,
   "id": "fac2e415-0ec4-4dbf-bdf4-af19513ccb18",
   "metadata": {},
   "outputs": [],
   "source": [
    "bt.plot(filename='reports_backtesting/walk_forward_anchored.html')"
   ]
  },
  {
   "cell_type": "code",
   "execution_count": null,
   "id": "67de2eba",
   "metadata": {},
   "outputs": [],
   "source": [
    "bt_unanchored.plot(filename='reports_backtesting/walk_forward_unanchored.html')"
   ]
  },
  {
   "attachments": {},
   "cell_type": "markdown",
   "id": "7e00e681",
   "metadata": {},
   "source": [
    "## Practice to master the knowledge\n",
    "\n",
    "Work on the challenge with another dataset:\n",
    "\n",
    "1. Learn the <a>mental models</a> to solve the challenge faster.\n",
    "2. Complete the <a href=\"10C_Walk Forward Regression.ipynb\">notebook</a>."
   ]
  }
 ],
 "metadata": {
  "kernelspec": {
   "display_name": "Python 3 (ipykernel)",
   "language": "python",
   "name": "python3"
  },
  "language_info": {
   "codemirror_mode": {
    "name": "ipython",
    "version": 3
   },
   "file_extension": ".py",
   "mimetype": "text/x-python",
   "name": "python",
   "nbconvert_exporter": "python",
   "pygments_lexer": "ipython3",
   "version": "3.10.12"
  }
 },
 "nbformat": 4,
 "nbformat_minor": 5
}
