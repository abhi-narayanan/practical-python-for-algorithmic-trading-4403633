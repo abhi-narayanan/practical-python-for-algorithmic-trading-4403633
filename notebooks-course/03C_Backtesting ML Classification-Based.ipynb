{
 "cells": [
  {
   "attachments": {},
   "cell_type": "markdown",
   "id": "1834c01c-a4e3-4064-9d85-dd51ca17cd3f",
   "metadata": {},
   "source": [
    "# Challenge: Backtest on Other Datasets"
   ]
  },
  {
   "attachments": {},
   "cell_type": "markdown",
   "id": "b62bbd66-36cd-4c33-a6f1-e102702923a5",
   "metadata": {},
   "source": [
    "## Download data from `yfinance`"
   ]
  },
  {
   "cell_type": "code",
   "execution_count": 1,
   "id": "6413f2e3-656e-4847-be24-fc179bec23ac",
   "metadata": {},
   "outputs": [],
   "source": [
    "import yfinance as yf"
   ]
  },
  {
   "cell_type": "code",
   "execution_count": 2,
   "id": "a3f91d9e-1d90-4111-a92d-119a74f6ba7d",
   "metadata": {},
   "outputs": [
    {
     "name": "stdout",
     "output_type": "stream",
     "text": [
      "[*********************100%%**********************]  1 of 1 completed\n"
     ]
    }
   ],
   "source": [
    "df_netflix = yf.download(tickers='NFLX')"
   ]
  },
  {
   "cell_type": "code",
   "execution_count": 3,
   "id": "5389f805",
   "metadata": {},
   "outputs": [
    {
     "data": {
      "text/html": [
       "<div>\n",
       "<style scoped>\n",
       "    .dataframe tbody tr th:only-of-type {\n",
       "        vertical-align: middle;\n",
       "    }\n",
       "\n",
       "    .dataframe tbody tr th {\n",
       "        vertical-align: top;\n",
       "    }\n",
       "\n",
       "    .dataframe thead th {\n",
       "        text-align: right;\n",
       "    }\n",
       "</style>\n",
       "<table border=\"1\" class=\"dataframe\">\n",
       "  <thead>\n",
       "    <tr style=\"text-align: right;\">\n",
       "      <th></th>\n",
       "      <th>Open</th>\n",
       "      <th>High</th>\n",
       "      <th>Low</th>\n",
       "      <th>Close</th>\n",
       "      <th>Adj Close</th>\n",
       "      <th>Volume</th>\n",
       "    </tr>\n",
       "    <tr>\n",
       "      <th>Date</th>\n",
       "      <th></th>\n",
       "      <th></th>\n",
       "      <th></th>\n",
       "      <th></th>\n",
       "      <th></th>\n",
       "      <th></th>\n",
       "    </tr>\n",
       "  </thead>\n",
       "  <tbody>\n",
       "    <tr>\n",
       "      <th>2023-12-20</th>\n",
       "      <td>492.000000</td>\n",
       "      <td>500.890015</td>\n",
       "      <td>488.390015</td>\n",
       "      <td>489.269989</td>\n",
       "      <td>489.269989</td>\n",
       "      <td>4563700</td>\n",
       "    </tr>\n",
       "    <tr>\n",
       "      <th>2023-12-21</th>\n",
       "      <td>492.660004</td>\n",
       "      <td>494.399994</td>\n",
       "      <td>486.769989</td>\n",
       "      <td>491.609985</td>\n",
       "      <td>491.609985</td>\n",
       "      <td>2756200</td>\n",
       "    </tr>\n",
       "    <tr>\n",
       "      <th>2023-12-22</th>\n",
       "      <td>494.000000</td>\n",
       "      <td>496.019989</td>\n",
       "      <td>485.450012</td>\n",
       "      <td>486.760010</td>\n",
       "      <td>486.760010</td>\n",
       "      <td>2701100</td>\n",
       "    </tr>\n",
       "    <tr>\n",
       "      <th>2023-12-26</th>\n",
       "      <td>489.390015</td>\n",
       "      <td>491.480011</td>\n",
       "      <td>486.380005</td>\n",
       "      <td>491.190002</td>\n",
       "      <td>491.190002</td>\n",
       "      <td>2034500</td>\n",
       "    </tr>\n",
       "    <tr>\n",
       "      <th>2023-12-27</th>\n",
       "      <td>491.239990</td>\n",
       "      <td>494.019989</td>\n",
       "      <td>489.250000</td>\n",
       "      <td>491.790009</td>\n",
       "      <td>491.790009</td>\n",
       "      <td>2559900</td>\n",
       "    </tr>\n",
       "  </tbody>\n",
       "</table>\n",
       "</div>"
      ],
      "text/plain": [
       "                  Open        High         Low       Close   Adj Close  \\\n",
       "Date                                                                     \n",
       "2023-12-20  492.000000  500.890015  488.390015  489.269989  489.269989   \n",
       "2023-12-21  492.660004  494.399994  486.769989  491.609985  491.609985   \n",
       "2023-12-22  494.000000  496.019989  485.450012  486.760010  486.760010   \n",
       "2023-12-26  489.390015  491.480011  486.380005  491.190002  491.190002   \n",
       "2023-12-27  491.239990  494.019989  489.250000  491.790009  491.790009   \n",
       "\n",
       "             Volume  \n",
       "Date                 \n",
       "2023-12-20  4563700  \n",
       "2023-12-21  2756200  \n",
       "2023-12-22  2701100  \n",
       "2023-12-26  2034500  \n",
       "2023-12-27  2559900  "
      ]
     },
     "execution_count": 3,
     "metadata": {},
     "output_type": "execute_result"
    }
   ],
   "source": [
    "df_netflix.tail()"
   ]
  },
  {
   "attachments": {},
   "cell_type": "markdown",
   "id": "89c73f63-3a7b-4d80-9b1a-e81c905cc10c",
   "metadata": {},
   "source": [
    "## Preprocess the data"
   ]
  },
  {
   "attachments": {},
   "cell_type": "markdown",
   "id": "320cc06b-feda-4c12-a203-f4b16ff980d3",
   "metadata": {},
   "source": [
    "### Filter the date range\n",
    "\n",
    "- Since 1 year ago at least"
   ]
  },
  {
   "cell_type": "code",
   "execution_count": 4,
   "id": "c2196bbb-1f78-4b6a-a6e7-fe7d476f977a",
   "metadata": {},
   "outputs": [],
   "source": [
    "df_netflix_1year = df_netflix.loc['2022-12-28':, :].copy()"
   ]
  },
  {
   "attachments": {},
   "cell_type": "markdown",
   "id": "c33425fb-4c7b-4e22-8db9-6203c789ec44",
   "metadata": {},
   "source": [
    "### Create the target variable\n",
    "\n",
    "#### Percentage change\n",
    "\n",
    "- Percentage change on `Adj Close` for tomorrow"
   ]
  },
  {
   "cell_type": "code",
   "execution_count": 5,
   "id": "3494df13-ae8d-4aa2-bd03-29af1eb34bee",
   "metadata": {},
   "outputs": [],
   "source": [
    "df_netflix_1year['change_tomorrow'] = df_netflix_1year['Adj Close'].pct_change(-1) * 100 * -1"
   ]
  },
  {
   "attachments": {},
   "cell_type": "markdown",
   "id": "de5a655d-7bed-484f-b19b-67e356bd6802",
   "metadata": {},
   "source": [
    "#### Drop rows with any missing data"
   ]
  },
  {
   "cell_type": "code",
   "execution_count": 6,
   "id": "21684b4e-ffb8-426b-a5b5-a7d96c9d2df0",
   "metadata": {},
   "outputs": [],
   "source": [
    "df_netflix_1year = df_netflix_1year.dropna().copy()"
   ]
  },
  {
   "attachments": {},
   "cell_type": "markdown",
   "id": "c1acc712-f434-4719-acd7-fad2600c1473",
   "metadata": {},
   "source": [
    "#### Change sign\n",
    "\n",
    "Did the stock go up or down?"
   ]
  },
  {
   "cell_type": "code",
   "execution_count": 8,
   "id": "03d867e6-c8c4-45b5-9b01-d6ce9761cabd",
   "metadata": {},
   "outputs": [],
   "source": [
    "import numpy as np\n",
    "df_netflix_1year['change_tomorrow_direction'] = np.where(df_netflix_1year.change_tomorrow > 0, 'UP', 'DOWN')"
   ]
  },
  {
   "attachments": {},
   "cell_type": "markdown",
   "id": "b3196153-c4af-4863-b1be-1017deefa2f5",
   "metadata": {},
   "source": [
    "## Compute Machine Learning model\n",
    "\n",
    "Proposal: Random Forest within `ensemble` module of `sklearn` library"
   ]
  },
  {
   "cell_type": "code",
   "execution_count": 10,
   "id": "19579480",
   "metadata": {},
   "outputs": [],
   "source": [
    "target = df_netflix_1year.change_tomorrow_direction\n",
    "explanatory = df_netflix_1year.drop(columns=['change_tomorrow_direction', 'change_tomorrow'])"
   ]
  },
  {
   "cell_type": "code",
   "execution_count": 9,
   "id": "7884de1a-3f66-4af6-8c44-2b9ce486f716",
   "metadata": {},
   "outputs": [],
   "source": [
    "from sklearn.ensemble import RandomForestClassifier"
   ]
  },
  {
   "cell_type": "code",
   "execution_count": 11,
   "id": "70eff47f",
   "metadata": {},
   "outputs": [],
   "source": [
    "model_dt = RandomForestClassifier()"
   ]
  },
  {
   "cell_type": "code",
   "execution_count": 12,
   "metadata": {},
   "outputs": [
    {
     "data": {
      "text/html": [
       "<style>#sk-container-id-1 {color: black;}#sk-container-id-1 pre{padding: 0;}#sk-container-id-1 div.sk-toggleable {background-color: white;}#sk-container-id-1 label.sk-toggleable__label {cursor: pointer;display: block;width: 100%;margin-bottom: 0;padding: 0.3em;box-sizing: border-box;text-align: center;}#sk-container-id-1 label.sk-toggleable__label-arrow:before {content: \"▸\";float: left;margin-right: 0.25em;color: #696969;}#sk-container-id-1 label.sk-toggleable__label-arrow:hover:before {color: black;}#sk-container-id-1 div.sk-estimator:hover label.sk-toggleable__label-arrow:before {color: black;}#sk-container-id-1 div.sk-toggleable__content {max-height: 0;max-width: 0;overflow: hidden;text-align: left;background-color: #f0f8ff;}#sk-container-id-1 div.sk-toggleable__content pre {margin: 0.2em;color: black;border-radius: 0.25em;background-color: #f0f8ff;}#sk-container-id-1 input.sk-toggleable__control:checked~div.sk-toggleable__content {max-height: 200px;max-width: 100%;overflow: auto;}#sk-container-id-1 input.sk-toggleable__control:checked~label.sk-toggleable__label-arrow:before {content: \"▾\";}#sk-container-id-1 div.sk-estimator input.sk-toggleable__control:checked~label.sk-toggleable__label {background-color: #d4ebff;}#sk-container-id-1 div.sk-label input.sk-toggleable__control:checked~label.sk-toggleable__label {background-color: #d4ebff;}#sk-container-id-1 input.sk-hidden--visually {border: 0;clip: rect(1px 1px 1px 1px);clip: rect(1px, 1px, 1px, 1px);height: 1px;margin: -1px;overflow: hidden;padding: 0;position: absolute;width: 1px;}#sk-container-id-1 div.sk-estimator {font-family: monospace;background-color: #f0f8ff;border: 1px dotted black;border-radius: 0.25em;box-sizing: border-box;margin-bottom: 0.5em;}#sk-container-id-1 div.sk-estimator:hover {background-color: #d4ebff;}#sk-container-id-1 div.sk-parallel-item::after {content: \"\";width: 100%;border-bottom: 1px solid gray;flex-grow: 1;}#sk-container-id-1 div.sk-label:hover label.sk-toggleable__label {background-color: #d4ebff;}#sk-container-id-1 div.sk-serial::before {content: \"\";position: absolute;border-left: 1px solid gray;box-sizing: border-box;top: 0;bottom: 0;left: 50%;z-index: 0;}#sk-container-id-1 div.sk-serial {display: flex;flex-direction: column;align-items: center;background-color: white;padding-right: 0.2em;padding-left: 0.2em;position: relative;}#sk-container-id-1 div.sk-item {position: relative;z-index: 1;}#sk-container-id-1 div.sk-parallel {display: flex;align-items: stretch;justify-content: center;background-color: white;position: relative;}#sk-container-id-1 div.sk-item::before, #sk-container-id-1 div.sk-parallel-item::before {content: \"\";position: absolute;border-left: 1px solid gray;box-sizing: border-box;top: 0;bottom: 0;left: 50%;z-index: -1;}#sk-container-id-1 div.sk-parallel-item {display: flex;flex-direction: column;z-index: 1;position: relative;background-color: white;}#sk-container-id-1 div.sk-parallel-item:first-child::after {align-self: flex-end;width: 50%;}#sk-container-id-1 div.sk-parallel-item:last-child::after {align-self: flex-start;width: 50%;}#sk-container-id-1 div.sk-parallel-item:only-child::after {width: 0;}#sk-container-id-1 div.sk-dashed-wrapped {border: 1px dashed gray;margin: 0 0.4em 0.5em 0.4em;box-sizing: border-box;padding-bottom: 0.4em;background-color: white;}#sk-container-id-1 div.sk-label label {font-family: monospace;font-weight: bold;display: inline-block;line-height: 1.2em;}#sk-container-id-1 div.sk-label-container {text-align: center;}#sk-container-id-1 div.sk-container {/* jupyter's `normalize.less` sets `[hidden] { display: none; }` but bootstrap.min.css set `[hidden] { display: none !important; }` so we also need the `!important` here to be able to override the default hidden behavior on the sphinx rendered scikit-learn.org. See: https://github.com/scikit-learn/scikit-learn/issues/21755 */display: inline-block !important;position: relative;}#sk-container-id-1 div.sk-text-repr-fallback {display: none;}</style><div id=\"sk-container-id-1\" class=\"sk-top-container\"><div class=\"sk-text-repr-fallback\"><pre>RandomForestClassifier()</pre><b>In a Jupyter environment, please rerun this cell to show the HTML representation or trust the notebook. <br />On GitHub, the HTML representation is unable to render, please try loading this page with nbviewer.org.</b></div><div class=\"sk-container\" hidden><div class=\"sk-item\"><div class=\"sk-estimator sk-toggleable\"><input class=\"sk-toggleable__control sk-hidden--visually\" id=\"sk-estimator-id-1\" type=\"checkbox\" checked><label for=\"sk-estimator-id-1\" class=\"sk-toggleable__label sk-toggleable__label-arrow\">RandomForestClassifier</label><div class=\"sk-toggleable__content\"><pre>RandomForestClassifier()</pre></div></div></div></div></div>"
      ],
      "text/plain": [
       "RandomForestClassifier()"
      ]
     },
     "execution_count": 12,
     "metadata": {},
     "output_type": "execute_result"
    }
   ],
   "source": [
    "model_dt.fit(X=explanatory, y=target)"
   ]
  },
  {
   "attachments": {},
   "cell_type": "markdown",
   "id": "2072c20e-d9dd-4620-a658-8aa2988aec2c",
   "metadata": {},
   "source": [
    "## Backtesting"
   ]
  },
  {
   "attachments": {},
   "cell_type": "markdown",
   "id": "88943e4c-b9bd-41d0-b679-25f1a28c0171",
   "metadata": {},
   "source": [
    "### Create the Strategy"
   ]
  },
  {
   "cell_type": "code",
   "execution_count": 13,
   "id": "36846232-ac80-4759-9b09-27781888c78b",
   "metadata": {},
   "outputs": [],
   "source": [
    "from backtesting import Backtest, Strategy"
   ]
  },
  {
   "cell_type": "code",
   "execution_count": 14,
   "id": "6dd6d30e",
   "metadata": {},
   "outputs": [],
   "source": [
    "class ClassificationUP(Strategy):\n",
    "  def init(self):\n",
    "    self.model = model_dt\n",
    "    self.already_bought = False\n",
    "\n",
    "  def next(self):\n",
    "      explanatory_today = self.data.df.iloc[[-1],:]\n",
    "      forecast_tomorrow = model_dt.predict(explanatory_today)[0]\n",
    "      \n",
    "      # conditions to sell or buy\n",
    "      if forecast_tomorrow =='UP' and self.already_bought==False:\n",
    "          self.buy()\n",
    "          self.already_bought = True\n",
    "\n",
    "      elif forecast_tomorrow =='DOWN' and self.already_bought:\n",
    "          self.sell()\n",
    "          self.already_bought = False\n",
    "\n",
    "      else:\n",
    "          pass"
   ]
  },
  {
   "attachments": {},
   "cell_type": "markdown",
   "id": "5b01b553-3322-45a5-a4d6-7599aaa81eef",
   "metadata": {},
   "source": [
    "### Run the Backtest"
   ]
  },
  {
   "cell_type": "code",
   "execution_count": 15,
   "id": "8e866dee-4108-4133-af4b-9ebe36c17f82",
   "metadata": {},
   "outputs": [],
   "source": [
    "bt = Backtest(\n",
    "    data=explanatory, strategy=ClassificationUP, cash=10000,\n",
    "    commission=.002, exclusive_orders=True\n",
    ")"
   ]
  },
  {
   "attachments": {},
   "cell_type": "markdown",
   "id": "8c912ebe-6f57-4b7b-bf06-469f1c339694",
   "metadata": {},
   "source": [
    "### Show the report in a DataFrame"
   ]
  },
  {
   "cell_type": "code",
   "execution_count": 19,
   "id": "2cfeaf99-3afd-412e-b17e-9b1bbeae921a",
   "metadata": {},
   "outputs": [],
   "source": [
    "results = bt.run()"
   ]
  },
  {
   "cell_type": "code",
   "execution_count": 20,
   "id": "5dfff9ca",
   "metadata": {},
   "outputs": [
    {
     "data": {
      "text/html": [
       "<div>\n",
       "<style scoped>\n",
       "    .dataframe tbody tr th:only-of-type {\n",
       "        vertical-align: middle;\n",
       "    }\n",
       "\n",
       "    .dataframe tbody tr th {\n",
       "        vertical-align: top;\n",
       "    }\n",
       "\n",
       "    .dataframe thead th {\n",
       "        text-align: right;\n",
       "    }\n",
       "</style>\n",
       "<table border=\"1\" class=\"dataframe\">\n",
       "  <thead>\n",
       "    <tr style=\"text-align: right;\">\n",
       "      <th></th>\n",
       "      <th>Values</th>\n",
       "    </tr>\n",
       "  </thead>\n",
       "  <tbody>\n",
       "    <tr>\n",
       "      <th>Start</th>\n",
       "      <td>2022-12-28 00:00:00</td>\n",
       "    </tr>\n",
       "    <tr>\n",
       "      <th>End</th>\n",
       "      <td>2023-12-26 00:00:00</td>\n",
       "    </tr>\n",
       "    <tr>\n",
       "      <th>Duration</th>\n",
       "      <td>363 days 00:00:00</td>\n",
       "    </tr>\n",
       "    <tr>\n",
       "      <th>Exposure Time [%]</th>\n",
       "      <td>99.2</td>\n",
       "    </tr>\n",
       "    <tr>\n",
       "      <th>Equity Final [$]</th>\n",
       "      <td>126518.993654</td>\n",
       "    </tr>\n",
       "    <tr>\n",
       "      <th>Equity Peak [$]</th>\n",
       "      <td>127442.170147</td>\n",
       "    </tr>\n",
       "    <tr>\n",
       "      <th>Return [%]</th>\n",
       "      <td>1165.189937</td>\n",
       "    </tr>\n",
       "  </tbody>\n",
       "</table>\n",
       "</div>"
      ],
      "text/plain": [
       "                                Values\n",
       "Start              2022-12-28 00:00:00\n",
       "End                2023-12-26 00:00:00\n",
       "Duration             363 days 00:00:00\n",
       "Exposure Time [%]                 99.2\n",
       "Equity Final [$]         126518.993654\n",
       "Equity Peak [$]          127442.170147\n",
       "Return [%]                 1165.189937"
      ]
     },
     "execution_count": 20,
     "metadata": {},
     "output_type": "execute_result"
    }
   ],
   "source": [
    "results.to_frame(name='Values').loc[:'Return [%]']"
   ]
  },
  {
   "attachments": {},
   "cell_type": "markdown",
   "id": "4f7eb460-df2f-43a9-a358-67ef9e0606b1",
   "metadata": {},
   "source": [
    "## Plot the backtest report"
   ]
  },
  {
   "attachments": {},
   "cell_type": "markdown",
   "id": "310b3349-d3ab-4c84-a806-a1819faf8e4e",
   "metadata": {},
   "source": [
    "> Don't worry about this new tool just yet, we will explain in a future chapter how to interpret the following chart."
   ]
  },
  {
   "cell_type": "code",
   "execution_count": 21,
   "id": "ab7d8157-3278-42a3-8cb8-6717caeb64bf",
   "metadata": {},
   "outputs": [
    {
     "data": {
      "text/html": [
       "<div style=\"display: table;\"><div style=\"display: table-row;\"><div style=\"display: table-cell;\"><b title=\"bokeh.models.layouts.Row\">Row</b>(</div><div style=\"display: table-cell;\">id&nbsp;=&nbsp;'1407', <span id=\"2021\" style=\"cursor: pointer;\">&hellip;)</span></div></div><div class=\"2020\" style=\"display: none;\"><div style=\"display: table-cell;\"></div><div style=\"display: table-cell;\">align&nbsp;=&nbsp;'start',</div></div><div class=\"2020\" style=\"display: none;\"><div style=\"display: table-cell;\"></div><div style=\"display: table-cell;\">aspect_ratio&nbsp;=&nbsp;None,</div></div><div class=\"2020\" style=\"display: none;\"><div style=\"display: table-cell;\"></div><div style=\"display: table-cell;\">background&nbsp;=&nbsp;None,</div></div><div class=\"2020\" style=\"display: none;\"><div style=\"display: table-cell;\"></div><div style=\"display: table-cell;\">children&nbsp;=&nbsp;[GridBox(id='1404', ...), ToolbarBox(id='1406', ...)],</div></div><div class=\"2020\" style=\"display: none;\"><div style=\"display: table-cell;\"></div><div style=\"display: table-cell;\">cols&nbsp;=&nbsp;'auto',</div></div><div class=\"2020\" style=\"display: none;\"><div style=\"display: table-cell;\"></div><div style=\"display: table-cell;\">css_classes&nbsp;=&nbsp;[],</div></div><div class=\"2020\" style=\"display: none;\"><div style=\"display: table-cell;\"></div><div style=\"display: table-cell;\">disabled&nbsp;=&nbsp;False,</div></div><div class=\"2020\" style=\"display: none;\"><div style=\"display: table-cell;\"></div><div style=\"display: table-cell;\">height&nbsp;=&nbsp;None,</div></div><div class=\"2020\" style=\"display: none;\"><div style=\"display: table-cell;\"></div><div style=\"display: table-cell;\">height_policy&nbsp;=&nbsp;'auto',</div></div><div class=\"2020\" style=\"display: none;\"><div style=\"display: table-cell;\"></div><div style=\"display: table-cell;\">js_event_callbacks&nbsp;=&nbsp;{},</div></div><div class=\"2020\" style=\"display: none;\"><div style=\"display: table-cell;\"></div><div style=\"display: table-cell;\">js_property_callbacks&nbsp;=&nbsp;{},</div></div><div class=\"2020\" style=\"display: none;\"><div style=\"display: table-cell;\"></div><div style=\"display: table-cell;\">margin&nbsp;=&nbsp;(0, 0, 0, 0),</div></div><div class=\"2020\" style=\"display: none;\"><div style=\"display: table-cell;\"></div><div style=\"display: table-cell;\">max_height&nbsp;=&nbsp;None,</div></div><div class=\"2020\" style=\"display: none;\"><div style=\"display: table-cell;\"></div><div style=\"display: table-cell;\">max_width&nbsp;=&nbsp;None,</div></div><div class=\"2020\" style=\"display: none;\"><div style=\"display: table-cell;\"></div><div style=\"display: table-cell;\">min_height&nbsp;=&nbsp;None,</div></div><div class=\"2020\" style=\"display: none;\"><div style=\"display: table-cell;\"></div><div style=\"display: table-cell;\">min_width&nbsp;=&nbsp;None,</div></div><div class=\"2020\" style=\"display: none;\"><div style=\"display: table-cell;\"></div><div style=\"display: table-cell;\">name&nbsp;=&nbsp;None,</div></div><div class=\"2020\" style=\"display: none;\"><div style=\"display: table-cell;\"></div><div style=\"display: table-cell;\">sizing_mode&nbsp;=&nbsp;'stretch_width',</div></div><div class=\"2020\" style=\"display: none;\"><div style=\"display: table-cell;\"></div><div style=\"display: table-cell;\">spacing&nbsp;=&nbsp;0,</div></div><div class=\"2020\" style=\"display: none;\"><div style=\"display: table-cell;\"></div><div style=\"display: table-cell;\">subscribed_events&nbsp;=&nbsp;[],</div></div><div class=\"2020\" style=\"display: none;\"><div style=\"display: table-cell;\"></div><div style=\"display: table-cell;\">syncable&nbsp;=&nbsp;True,</div></div><div class=\"2020\" style=\"display: none;\"><div style=\"display: table-cell;\"></div><div style=\"display: table-cell;\">tags&nbsp;=&nbsp;[],</div></div><div class=\"2020\" style=\"display: none;\"><div style=\"display: table-cell;\"></div><div style=\"display: table-cell;\">visible&nbsp;=&nbsp;True,</div></div><div class=\"2020\" style=\"display: none;\"><div style=\"display: table-cell;\"></div><div style=\"display: table-cell;\">width&nbsp;=&nbsp;None,</div></div><div class=\"2020\" style=\"display: none;\"><div style=\"display: table-cell;\"></div><div style=\"display: table-cell;\">width_policy&nbsp;=&nbsp;'auto')</div></div></div>\n",
       "<script>\n",
       "(function() {\n",
       "  let expanded = false;\n",
       "  const ellipsis = document.getElementById(\"2021\");\n",
       "  ellipsis.addEventListener(\"click\", function() {\n",
       "    const rows = document.getElementsByClassName(\"2020\");\n",
       "    for (let i = 0; i < rows.length; i++) {\n",
       "      const el = rows[i];\n",
       "      el.style.display = expanded ? \"none\" : \"table-row\";\n",
       "    }\n",
       "    ellipsis.innerHTML = expanded ? \"&hellip;)\" : \"&lsaquo;&lsaquo;&lsaquo;\";\n",
       "    expanded = !expanded;\n",
       "  });\n",
       "})();\n",
       "</script>\n"
      ],
      "text/plain": [
       "Row(id='1407', ...)"
      ]
     },
     "execution_count": 21,
     "metadata": {},
     "output_type": "execute_result"
    }
   ],
   "source": [
    "bt.plot(filename='backtest_report.html')"
   ]
  },
  {
   "attachments": {},
   "cell_type": "markdown",
   "id": "33366f1a",
   "metadata": {},
   "source": [
    "## How to invest based on the numerical increase?\n",
    "\n",
    "> Instead of the direction (UP or DOWN)\n",
    "\n",
    "Next chapter → [Backtesting with Regression Models]()"
   ]
  },
  {
   "attachments": {},
   "cell_type": "markdown",
   "id": "b21f8382",
   "metadata": {},
   "source": [
    "Classification Model | Regression Model\n",
    "-|-\n",
    "![](src/pred_classification.png) | ![](src/pred_regression.png)"
   ]
  },
  {
   "attachments": {},
   "cell_type": "markdown",
   "id": "c7f8eb5b",
   "metadata": {},
   "source": [
    "Classification Strategy | Regression Strategy\n",
    "-|-\n",
    "![](src/res_classification.png) | ![](src/res_regression.png)"
   ]
  }
 ],
 "metadata": {
  "kernelspec": {
   "display_name": "Python 3",
   "language": "python",
   "name": "python3"
  },
  "language_info": {
   "codemirror_mode": {
    "name": "ipython",
    "version": 3
   },
   "file_extension": ".py",
   "mimetype": "text/x-python",
   "name": "python",
   "nbconvert_exporter": "python",
   "pygments_lexer": "ipython3",
   "version": "3.10.12"
  }
 },
 "nbformat": 4,
 "nbformat_minor": 5
}
