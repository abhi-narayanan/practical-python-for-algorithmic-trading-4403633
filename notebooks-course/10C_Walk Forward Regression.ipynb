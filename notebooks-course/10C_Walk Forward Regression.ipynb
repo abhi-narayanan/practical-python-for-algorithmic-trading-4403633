{
 "cells": [
  {
   "attachments": {},
   "cell_type": "markdown",
   "id": "6403faa6-221a-4cc5-a836-21cc4e95a4db",
   "metadata": {},
   "source": [
    "# Challenge: Walk Forward on Other Datasets"
   ]
  },
  {
   "attachments": {},
   "cell_type": "markdown",
   "id": "0f64d832-603d-44ed-a748-444f1a4fe675",
   "metadata": {},
   "source": [
    "## Download data from `yfinance`"
   ]
  },
  {
   "cell_type": "code",
   "execution_count": 1,
   "id": "61ef7629-6940-4064-ab78-829856c6ba01",
   "metadata": {},
   "outputs": [
    {
     "name": "stdout",
     "output_type": "stream",
     "text": [
      "[*********************100%%**********************]  1 of 1 completed\n"
     ]
    },
    {
     "data": {
      "text/html": [
       "<div>\n",
       "<style scoped>\n",
       "    .dataframe tbody tr th:only-of-type {\n",
       "        vertical-align: middle;\n",
       "    }\n",
       "\n",
       "    .dataframe tbody tr th {\n",
       "        vertical-align: top;\n",
       "    }\n",
       "\n",
       "    .dataframe thead th {\n",
       "        text-align: right;\n",
       "    }\n",
       "</style>\n",
       "<table border=\"1\" class=\"dataframe\">\n",
       "  <thead>\n",
       "    <tr style=\"text-align: right;\">\n",
       "      <th></th>\n",
       "      <th>Open</th>\n",
       "      <th>High</th>\n",
       "      <th>Low</th>\n",
       "      <th>Close</th>\n",
       "      <th>Adj Close</th>\n",
       "      <th>Volume</th>\n",
       "    </tr>\n",
       "    <tr>\n",
       "      <th>Date</th>\n",
       "      <th></th>\n",
       "      <th></th>\n",
       "      <th></th>\n",
       "      <th></th>\n",
       "      <th></th>\n",
       "      <th></th>\n",
       "    </tr>\n",
       "  </thead>\n",
       "  <tbody>\n",
       "    <tr>\n",
       "      <th>1980-12-12</th>\n",
       "      <td>0.128348</td>\n",
       "      <td>0.128906</td>\n",
       "      <td>0.128348</td>\n",
       "      <td>0.128348</td>\n",
       "      <td>0.099319</td>\n",
       "      <td>469033600</td>\n",
       "    </tr>\n",
       "    <tr>\n",
       "      <th>1980-12-15</th>\n",
       "      <td>0.122210</td>\n",
       "      <td>0.122210</td>\n",
       "      <td>0.121652</td>\n",
       "      <td>0.121652</td>\n",
       "      <td>0.094137</td>\n",
       "      <td>175884800</td>\n",
       "    </tr>\n",
       "    <tr>\n",
       "      <th>1980-12-16</th>\n",
       "      <td>0.113281</td>\n",
       "      <td>0.113281</td>\n",
       "      <td>0.112723</td>\n",
       "      <td>0.112723</td>\n",
       "      <td>0.087228</td>\n",
       "      <td>105728000</td>\n",
       "    </tr>\n",
       "    <tr>\n",
       "      <th>1980-12-17</th>\n",
       "      <td>0.115513</td>\n",
       "      <td>0.116071</td>\n",
       "      <td>0.115513</td>\n",
       "      <td>0.115513</td>\n",
       "      <td>0.089387</td>\n",
       "      <td>86441600</td>\n",
       "    </tr>\n",
       "    <tr>\n",
       "      <th>1980-12-18</th>\n",
       "      <td>0.118862</td>\n",
       "      <td>0.119420</td>\n",
       "      <td>0.118862</td>\n",
       "      <td>0.118862</td>\n",
       "      <td>0.091978</td>\n",
       "      <td>73449600</td>\n",
       "    </tr>\n",
       "    <tr>\n",
       "      <th>...</th>\n",
       "      <td>...</td>\n",
       "      <td>...</td>\n",
       "      <td>...</td>\n",
       "      <td>...</td>\n",
       "      <td>...</td>\n",
       "      <td>...</td>\n",
       "    </tr>\n",
       "    <tr>\n",
       "      <th>2023-12-21</th>\n",
       "      <td>196.100006</td>\n",
       "      <td>197.080002</td>\n",
       "      <td>193.500000</td>\n",
       "      <td>194.679993</td>\n",
       "      <td>194.679993</td>\n",
       "      <td>46482500</td>\n",
       "    </tr>\n",
       "    <tr>\n",
       "      <th>2023-12-22</th>\n",
       "      <td>195.179993</td>\n",
       "      <td>195.410004</td>\n",
       "      <td>192.970001</td>\n",
       "      <td>193.600006</td>\n",
       "      <td>193.600006</td>\n",
       "      <td>37122800</td>\n",
       "    </tr>\n",
       "    <tr>\n",
       "      <th>2023-12-26</th>\n",
       "      <td>193.610001</td>\n",
       "      <td>193.889999</td>\n",
       "      <td>192.830002</td>\n",
       "      <td>193.050003</td>\n",
       "      <td>193.050003</td>\n",
       "      <td>28919300</td>\n",
       "    </tr>\n",
       "    <tr>\n",
       "      <th>2023-12-27</th>\n",
       "      <td>192.490005</td>\n",
       "      <td>193.500000</td>\n",
       "      <td>191.089996</td>\n",
       "      <td>193.149994</td>\n",
       "      <td>193.149994</td>\n",
       "      <td>48087700</td>\n",
       "    </tr>\n",
       "    <tr>\n",
       "      <th>2023-12-28</th>\n",
       "      <td>194.139999</td>\n",
       "      <td>194.660004</td>\n",
       "      <td>193.169998</td>\n",
       "      <td>193.580002</td>\n",
       "      <td>193.580002</td>\n",
       "      <td>34014500</td>\n",
       "    </tr>\n",
       "  </tbody>\n",
       "</table>\n",
       "<p>10852 rows × 6 columns</p>\n",
       "</div>"
      ],
      "text/plain": [
       "                  Open        High         Low       Close   Adj Close  \\\n",
       "Date                                                                     \n",
       "1980-12-12    0.128348    0.128906    0.128348    0.128348    0.099319   \n",
       "1980-12-15    0.122210    0.122210    0.121652    0.121652    0.094137   \n",
       "1980-12-16    0.113281    0.113281    0.112723    0.112723    0.087228   \n",
       "1980-12-17    0.115513    0.116071    0.115513    0.115513    0.089387   \n",
       "1980-12-18    0.118862    0.119420    0.118862    0.118862    0.091978   \n",
       "...                ...         ...         ...         ...         ...   \n",
       "2023-12-21  196.100006  197.080002  193.500000  194.679993  194.679993   \n",
       "2023-12-22  195.179993  195.410004  192.970001  193.600006  193.600006   \n",
       "2023-12-26  193.610001  193.889999  192.830002  193.050003  193.050003   \n",
       "2023-12-27  192.490005  193.500000  191.089996  193.149994  193.149994   \n",
       "2023-12-28  194.139999  194.660004  193.169998  193.580002  193.580002   \n",
       "\n",
       "               Volume  \n",
       "Date                   \n",
       "1980-12-12  469033600  \n",
       "1980-12-15  175884800  \n",
       "1980-12-16  105728000  \n",
       "1980-12-17   86441600  \n",
       "1980-12-18   73449600  \n",
       "...               ...  \n",
       "2023-12-21   46482500  \n",
       "2023-12-22   37122800  \n",
       "2023-12-26   28919300  \n",
       "2023-12-27   48087700  \n",
       "2023-12-28   34014500  \n",
       "\n",
       "[10852 rows x 6 columns]"
      ]
     },
     "execution_count": 1,
     "metadata": {},
     "output_type": "execute_result"
    }
   ],
   "source": [
    "import yfinance as yf\n",
    "\n",
    "ticker = 'AAPL'\n",
    "df = yf.download(ticker)\n",
    "df"
   ]
  },
  {
   "attachments": {},
   "cell_type": "markdown",
   "id": "723e350a-e1d9-4489-be1d-cfb15dd500a1",
   "metadata": {},
   "source": [
    "## Preprocess the data"
   ]
  },
  {
   "attachments": {},
   "cell_type": "markdown",
   "id": "767768ca-56e5-45e4-8bb5-3d7c9fcd7a76",
   "metadata": {},
   "source": [
    "### Filter the date range"
   ]
  },
  {
   "cell_type": "code",
   "execution_count": 2,
   "id": "1013b0a9-1c09-4993-9caa-ac54e220db9c",
   "metadata": {},
   "outputs": [],
   "source": [
    "df = df.loc['2018-01-01':].copy()"
   ]
  },
  {
   "attachments": {},
   "cell_type": "markdown",
   "id": "6bd2c18d-976d-4408-b167-2b39bb5f56ce",
   "metadata": {},
   "source": [
    "### Create the target variable\n",
    "\n",
    "#### Percentage change\n",
    "\n",
    "- Percentage change on `Adj Close` for tomorrow"
   ]
  },
  {
   "cell_type": "code",
   "execution_count": 3,
   "id": "9722486d-7552-45ae-ac50-0d11658fb1b9",
   "metadata": {},
   "outputs": [],
   "source": [
    "df['change_tomorrow'] = df['Adj Close'].pct_change(-1)\n",
    "df.change_tomorrow = df.change_tomorrow * -1\n",
    "df.change_tomorrow = df.change_tomorrow * 100"
   ]
  },
  {
   "attachments": {},
   "cell_type": "markdown",
   "id": "7e99ef6d-4972-4eab-9984-370cbb7690c0",
   "metadata": {},
   "source": [
    "#### Remove rows with any missing data"
   ]
  },
  {
   "cell_type": "code",
   "execution_count": 4,
   "id": "2569c738-17c1-4b1f-a8a4-f24cbcef6dc2",
   "metadata": {},
   "outputs": [
    {
     "data": {
      "text/html": [
       "<div>\n",
       "<style scoped>\n",
       "    .dataframe tbody tr th:only-of-type {\n",
       "        vertical-align: middle;\n",
       "    }\n",
       "\n",
       "    .dataframe tbody tr th {\n",
       "        vertical-align: top;\n",
       "    }\n",
       "\n",
       "    .dataframe thead th {\n",
       "        text-align: right;\n",
       "    }\n",
       "</style>\n",
       "<table border=\"1\" class=\"dataframe\">\n",
       "  <thead>\n",
       "    <tr style=\"text-align: right;\">\n",
       "      <th></th>\n",
       "      <th>Open</th>\n",
       "      <th>High</th>\n",
       "      <th>Low</th>\n",
       "      <th>Close</th>\n",
       "      <th>Adj Close</th>\n",
       "      <th>Volume</th>\n",
       "      <th>change_tomorrow</th>\n",
       "    </tr>\n",
       "    <tr>\n",
       "      <th>Date</th>\n",
       "      <th></th>\n",
       "      <th></th>\n",
       "      <th></th>\n",
       "      <th></th>\n",
       "      <th></th>\n",
       "      <th></th>\n",
       "      <th></th>\n",
       "    </tr>\n",
       "  </thead>\n",
       "  <tbody>\n",
       "    <tr>\n",
       "      <th>2018-01-02</th>\n",
       "      <td>42.540001</td>\n",
       "      <td>43.075001</td>\n",
       "      <td>42.314999</td>\n",
       "      <td>43.064999</td>\n",
       "      <td>40.722881</td>\n",
       "      <td>102223600</td>\n",
       "      <td>-0.017417</td>\n",
       "    </tr>\n",
       "    <tr>\n",
       "      <th>2018-01-03</th>\n",
       "      <td>43.132500</td>\n",
       "      <td>43.637501</td>\n",
       "      <td>42.990002</td>\n",
       "      <td>43.057499</td>\n",
       "      <td>40.715790</td>\n",
       "      <td>118071600</td>\n",
       "      <td>0.462316</td>\n",
       "    </tr>\n",
       "    <tr>\n",
       "      <th>2018-01-04</th>\n",
       "      <td>43.134998</td>\n",
       "      <td>43.367500</td>\n",
       "      <td>43.020000</td>\n",
       "      <td>43.257500</td>\n",
       "      <td>40.904900</td>\n",
       "      <td>89738400</td>\n",
       "      <td>1.125738</td>\n",
       "    </tr>\n",
       "    <tr>\n",
       "      <th>2018-01-05</th>\n",
       "      <td>43.360001</td>\n",
       "      <td>43.842499</td>\n",
       "      <td>43.262501</td>\n",
       "      <td>43.750000</td>\n",
       "      <td>41.370625</td>\n",
       "      <td>94640000</td>\n",
       "      <td>-0.372835</td>\n",
       "    </tr>\n",
       "    <tr>\n",
       "      <th>2018-01-08</th>\n",
       "      <td>43.587502</td>\n",
       "      <td>43.902500</td>\n",
       "      <td>43.482498</td>\n",
       "      <td>43.587502</td>\n",
       "      <td>41.216953</td>\n",
       "      <td>82271200</td>\n",
       "      <td>-0.011450</td>\n",
       "    </tr>\n",
       "    <tr>\n",
       "      <th>...</th>\n",
       "      <td>...</td>\n",
       "      <td>...</td>\n",
       "      <td>...</td>\n",
       "      <td>...</td>\n",
       "      <td>...</td>\n",
       "      <td>...</td>\n",
       "      <td>...</td>\n",
       "    </tr>\n",
       "    <tr>\n",
       "      <th>2023-12-20</th>\n",
       "      <td>196.899994</td>\n",
       "      <td>197.679993</td>\n",
       "      <td>194.830002</td>\n",
       "      <td>194.830002</td>\n",
       "      <td>194.830002</td>\n",
       "      <td>52242800</td>\n",
       "      <td>-0.077054</td>\n",
       "    </tr>\n",
       "    <tr>\n",
       "      <th>2023-12-21</th>\n",
       "      <td>196.100006</td>\n",
       "      <td>197.080002</td>\n",
       "      <td>193.500000</td>\n",
       "      <td>194.679993</td>\n",
       "      <td>194.679993</td>\n",
       "      <td>46482500</td>\n",
       "      <td>-0.557844</td>\n",
       "    </tr>\n",
       "    <tr>\n",
       "      <th>2023-12-22</th>\n",
       "      <td>195.179993</td>\n",
       "      <td>195.410004</td>\n",
       "      <td>192.970001</td>\n",
       "      <td>193.600006</td>\n",
       "      <td>193.600006</td>\n",
       "      <td>37122800</td>\n",
       "      <td>-0.284902</td>\n",
       "    </tr>\n",
       "    <tr>\n",
       "      <th>2023-12-26</th>\n",
       "      <td>193.610001</td>\n",
       "      <td>193.889999</td>\n",
       "      <td>192.830002</td>\n",
       "      <td>193.050003</td>\n",
       "      <td>193.050003</td>\n",
       "      <td>28919300</td>\n",
       "      <td>0.051768</td>\n",
       "    </tr>\n",
       "    <tr>\n",
       "      <th>2023-12-27</th>\n",
       "      <td>192.490005</td>\n",
       "      <td>193.500000</td>\n",
       "      <td>191.089996</td>\n",
       "      <td>193.149994</td>\n",
       "      <td>193.149994</td>\n",
       "      <td>48087700</td>\n",
       "      <td>0.222134</td>\n",
       "    </tr>\n",
       "  </tbody>\n",
       "</table>\n",
       "<p>1507 rows × 7 columns</p>\n",
       "</div>"
      ],
      "text/plain": [
       "                  Open        High         Low       Close   Adj Close  \\\n",
       "Date                                                                     \n",
       "2018-01-02   42.540001   43.075001   42.314999   43.064999   40.722881   \n",
       "2018-01-03   43.132500   43.637501   42.990002   43.057499   40.715790   \n",
       "2018-01-04   43.134998   43.367500   43.020000   43.257500   40.904900   \n",
       "2018-01-05   43.360001   43.842499   43.262501   43.750000   41.370625   \n",
       "2018-01-08   43.587502   43.902500   43.482498   43.587502   41.216953   \n",
       "...                ...         ...         ...         ...         ...   \n",
       "2023-12-20  196.899994  197.679993  194.830002  194.830002  194.830002   \n",
       "2023-12-21  196.100006  197.080002  193.500000  194.679993  194.679993   \n",
       "2023-12-22  195.179993  195.410004  192.970001  193.600006  193.600006   \n",
       "2023-12-26  193.610001  193.889999  192.830002  193.050003  193.050003   \n",
       "2023-12-27  192.490005  193.500000  191.089996  193.149994  193.149994   \n",
       "\n",
       "               Volume  change_tomorrow  \n",
       "Date                                    \n",
       "2018-01-02  102223600        -0.017417  \n",
       "2018-01-03  118071600         0.462316  \n",
       "2018-01-04   89738400         1.125738  \n",
       "2018-01-05   94640000        -0.372835  \n",
       "2018-01-08   82271200        -0.011450  \n",
       "...               ...              ...  \n",
       "2023-12-20   52242800        -0.077054  \n",
       "2023-12-21   46482500        -0.557844  \n",
       "2023-12-22   37122800        -0.284902  \n",
       "2023-12-26   28919300         0.051768  \n",
       "2023-12-27   48087700         0.222134  \n",
       "\n",
       "[1507 rows x 7 columns]"
      ]
     },
     "execution_count": 4,
     "metadata": {},
     "output_type": "execute_result"
    }
   ],
   "source": [
    "df = df.dropna().copy()\n",
    "df"
   ]
  },
  {
   "attachments": {},
   "cell_type": "markdown",
   "id": "655d6108-af74-4292-a4b4-493616cbe23e",
   "metadata": {},
   "source": [
    "## Machine Learning modelling"
   ]
  },
  {
   "attachments": {},
   "cell_type": "markdown",
   "id": "9fce80a7-9450-4b03-ad2b-606740fc43e8",
   "metadata": {},
   "source": [
    "### Separate the data\n",
    "\n",
    "1. Target: which variable do you want to predict?\n",
    "2. Explanatory: which variables will you use to calculate the prediction?"
   ]
  },
  {
   "cell_type": "code",
   "execution_count": 5,
   "id": "ef3796a9-334d-48b2-b516-0c1e9122dbbc",
   "metadata": {},
   "outputs": [],
   "source": [
    "y = df.change_tomorrow\n",
    "X = df[['Open','High','Low','Close','Volume']]"
   ]
  },
  {
   "attachments": {},
   "cell_type": "markdown",
   "id": "4166d62a-ce20-4983-a6e1-a21104257369",
   "metadata": {},
   "source": [
    "### Time Series Split"
   ]
  },
  {
   "cell_type": "code",
   "execution_count": 6,
   "id": "2adea422-25dd-4b9e-9bc9-18655eededab",
   "metadata": {},
   "outputs": [],
   "source": [
    "from sklearn.model_selection import TimeSeriesSplit"
   ]
  },
  {
   "cell_type": "code",
   "execution_count": 13,
   "id": "0e21de34",
   "metadata": {},
   "outputs": [],
   "source": [
    "ts = TimeSeriesSplit(test_size=200)"
   ]
  },
  {
   "attachments": {},
   "cell_type": "markdown",
   "id": "9bd32790-1b1f-450b-bd30-3438ab26e8f3",
   "metadata": {},
   "source": [
    "### Compute and evaluate model in a for loop\n",
    "\n",
    "1. Separate the data in train and test\n",
    "2. Compute the model on the train set\n",
    "3. Evaluate the model (mse) on the test set\n",
    "4. Append the errors (mse) in an empty list"
   ]
  },
  {
   "cell_type": "code",
   "execution_count": 10,
   "id": "59b64085",
   "metadata": {},
   "outputs": [],
   "source": [
    "from sklearn.ensemble import RandomForestRegressor\n",
    "from sklearn.metrics import mean_squared_error"
   ]
  },
  {
   "cell_type": "code",
   "execution_count": 14,
   "id": "5f94397c",
   "metadata": {},
   "outputs": [],
   "source": [
    "list_mse = []\n",
    "model = RandomForestRegressor(max_depth=15, random_state=42)\n",
    "\n",
    "for index_train, index_test in ts.split(df):\n",
    "    \n",
    "    X_train, y_train = X.iloc[index_train], y.iloc[index_train]\n",
    "    X_test, y_test = X.iloc[index_test], y.iloc[index_test]\n",
    "\n",
    "    model.fit(X_train, y_train)\n",
    "\n",
    "    y_pred = model.predict(X_test)\n",
    "    mse = mean_squared_error(y_test, y_pred)\n",
    "\n",
    "    list_mse.append(mse)"
   ]
  },
  {
   "cell_type": "code",
   "execution_count": 15,
   "id": "9ff7e94e",
   "metadata": {},
   "outputs": [
    {
     "data": {
      "text/plain": [
       "[10.1968802103692,\n",
       " 9.650737188689732,\n",
       " 4.283537989526044,\n",
       " 4.501870499148744,\n",
       " 2.6101983365231636]"
      ]
     },
     "execution_count": 15,
     "metadata": {},
     "output_type": "execute_result"
    }
   ],
   "source": [
    "list_mse"
   ]
  },
  {
   "attachments": {},
   "cell_type": "markdown",
   "id": "4b381ac4-c140-4150-9f95-3bff60adca2b",
   "metadata": {},
   "source": [
    "## Anchored Walk Forward evaluation in backtesting"
   ]
  },
  {
   "attachments": {},
   "cell_type": "markdown",
   "id": "9233cc82",
   "metadata": {},
   "source": [
    "![](<src/10_Table_Validation Methods.png>)"
   ]
  },
  {
   "attachments": {},
   "cell_type": "markdown",
   "id": "3e9a4d80-7db7-4f64-965f-36439ffa2fee",
   "metadata": {},
   "source": [
    "### Create a new strategy"
   ]
  },
  {
   "cell_type": "code",
   "execution_count": 16,
   "id": "9958edec",
   "metadata": {},
   "outputs": [],
   "source": [
    "from backtesting import Strategy"
   ]
  },
  {
   "cell_type": "code",
   "execution_count": 17,
   "id": "dacf7ad0-b5d5-471e-b84e-971bc9c5aff1",
   "metadata": {},
   "outputs": [],
   "source": [
    "class Regression(Strategy):\n",
    "    limit_buy = 1\n",
    "    limit_sell = -5\n",
    "    n_train = 600\n",
    "    coeff_retrain = 200\n",
    "    \n",
    "    def init(self):\n",
    "        self.model = RandomForestRegressor(max_depth=15, random_state=42)\n",
    "        self.already_bought = False\n",
    "        \n",
    "        X_train = self.data.df.iloc[:self.n_train, :-1]\n",
    "        y_train = self.data.df.iloc[:self.n_train, -1]\n",
    "        \n",
    "        self.model.fit(X=X_train, y=y_train)\n",
    "\n",
    "    def next(self):\n",
    "        explanatory_today = self.data.df.iloc[[-1], :-1]\n",
    "        forecast_tomorrow = self.model.predict(explanatory_today)[0]\n",
    "        \n",
    "        if forecast_tomorrow > self.limit_buy and self.already_bought == False:\n",
    "            self.buy()\n",
    "            self.already_bought = True\n",
    "        elif forecast_tomorrow < self.limit_sell and self.already_bought == True:\n",
    "            self.sell()\n",
    "            self.already_bought = False\n",
    "        else:\n",
    "            pass"
   ]
  },
  {
   "cell_type": "code",
   "execution_count": 18,
   "id": "e53301e7",
   "metadata": {},
   "outputs": [],
   "source": [
    "class WalkForwardAnchored(Regression):\n",
    "    def next(self):\n",
    "        \n",
    "        # we don't take any action and move on to the following day\n",
    "        if len(self.data) < self.n_train:\n",
    "            return\n",
    "        \n",
    "        # we retrain the model each x days\n",
    "        if len(self.data) % self.coeff_retrain == 0:\n",
    "            X_train = self.data.df.iloc[:, :-1]\n",
    "            y_train = self.data.df.iloc[:, -1]\n",
    "\n",
    "            self.model.fit(X_train, y_train)\n",
    "\n",
    "            super().next()\n",
    "            \n",
    "        else:\n",
    "            \n",
    "            super().next()"
   ]
  },
  {
   "attachments": {},
   "cell_type": "markdown",
   "id": "b667d2c0-a4b0-40bc-808d-b93b604f2e1b",
   "metadata": {},
   "source": [
    "### Run the backtest with optimization"
   ]
  },
  {
   "cell_type": "code",
   "execution_count": null,
   "id": "4c10fbc9-f968-4eaf-a681-b70f8ec66068",
   "metadata": {},
   "outputs": [],
   "source": [
    "import multiprocessing as mp\n",
    "mp.set_start_method('fork')"
   ]
  },
  {
   "cell_type": "code",
   "execution_count": 21,
   "id": "dd460401",
   "metadata": {},
   "outputs": [],
   "source": [
    "from backtesting import Backtest\n",
    "bt = Backtest(df, WalkForwardAnchored, cash=10000, commission=.002, exclusive_orders=True)"
   ]
  },
  {
   "cell_type": "code",
   "execution_count": null,
   "id": "6d734ed2-eca6-4a2e-8354-77f838e68bcf",
   "metadata": {},
   "outputs": [],
   "source": [
    "stats_skopt, heatmap, optimize_result = bt.optimize(\n",
    "    limit_buy = range(0, 6), limit_sell = range(-6, 0),\n",
    "    maximize='Return [%]',\n",
    "    max_tries=500,\n",
    "    random_state=42,\n",
    "    return_heatmap=True,\n",
    "    return_optimization=True,\n",
    "    method='skopt'\n",
    "    )\n",
    "\n",
    "dff = heatmap.reset_index()\n",
    "dff = dff.sort_values('Return [%]', ascending=False)\n",
    "dff"
   ]
  },
  {
   "attachments": {},
   "cell_type": "markdown",
   "id": "5e4bb005-9451-4b3a-ad1f-68677aa0070a",
   "metadata": {},
   "source": [
    "## Unanchored Walk Forward"
   ]
  },
  {
   "attachments": {},
   "cell_type": "markdown",
   "id": "927ec43c",
   "metadata": {},
   "source": [
    "### Create a library of strategies"
   ]
  },
  {
   "attachments": {},
   "cell_type": "markdown",
   "id": "9f43c0ec-be9d-49e3-968e-5697a4997ac8",
   "metadata": {},
   "source": [
    "[strategies.py](strategies.py)"
   ]
  },
  {
   "attachments": {},
   "cell_type": "markdown",
   "id": "a217d7d6",
   "metadata": {},
   "source": [
    "### Create the unanchored walk forward class\n",
    "\n",
    "In the previously created library"
   ]
  },
  {
   "attachments": {},
   "cell_type": "markdown",
   "id": "2746c22f",
   "metadata": {},
   "source": [
    "![](<src/10_Table_Validation Methods.png>)"
   ]
  },
  {
   "attachments": {},
   "cell_type": "markdown",
   "id": "b73a4767",
   "metadata": {},
   "source": [
    "### Import the strategy and perform the backtest with optimization"
   ]
  },
  {
   "cell_type": "code",
   "execution_count": 22,
   "id": "dbf7436c",
   "metadata": {},
   "outputs": [],
   "source": [
    "%load_ext autoreload\n",
    "%autoreload 2"
   ]
  },
  {
   "cell_type": "code",
   "execution_count": 23,
   "id": "3b0396c5",
   "metadata": {},
   "outputs": [],
   "source": [
    "import strategies"
   ]
  },
  {
   "cell_type": "code",
   "execution_count": null,
   "id": "8d439835-ecfb-45d3-a5c8-eb40a26b51d9",
   "metadata": {},
   "outputs": [],
   "source": [
    "bt_unanchored = Backtest(df, strategies.WalkForwardUnanchored, cash=10000, commission=.002, exclusive_orders=True)\n",
    "\n",
    "stats_skopt, heatmap, optimize_result = bt_unanchored.optimize(\n",
    "    limit_buy = range(0, 6), limit_sell = range(-6, 0),\n",
    "    maximize='Return [%]',\n",
    "    max_tries=500,\n",
    "    random_state=42,\n",
    "    return_heatmap=True,\n",
    "    return_optimization=True,\n",
    "    method='skopt'\n",
    "    )\n",
    "\n",
    "dff = heatmap.reset_index()\n",
    "dff = dff.sort_values('Return [%]', ascending=False)\n",
    "dff"
   ]
  },
  {
   "attachments": {},
   "cell_type": "markdown",
   "id": "7eee71ca",
   "metadata": {},
   "source": [
    "### Interpret the strategies' performance"
   ]
  },
  {
   "cell_type": "code",
   "execution_count": null,
   "id": "16834683",
   "metadata": {},
   "outputs": [],
   "source": [
    "bt.plot(filename='reports_backtesting/walk_forward_anchored.html')"
   ]
  },
  {
   "cell_type": "code",
   "execution_count": null,
   "id": "efbb0798",
   "metadata": {},
   "outputs": [],
   "source": [
    "bt_unanchored.plot(filename='reports_backtesting/walk_forward_unanchored.html')"
   ]
  },
  {
   "attachments": {},
   "cell_type": "markdown",
   "id": "b5ff1fe0",
   "metadata": {},
   "source": [
    "## Course Conclusion\n",
    "\n",
    "Watch video → [Next steps]()"
   ]
  }
 ],
 "metadata": {
  "kernelspec": {
   "display_name": "Python 3",
   "language": "python",
   "name": "python3"
  },
  "language_info": {
   "codemirror_mode": {
    "name": "ipython",
    "version": 3
   },
   "file_extension": ".py",
   "mimetype": "text/x-python",
   "name": "python",
   "nbconvert_exporter": "python",
   "pygments_lexer": "ipython3",
   "version": "3.10.12"
  }
 },
 "nbformat": 4,
 "nbformat_minor": 5
}
