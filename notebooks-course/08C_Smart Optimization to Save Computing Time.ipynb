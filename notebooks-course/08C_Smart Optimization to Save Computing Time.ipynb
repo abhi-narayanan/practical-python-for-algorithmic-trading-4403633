{
 "cells": [
  {
   "attachments": {},
   "cell_type": "markdown",
   "id": "c52ce656-02ee-4d26-a276-a4b5d2404c86",
   "metadata": {},
   "source": [
    "# Challenge: Optimization on Other Datasets"
   ]
  },
  {
   "attachments": {},
   "cell_type": "markdown",
   "id": "2a13e12c-8405-4393-9bbf-c1fe901f4ab8",
   "metadata": {},
   "source": [
    "## Download data from `yfinance`"
   ]
  },
  {
   "cell_type": "code",
   "execution_count": 1,
   "id": "c1ac0880-5f22-4a6c-ae95-e2ee4aa85cc7",
   "metadata": {},
   "outputs": [
    {
     "name": "stdout",
     "output_type": "stream",
     "text": [
      "[*********************100%%**********************]  1 of 1 completed\n"
     ]
    },
    {
     "data": {
      "text/html": [
       "<div>\n",
       "<style scoped>\n",
       "    .dataframe tbody tr th:only-of-type {\n",
       "        vertical-align: middle;\n",
       "    }\n",
       "\n",
       "    .dataframe tbody tr th {\n",
       "        vertical-align: top;\n",
       "    }\n",
       "\n",
       "    .dataframe thead th {\n",
       "        text-align: right;\n",
       "    }\n",
       "</style>\n",
       "<table border=\"1\" class=\"dataframe\">\n",
       "  <thead>\n",
       "    <tr style=\"text-align: right;\">\n",
       "      <th></th>\n",
       "      <th>Open</th>\n",
       "      <th>High</th>\n",
       "      <th>Low</th>\n",
       "      <th>Close</th>\n",
       "      <th>Adj Close</th>\n",
       "      <th>Volume</th>\n",
       "    </tr>\n",
       "    <tr>\n",
       "      <th>Date</th>\n",
       "      <th></th>\n",
       "      <th></th>\n",
       "      <th></th>\n",
       "      <th></th>\n",
       "      <th></th>\n",
       "      <th></th>\n",
       "    </tr>\n",
       "  </thead>\n",
       "  <tbody>\n",
       "    <tr>\n",
       "      <th>2018-04-02</th>\n",
       "      <td>563.849976</td>\n",
       "      <td>577.500000</td>\n",
       "      <td>559.000000</td>\n",
       "      <td>574.625000</td>\n",
       "      <td>405.803162</td>\n",
       "      <td>352730</td>\n",
       "    </tr>\n",
       "    <tr>\n",
       "      <th>2018-04-03</th>\n",
       "      <td>570.500000</td>\n",
       "      <td>573.500000</td>\n",
       "      <td>563.174988</td>\n",
       "      <td>564.299988</td>\n",
       "      <td>398.511566</td>\n",
       "      <td>115130</td>\n",
       "    </tr>\n",
       "    <tr>\n",
       "      <th>2018-04-04</th>\n",
       "      <td>565.000000</td>\n",
       "      <td>570.000000</td>\n",
       "      <td>557.500000</td>\n",
       "      <td>557.950012</td>\n",
       "      <td>394.027161</td>\n",
       "      <td>163364</td>\n",
       "    </tr>\n",
       "    <tr>\n",
       "      <th>2018-04-05</th>\n",
       "      <td>561.000000</td>\n",
       "      <td>565.625000</td>\n",
       "      <td>554.750000</td>\n",
       "      <td>556.974976</td>\n",
       "      <td>393.338562</td>\n",
       "      <td>149988</td>\n",
       "    </tr>\n",
       "    <tr>\n",
       "      <th>2018-04-06</th>\n",
       "      <td>551.750000</td>\n",
       "      <td>559.424988</td>\n",
       "      <td>550.025024</td>\n",
       "      <td>551.424988</td>\n",
       "      <td>389.419189</td>\n",
       "      <td>146026</td>\n",
       "    </tr>\n",
       "    <tr>\n",
       "      <th>...</th>\n",
       "      <td>...</td>\n",
       "      <td>...</td>\n",
       "      <td>...</td>\n",
       "      <td>...</td>\n",
       "      <td>...</td>\n",
       "      <td>...</td>\n",
       "    </tr>\n",
       "    <tr>\n",
       "      <th>2023-12-21</th>\n",
       "      <td>2639.000000</td>\n",
       "      <td>2737.949951</td>\n",
       "      <td>2585.000000</td>\n",
       "      <td>2706.500000</td>\n",
       "      <td>2706.500000</td>\n",
       "      <td>2206814</td>\n",
       "    </tr>\n",
       "    <tr>\n",
       "      <th>2023-12-22</th>\n",
       "      <td>2723.000000</td>\n",
       "      <td>2727.000000</td>\n",
       "      <td>2677.600098</td>\n",
       "      <td>2703.699951</td>\n",
       "      <td>2703.699951</td>\n",
       "      <td>1000294</td>\n",
       "    </tr>\n",
       "    <tr>\n",
       "      <th>2023-12-26</th>\n",
       "      <td>2710.000000</td>\n",
       "      <td>2829.949951</td>\n",
       "      <td>2701.250000</td>\n",
       "      <td>2820.649902</td>\n",
       "      <td>2820.649902</td>\n",
       "      <td>2160870</td>\n",
       "    </tr>\n",
       "    <tr>\n",
       "      <th>2023-12-27</th>\n",
       "      <td>2832.949951</td>\n",
       "      <td>2836.949951</td>\n",
       "      <td>2788.000000</td>\n",
       "      <td>2808.199951</td>\n",
       "      <td>2808.199951</td>\n",
       "      <td>1156573</td>\n",
       "    </tr>\n",
       "    <tr>\n",
       "      <th>2023-12-28</th>\n",
       "      <td>2812.500000</td>\n",
       "      <td>2827.000000</td>\n",
       "      <td>2796.050049</td>\n",
       "      <td>2805.800049</td>\n",
       "      <td>2805.800049</td>\n",
       "      <td>1002155</td>\n",
       "    </tr>\n",
       "  </tbody>\n",
       "</table>\n",
       "<p>1420 rows × 6 columns</p>\n",
       "</div>"
      ],
      "text/plain": [
       "                   Open         High          Low        Close    Adj Close  \\\n",
       "Date                                                                          \n",
       "2018-04-02   563.849976   577.500000   559.000000   574.625000   405.803162   \n",
       "2018-04-03   570.500000   573.500000   563.174988   564.299988   398.511566   \n",
       "2018-04-04   565.000000   570.000000   557.500000   557.950012   394.027161   \n",
       "2018-04-05   561.000000   565.625000   554.750000   556.974976   393.338562   \n",
       "2018-04-06   551.750000   559.424988   550.025024   551.424988   389.419189   \n",
       "...                 ...          ...          ...          ...          ...   \n",
       "2023-12-21  2639.000000  2737.949951  2585.000000  2706.500000  2706.500000   \n",
       "2023-12-22  2723.000000  2727.000000  2677.600098  2703.699951  2703.699951   \n",
       "2023-12-26  2710.000000  2829.949951  2701.250000  2820.649902  2820.649902   \n",
       "2023-12-27  2832.949951  2836.949951  2788.000000  2808.199951  2808.199951   \n",
       "2023-12-28  2812.500000  2827.000000  2796.050049  2805.800049  2805.800049   \n",
       "\n",
       "             Volume  \n",
       "Date                 \n",
       "2018-04-02   352730  \n",
       "2018-04-03   115130  \n",
       "2018-04-04   163364  \n",
       "2018-04-05   149988  \n",
       "2018-04-06   146026  \n",
       "...             ...  \n",
       "2023-12-21  2206814  \n",
       "2023-12-22  1000294  \n",
       "2023-12-26  2160870  \n",
       "2023-12-27  1156573  \n",
       "2023-12-28  1002155  \n",
       "\n",
       "[1420 rows x 6 columns]"
      ]
     },
     "execution_count": 1,
     "metadata": {},
     "output_type": "execute_result"
    }
   ],
   "source": [
    "import yfinance as yf\n",
    "\n",
    "ticker = 'HAL.NS'\n",
    "df = yf.download(ticker)\n",
    "df"
   ]
  },
  {
   "attachments": {},
   "cell_type": "markdown",
   "id": "ff2baa5f-8848-4c76-9c0b-7c9b476ee223",
   "metadata": {},
   "source": [
    "## Preprocess the data"
   ]
  },
  {
   "attachments": {},
   "cell_type": "markdown",
   "id": "3f3979cb-8144-4d9a-b1ae-982a08c8f741",
   "metadata": {},
   "source": [
    "### Filter the date range\n",
    "\n",
    "- Since 1 year ago at least"
   ]
  },
  {
   "cell_type": "code",
   "execution_count": 2,
   "id": "ac0de2d4-4e40-464c-aae8-8a152a5e8722",
   "metadata": {},
   "outputs": [],
   "source": [
    "df = df.loc['2020-01-01':].copy()"
   ]
  },
  {
   "attachments": {},
   "cell_type": "markdown",
   "id": "f519e27c-26ef-4d20-9e0f-52b387767351",
   "metadata": {},
   "source": [
    "### Create the target variable\n",
    "\n",
    "#### Percentage change\n",
    "\n",
    "- Percentage change on `Adj Close` for tomorrow"
   ]
  },
  {
   "cell_type": "code",
   "execution_count": 3,
   "id": "bf8b17d0-7b90-4ee5-83c7-1ad5be3ff290",
   "metadata": {},
   "outputs": [],
   "source": [
    "df['change_tomorrow'] = df['Adj Close'].pct_change(-1)\n",
    "df.change_tomorrow = df.change_tomorrow * -1\n",
    "df.change_tomorrow = df.change_tomorrow * 100"
   ]
  },
  {
   "attachments": {},
   "cell_type": "markdown",
   "id": "8caab272-5358-45b1-801b-fd156854bdf7",
   "metadata": {},
   "source": [
    "#### Remove rows with any missing data"
   ]
  },
  {
   "cell_type": "code",
   "execution_count": 4,
   "id": "68ca98e0-5a5e-4b28-b709-8a900d866c23",
   "metadata": {},
   "outputs": [
    {
     "data": {
      "text/html": [
       "<div>\n",
       "<style scoped>\n",
       "    .dataframe tbody tr th:only-of-type {\n",
       "        vertical-align: middle;\n",
       "    }\n",
       "\n",
       "    .dataframe tbody tr th {\n",
       "        vertical-align: top;\n",
       "    }\n",
       "\n",
       "    .dataframe thead th {\n",
       "        text-align: right;\n",
       "    }\n",
       "</style>\n",
       "<table border=\"1\" class=\"dataframe\">\n",
       "  <thead>\n",
       "    <tr style=\"text-align: right;\">\n",
       "      <th></th>\n",
       "      <th>Open</th>\n",
       "      <th>High</th>\n",
       "      <th>Low</th>\n",
       "      <th>Close</th>\n",
       "      <th>Adj Close</th>\n",
       "      <th>Volume</th>\n",
       "      <th>change_tomorrow</th>\n",
       "    </tr>\n",
       "    <tr>\n",
       "      <th>Date</th>\n",
       "      <th></th>\n",
       "      <th></th>\n",
       "      <th></th>\n",
       "      <th></th>\n",
       "      <th></th>\n",
       "      <th></th>\n",
       "      <th></th>\n",
       "    </tr>\n",
       "  </thead>\n",
       "  <tbody>\n",
       "    <tr>\n",
       "      <th>2020-01-01</th>\n",
       "      <td>367.500000</td>\n",
       "      <td>367.575012</td>\n",
       "      <td>365.000000</td>\n",
       "      <td>365.100006</td>\n",
       "      <td>272.420624</td>\n",
       "      <td>6386</td>\n",
       "      <td>0.686829</td>\n",
       "    </tr>\n",
       "    <tr>\n",
       "      <th>2020-01-02</th>\n",
       "      <td>367.475006</td>\n",
       "      <td>374.625000</td>\n",
       "      <td>364.674988</td>\n",
       "      <td>367.625000</td>\n",
       "      <td>274.304626</td>\n",
       "      <td>26118</td>\n",
       "      <td>0.223920</td>\n",
       "    </tr>\n",
       "    <tr>\n",
       "      <th>2020-01-03</th>\n",
       "      <td>368.899994</td>\n",
       "      <td>378.450012</td>\n",
       "      <td>361.750000</td>\n",
       "      <td>368.450012</td>\n",
       "      <td>274.920227</td>\n",
       "      <td>277418</td>\n",
       "      <td>-1.014418</td>\n",
       "    </tr>\n",
       "    <tr>\n",
       "      <th>2020-01-06</th>\n",
       "      <td>365.549988</td>\n",
       "      <td>369.725006</td>\n",
       "      <td>360.850006</td>\n",
       "      <td>364.750000</td>\n",
       "      <td>272.159393</td>\n",
       "      <td>23622</td>\n",
       "      <td>0.734795</td>\n",
       "    </tr>\n",
       "    <tr>\n",
       "      <th>2020-01-07</th>\n",
       "      <td>362.600006</td>\n",
       "      <td>369.725006</td>\n",
       "      <td>362.500000</td>\n",
       "      <td>367.450012</td>\n",
       "      <td>274.174011</td>\n",
       "      <td>15998</td>\n",
       "      <td>0.088389</td>\n",
       "    </tr>\n",
       "    <tr>\n",
       "      <th>...</th>\n",
       "      <td>...</td>\n",
       "      <td>...</td>\n",
       "      <td>...</td>\n",
       "      <td>...</td>\n",
       "      <td>...</td>\n",
       "      <td>...</td>\n",
       "      <td>...</td>\n",
       "    </tr>\n",
       "    <tr>\n",
       "      <th>2023-12-20</th>\n",
       "      <td>2797.949951</td>\n",
       "      <td>2819.949951</td>\n",
       "      <td>2651.000000</td>\n",
       "      <td>2665.899902</td>\n",
       "      <td>2665.899902</td>\n",
       "      <td>1947471</td>\n",
       "      <td>1.500096</td>\n",
       "    </tr>\n",
       "    <tr>\n",
       "      <th>2023-12-21</th>\n",
       "      <td>2639.000000</td>\n",
       "      <td>2737.949951</td>\n",
       "      <td>2585.000000</td>\n",
       "      <td>2706.500000</td>\n",
       "      <td>2706.500000</td>\n",
       "      <td>2206814</td>\n",
       "      <td>-0.103564</td>\n",
       "    </tr>\n",
       "    <tr>\n",
       "      <th>2023-12-22</th>\n",
       "      <td>2723.000000</td>\n",
       "      <td>2727.000000</td>\n",
       "      <td>2677.600098</td>\n",
       "      <td>2703.699951</td>\n",
       "      <td>2703.699951</td>\n",
       "      <td>1000294</td>\n",
       "      <td>4.146206</td>\n",
       "    </tr>\n",
       "    <tr>\n",
       "      <th>2023-12-26</th>\n",
       "      <td>2710.000000</td>\n",
       "      <td>2829.949951</td>\n",
       "      <td>2701.250000</td>\n",
       "      <td>2820.649902</td>\n",
       "      <td>2820.649902</td>\n",
       "      <td>2160870</td>\n",
       "      <td>-0.443343</td>\n",
       "    </tr>\n",
       "    <tr>\n",
       "      <th>2023-12-27</th>\n",
       "      <td>2832.949951</td>\n",
       "      <td>2836.949951</td>\n",
       "      <td>2788.000000</td>\n",
       "      <td>2808.199951</td>\n",
       "      <td>2808.199951</td>\n",
       "      <td>1156573</td>\n",
       "      <td>-0.085534</td>\n",
       "    </tr>\n",
       "  </tbody>\n",
       "</table>\n",
       "<p>990 rows × 7 columns</p>\n",
       "</div>"
      ],
      "text/plain": [
       "                   Open         High          Low        Close    Adj Close  \\\n",
       "Date                                                                          \n",
       "2020-01-01   367.500000   367.575012   365.000000   365.100006   272.420624   \n",
       "2020-01-02   367.475006   374.625000   364.674988   367.625000   274.304626   \n",
       "2020-01-03   368.899994   378.450012   361.750000   368.450012   274.920227   \n",
       "2020-01-06   365.549988   369.725006   360.850006   364.750000   272.159393   \n",
       "2020-01-07   362.600006   369.725006   362.500000   367.450012   274.174011   \n",
       "...                 ...          ...          ...          ...          ...   \n",
       "2023-12-20  2797.949951  2819.949951  2651.000000  2665.899902  2665.899902   \n",
       "2023-12-21  2639.000000  2737.949951  2585.000000  2706.500000  2706.500000   \n",
       "2023-12-22  2723.000000  2727.000000  2677.600098  2703.699951  2703.699951   \n",
       "2023-12-26  2710.000000  2829.949951  2701.250000  2820.649902  2820.649902   \n",
       "2023-12-27  2832.949951  2836.949951  2788.000000  2808.199951  2808.199951   \n",
       "\n",
       "             Volume  change_tomorrow  \n",
       "Date                                  \n",
       "2020-01-01     6386         0.686829  \n",
       "2020-01-02    26118         0.223920  \n",
       "2020-01-03   277418        -1.014418  \n",
       "2020-01-06    23622         0.734795  \n",
       "2020-01-07    15998         0.088389  \n",
       "...             ...              ...  \n",
       "2023-12-20  1947471         1.500096  \n",
       "2023-12-21  2206814        -0.103564  \n",
       "2023-12-22  1000294         4.146206  \n",
       "2023-12-26  2160870        -0.443343  \n",
       "2023-12-27  1156573        -0.085534  \n",
       "\n",
       "[990 rows x 7 columns]"
      ]
     },
     "execution_count": 4,
     "metadata": {},
     "output_type": "execute_result"
    }
   ],
   "source": [
    "df = df.dropna().copy()\n",
    "df"
   ]
  },
  {
   "attachments": {},
   "cell_type": "markdown",
   "id": "238dfed1-bb4d-4514-95cb-53d3631a3b9d",
   "metadata": {},
   "source": [
    "## Compute Machine Learning model\n",
    "\n",
    "Proposal: Random Forest within `ensemble` module of `sklearn` library"
   ]
  },
  {
   "cell_type": "code",
   "execution_count": 5,
   "id": "8318d358",
   "metadata": {},
   "outputs": [],
   "source": [
    "X = df.drop(columns=['Adj Close', 'change_tomorrow'])\n",
    "y = df.change_tomorrow"
   ]
  },
  {
   "cell_type": "code",
   "execution_count": 6,
   "id": "6e7303e8-0f40-4bff-b3c7-4800510b67b5",
   "metadata": {},
   "outputs": [],
   "source": [
    "from sklearn.ensemble import RandomForestRegressor"
   ]
  },
  {
   "cell_type": "code",
   "execution_count": 7,
   "id": "d62870c4",
   "metadata": {},
   "outputs": [],
   "source": [
    "model_rf = RandomForestRegressor(max_depth=15)"
   ]
  },
  {
   "cell_type": "code",
   "execution_count": 8,
   "id": "89dfb5bb",
   "metadata": {},
   "outputs": [
    {
     "data": {
      "text/html": [
       "<style>#sk-container-id-1 {color: black;}#sk-container-id-1 pre{padding: 0;}#sk-container-id-1 div.sk-toggleable {background-color: white;}#sk-container-id-1 label.sk-toggleable__label {cursor: pointer;display: block;width: 100%;margin-bottom: 0;padding: 0.3em;box-sizing: border-box;text-align: center;}#sk-container-id-1 label.sk-toggleable__label-arrow:before {content: \"▸\";float: left;margin-right: 0.25em;color: #696969;}#sk-container-id-1 label.sk-toggleable__label-arrow:hover:before {color: black;}#sk-container-id-1 div.sk-estimator:hover label.sk-toggleable__label-arrow:before {color: black;}#sk-container-id-1 div.sk-toggleable__content {max-height: 0;max-width: 0;overflow: hidden;text-align: left;background-color: #f0f8ff;}#sk-container-id-1 div.sk-toggleable__content pre {margin: 0.2em;color: black;border-radius: 0.25em;background-color: #f0f8ff;}#sk-container-id-1 input.sk-toggleable__control:checked~div.sk-toggleable__content {max-height: 200px;max-width: 100%;overflow: auto;}#sk-container-id-1 input.sk-toggleable__control:checked~label.sk-toggleable__label-arrow:before {content: \"▾\";}#sk-container-id-1 div.sk-estimator input.sk-toggleable__control:checked~label.sk-toggleable__label {background-color: #d4ebff;}#sk-container-id-1 div.sk-label input.sk-toggleable__control:checked~label.sk-toggleable__label {background-color: #d4ebff;}#sk-container-id-1 input.sk-hidden--visually {border: 0;clip: rect(1px 1px 1px 1px);clip: rect(1px, 1px, 1px, 1px);height: 1px;margin: -1px;overflow: hidden;padding: 0;position: absolute;width: 1px;}#sk-container-id-1 div.sk-estimator {font-family: monospace;background-color: #f0f8ff;border: 1px dotted black;border-radius: 0.25em;box-sizing: border-box;margin-bottom: 0.5em;}#sk-container-id-1 div.sk-estimator:hover {background-color: #d4ebff;}#sk-container-id-1 div.sk-parallel-item::after {content: \"\";width: 100%;border-bottom: 1px solid gray;flex-grow: 1;}#sk-container-id-1 div.sk-label:hover label.sk-toggleable__label {background-color: #d4ebff;}#sk-container-id-1 div.sk-serial::before {content: \"\";position: absolute;border-left: 1px solid gray;box-sizing: border-box;top: 0;bottom: 0;left: 50%;z-index: 0;}#sk-container-id-1 div.sk-serial {display: flex;flex-direction: column;align-items: center;background-color: white;padding-right: 0.2em;padding-left: 0.2em;position: relative;}#sk-container-id-1 div.sk-item {position: relative;z-index: 1;}#sk-container-id-1 div.sk-parallel {display: flex;align-items: stretch;justify-content: center;background-color: white;position: relative;}#sk-container-id-1 div.sk-item::before, #sk-container-id-1 div.sk-parallel-item::before {content: \"\";position: absolute;border-left: 1px solid gray;box-sizing: border-box;top: 0;bottom: 0;left: 50%;z-index: -1;}#sk-container-id-1 div.sk-parallel-item {display: flex;flex-direction: column;z-index: 1;position: relative;background-color: white;}#sk-container-id-1 div.sk-parallel-item:first-child::after {align-self: flex-end;width: 50%;}#sk-container-id-1 div.sk-parallel-item:last-child::after {align-self: flex-start;width: 50%;}#sk-container-id-1 div.sk-parallel-item:only-child::after {width: 0;}#sk-container-id-1 div.sk-dashed-wrapped {border: 1px dashed gray;margin: 0 0.4em 0.5em 0.4em;box-sizing: border-box;padding-bottom: 0.4em;background-color: white;}#sk-container-id-1 div.sk-label label {font-family: monospace;font-weight: bold;display: inline-block;line-height: 1.2em;}#sk-container-id-1 div.sk-label-container {text-align: center;}#sk-container-id-1 div.sk-container {/* jupyter's `normalize.less` sets `[hidden] { display: none; }` but bootstrap.min.css set `[hidden] { display: none !important; }` so we also need the `!important` here to be able to override the default hidden behavior on the sphinx rendered scikit-learn.org. See: https://github.com/scikit-learn/scikit-learn/issues/21755 */display: inline-block !important;position: relative;}#sk-container-id-1 div.sk-text-repr-fallback {display: none;}</style><div id=\"sk-container-id-1\" class=\"sk-top-container\"><div class=\"sk-text-repr-fallback\"><pre>RandomForestRegressor(max_depth=15)</pre><b>In a Jupyter environment, please rerun this cell to show the HTML representation or trust the notebook. <br />On GitHub, the HTML representation is unable to render, please try loading this page with nbviewer.org.</b></div><div class=\"sk-container\" hidden><div class=\"sk-item\"><div class=\"sk-estimator sk-toggleable\"><input class=\"sk-toggleable__control sk-hidden--visually\" id=\"sk-estimator-id-1\" type=\"checkbox\" checked><label for=\"sk-estimator-id-1\" class=\"sk-toggleable__label sk-toggleable__label-arrow\">RandomForestRegressor</label><div class=\"sk-toggleable__content\"><pre>RandomForestRegressor(max_depth=15)</pre></div></div></div></div></div>"
      ],
      "text/plain": [
       "RandomForestRegressor(max_depth=15)"
      ]
     },
     "execution_count": 8,
     "metadata": {},
     "output_type": "execute_result"
    }
   ],
   "source": [
    "model_rf.fit(X=X, y=y)"
   ]
  },
  {
   "attachments": {},
   "cell_type": "markdown",
   "id": "17e4a530-72b8-407d-bb2a-0038a01f47e2",
   "metadata": {},
   "source": [
    "## Parametrize & optimize the investment strategy"
   ]
  },
  {
   "attachments": {},
   "cell_type": "markdown",
   "id": "5fcdbf52-2078-4109-9e4a-177c4f0a108d",
   "metadata": {},
   "source": [
    "### Create Strategy class"
   ]
  },
  {
   "cell_type": "code",
   "execution_count": 14,
   "id": "29d112d5",
   "metadata": {},
   "outputs": [],
   "source": [
    "from backtesting import Strategy\n",
    "\n",
    "class Regression(Strategy):\n",
    "  limit_buy = 1\n",
    "  limit_sell = -5\n",
    "  \n",
    "  def init(self):\n",
    "    self.model = model_rf\n",
    "    self.already_bought = False\n",
    "\n",
    "  def next(self):\n",
    "      explanatory_today = self.data.df.iloc[[-1],:]\n",
    "      forecast_tomorrow = model_rf.predict(explanatory_today)[0]\n",
    "      \n",
    "      # conditions to sell or buy\n",
    "      if forecast_tomorrow > 5 and self.already_bought==False:\n",
    "          self.buy()\n",
    "          self.already_bought = True\n",
    "\n",
    "      elif forecast_tomorrow < -5 and self.already_bought:\n",
    "          self.sell()\n",
    "          self.already_bought = False\n",
    "\n",
    "      else:\n",
    "          pass"
   ]
  },
  {
   "attachments": {},
   "cell_type": "markdown",
   "id": "6fd9cd4c-9243-4404-8ceb-6bf2428c863b",
   "metadata": {},
   "source": [
    "### Create `Backtest` class"
   ]
  },
  {
   "cell_type": "code",
   "execution_count": 15,
   "id": "df61c901-c29b-4b0a-8dd8-18c313c473de",
   "metadata": {},
   "outputs": [],
   "source": [
    "from backtesting import Backtest"
   ]
  },
  {
   "cell_type": "code",
   "execution_count": 16,
   "id": "58ba9a1b-5684-464b-ae71-dfe639169d14",
   "metadata": {},
   "outputs": [],
   "source": [
    "bt = Backtest(\n",
    "    X, Regression, cash=10000,\n",
    "    commission=.002, exclusive_orders=True\n",
    ")"
   ]
  },
  {
   "attachments": {},
   "cell_type": "markdown",
   "id": "1bdb3f49-ac6c-461b-842d-3725cdb75338",
   "metadata": {},
   "source": [
    "### Optimize backtesting with multiple combinations"
   ]
  },
  {
   "cell_type": "code",
   "execution_count": null,
   "id": "843ccf35-f8c6-4b7b-b8dc-aa36c60043ff",
   "metadata": {},
   "outputs": [],
   "source": [
    "import multiprocessing as mp\n",
    "mp.set_start_method('fork')"
   ]
  },
  {
   "cell_type": "code",
   "execution_count": null,
   "id": "a42738aa-9c00-4c27-be81-cce588684d95",
   "metadata": {},
   "outputs": [],
   "source": [
    "stats_skopt, heatmap, optimize_result = bt.optimize(\n",
    "    limit_buy=[0, 10],\n",
    "    limit_sell=[-10, 0],\n",
    "    maximize='Return [%]',\n",
    "    method='skopt',\n",
    "    max_tries=500,\n",
    "    random_state=0,\n",
    "    return_heatmap=True,\n",
    "    return_optimization=True\n",
    "    )"
   ]
  },
  {
   "attachments": {},
   "cell_type": "markdown",
   "id": "e20e689d-f4c5-43ec-b6c1-9db2f8c59ff0",
   "metadata": {},
   "source": [
    "### Which are the best values for the parameters?"
   ]
  },
  {
   "cell_type": "code",
   "execution_count": null,
   "id": "86ece58d-9808-4a74-960b-9baf595c34bb",
   "metadata": {},
   "outputs": [],
   "source": [
    "dff = heatmap.reset_index()\n",
    "dff = dff.pivot(index='limit_buy', columns='limit_sell', values='Return [%]')\n",
    "dff"
   ]
  },
  {
   "cell_type": "code",
   "execution_count": null,
   "id": "45f41a2f",
   "metadata": {},
   "outputs": [],
   "source": [
    "dff.style.highlight_null(props='background-color: transparent; color: transparent')"
   ]
  },
  {
   "cell_type": "code",
   "execution_count": null,
   "id": "f94e07a7",
   "metadata": {},
   "outputs": [],
   "source": [
    "import numpy as np\n",
    "dff.sort_index(axis=1, ascending=False)\\\n",
    "  .style.format(precision=0)\\\n",
    "  .background_gradient(vmin=np.nanmin(dff), vmax=np.nanmax(dff))\\\n",
    "  .highlight_null(props='background-color: transparent; color: transparent')"
   ]
  },
  {
   "attachments": {},
   "cell_type": "markdown",
   "id": "49dc8ef8-2ff3-44a5-93cb-90299df2e778",
   "metadata": {},
   "source": [
    "### How to interpret smart optimization?"
   ]
  },
  {
   "attachments": {},
   "cell_type": "markdown",
   "id": "311409f6-0bb8-4b20-bd36-708762c0459b",
   "metadata": {},
   "source": [
    "#### Number of evaluations"
   ]
  },
  {
   "attachments": {},
   "cell_type": "markdown",
   "id": "cff7ec0d-953c-4ca3-b692-3bd502230222",
   "metadata": {},
   "source": [
    "https://kernc.github.io/backtesting.py/doc/examples/Parameter%20Heatmap%20&%20Optimization.html"
   ]
  },
  {
   "cell_type": "code",
   "execution_count": null,
   "id": "87520764-bdc5-40a4-88e9-18ecb4b7c5cf",
   "metadata": {},
   "outputs": [],
   "source": [
    "from skopt.plots import plot_evaluations\n",
    "\n",
    "_ = plot_evaluations(optimize_result, bins=10)"
   ]
  },
  {
   "attachments": {},
   "cell_type": "markdown",
   "id": "b21d1a57-0b26-4f28-ac9f-f4af932c8a44",
   "metadata": {},
   "source": [
    "#### Density"
   ]
  },
  {
   "cell_type": "code",
   "execution_count": null,
   "id": "aaf34691-5cb8-471b-9669-aa6b05eee8f2",
   "metadata": {},
   "outputs": [],
   "source": [
    "from skopt.plots import plot_objective\n",
    "\n",
    "_ = plot_objective(optimize_result, n_points=10)"
   ]
  },
  {
   "attachments": {},
   "cell_type": "markdown",
   "id": "e92ec39e",
   "metadata": {},
   "source": [
    "## How to solve the overfitting problem?\n",
    "\n",
    "> Backtest the investment strategy on a validation set.\n",
    "\n",
    "Next chapter → [The Overfitting Problem in Backtesting]()"
   ]
  },
  {
   "cell_type": "markdown",
   "id": "4d5aafe0",
   "metadata": {},
   "source": [
    "![](<src/09_Table_The Overfitting.png>)"
   ]
  }
 ],
 "metadata": {
  "kernelspec": {
   "display_name": "Python 3",
   "language": "python",
   "name": "python3"
  },
  "language_info": {
   "codemirror_mode": {
    "name": "ipython",
    "version": 3
   },
   "file_extension": ".py",
   "mimetype": "text/x-python",
   "name": "python",
   "nbconvert_exporter": "python",
   "pygments_lexer": "ipython3",
   "version": "3.10.12"
  }
 },
 "nbformat": 4,
 "nbformat_minor": 5
}
