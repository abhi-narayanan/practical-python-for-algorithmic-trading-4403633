{
 "cells": [
  {
   "cell_type": "markdown",
   "id": "936616ad-372b-4f2f-ba8f-e90fec65e0f8",
   "metadata": {},
   "source": [
    "# Optimizing Strategy Parameters"
   ]
  },
  {
   "cell_type": "code",
   "execution_count": null,
   "id": "ead1d62f",
   "metadata": {},
   "outputs": [],
   "source": [
    "???"
   ]
  },
  {
   "cell_type": "markdown",
   "id": "823b881d-efa8-4c5d-9c90-f3ff89002ded",
   "metadata": {},
   "source": [
    "<table style=\"width:100%; height:90%\">\n",
    "      <tr>\n",
    "    <th>Parametrize the Strategy</th>\n",
    "    <th>Optimizing Limits' Parameters</th>\n",
    "  </tr>\n",
    "  <tr>\n",
    "    <td><img src=\"src/07_Code_Regression Strategy Limits X.png\" alt=\"Parametrize the Strategy\" style=\"width:100%\"></td>\n",
    "    <td><img src=\"src/07_Table_Optimize BG Default Defaults.png\" alt=\"Optimizing Limits' Parameters\" style=\"width:100%\"></td>\n",
    "  </tr>\n",
    "</table>"
   ]
  },
  {
   "cell_type": "markdown",
   "id": "9d28c9d8-36aa-4308-8237-e17b2c7a5818",
   "metadata": {
    "tags": []
   },
   "source": [
    "## Load the model"
   ]
  },
  {
   "cell_type": "code",
   "execution_count": 1,
   "id": "1a582652-bd6e-4a98-9cec-3a0164c19ff2",
   "metadata": {},
   "outputs": [
    {
     "data": {
      "text/html": [
       "<style>#sk-container-id-1 {color: black;}#sk-container-id-1 pre{padding: 0;}#sk-container-id-1 div.sk-toggleable {background-color: white;}#sk-container-id-1 label.sk-toggleable__label {cursor: pointer;display: block;width: 100%;margin-bottom: 0;padding: 0.3em;box-sizing: border-box;text-align: center;}#sk-container-id-1 label.sk-toggleable__label-arrow:before {content: \"▸\";float: left;margin-right: 0.25em;color: #696969;}#sk-container-id-1 label.sk-toggleable__label-arrow:hover:before {color: black;}#sk-container-id-1 div.sk-estimator:hover label.sk-toggleable__label-arrow:before {color: black;}#sk-container-id-1 div.sk-toggleable__content {max-height: 0;max-width: 0;overflow: hidden;text-align: left;background-color: #f0f8ff;}#sk-container-id-1 div.sk-toggleable__content pre {margin: 0.2em;color: black;border-radius: 0.25em;background-color: #f0f8ff;}#sk-container-id-1 input.sk-toggleable__control:checked~div.sk-toggleable__content {max-height: 200px;max-width: 100%;overflow: auto;}#sk-container-id-1 input.sk-toggleable__control:checked~label.sk-toggleable__label-arrow:before {content: \"▾\";}#sk-container-id-1 div.sk-estimator input.sk-toggleable__control:checked~label.sk-toggleable__label {background-color: #d4ebff;}#sk-container-id-1 div.sk-label input.sk-toggleable__control:checked~label.sk-toggleable__label {background-color: #d4ebff;}#sk-container-id-1 input.sk-hidden--visually {border: 0;clip: rect(1px 1px 1px 1px);clip: rect(1px, 1px, 1px, 1px);height: 1px;margin: -1px;overflow: hidden;padding: 0;position: absolute;width: 1px;}#sk-container-id-1 div.sk-estimator {font-family: monospace;background-color: #f0f8ff;border: 1px dotted black;border-radius: 0.25em;box-sizing: border-box;margin-bottom: 0.5em;}#sk-container-id-1 div.sk-estimator:hover {background-color: #d4ebff;}#sk-container-id-1 div.sk-parallel-item::after {content: \"\";width: 100%;border-bottom: 1px solid gray;flex-grow: 1;}#sk-container-id-1 div.sk-label:hover label.sk-toggleable__label {background-color: #d4ebff;}#sk-container-id-1 div.sk-serial::before {content: \"\";position: absolute;border-left: 1px solid gray;box-sizing: border-box;top: 0;bottom: 0;left: 50%;z-index: 0;}#sk-container-id-1 div.sk-serial {display: flex;flex-direction: column;align-items: center;background-color: white;padding-right: 0.2em;padding-left: 0.2em;position: relative;}#sk-container-id-1 div.sk-item {position: relative;z-index: 1;}#sk-container-id-1 div.sk-parallel {display: flex;align-items: stretch;justify-content: center;background-color: white;position: relative;}#sk-container-id-1 div.sk-item::before, #sk-container-id-1 div.sk-parallel-item::before {content: \"\";position: absolute;border-left: 1px solid gray;box-sizing: border-box;top: 0;bottom: 0;left: 50%;z-index: -1;}#sk-container-id-1 div.sk-parallel-item {display: flex;flex-direction: column;z-index: 1;position: relative;background-color: white;}#sk-container-id-1 div.sk-parallel-item:first-child::after {align-self: flex-end;width: 50%;}#sk-container-id-1 div.sk-parallel-item:last-child::after {align-self: flex-start;width: 50%;}#sk-container-id-1 div.sk-parallel-item:only-child::after {width: 0;}#sk-container-id-1 div.sk-dashed-wrapped {border: 1px dashed gray;margin: 0 0.4em 0.5em 0.4em;box-sizing: border-box;padding-bottom: 0.4em;background-color: white;}#sk-container-id-1 div.sk-label label {font-family: monospace;font-weight: bold;display: inline-block;line-height: 1.2em;}#sk-container-id-1 div.sk-label-container {text-align: center;}#sk-container-id-1 div.sk-container {/* jupyter's `normalize.less` sets `[hidden] { display: none; }` but bootstrap.min.css set `[hidden] { display: none !important; }` so we also need the `!important` here to be able to override the default hidden behavior on the sphinx rendered scikit-learn.org. See: https://github.com/scikit-learn/scikit-learn/issues/21755 */display: inline-block !important;position: relative;}#sk-container-id-1 div.sk-text-repr-fallback {display: none;}</style><div id=\"sk-container-id-1\" class=\"sk-top-container\"><div class=\"sk-text-repr-fallback\"><pre>DecisionTreeRegressor(max_depth=15)</pre><b>In a Jupyter environment, please rerun this cell to show the HTML representation or trust the notebook. <br />On GitHub, the HTML representation is unable to render, please try loading this page with nbviewer.org.</b></div><div class=\"sk-container\" hidden><div class=\"sk-item\"><div class=\"sk-estimator sk-toggleable\"><input class=\"sk-toggleable__control sk-hidden--visually\" id=\"sk-estimator-id-1\" type=\"checkbox\" checked><label for=\"sk-estimator-id-1\" class=\"sk-toggleable__label sk-toggleable__label-arrow\">DecisionTreeRegressor</label><div class=\"sk-toggleable__content\"><pre>DecisionTreeRegressor(max_depth=15)</pre></div></div></div></div></div>"
      ],
      "text/plain": [
       "DecisionTreeRegressor(max_depth=15)"
      ]
     },
     "execution_count": 1,
     "metadata": {},
     "output_type": "execute_result"
    }
   ],
   "source": [
    "import pickle\n",
    "\n",
    "with open('models/model_dt_regression.pkl', 'rb') as f:\n",
    "    model_dt = pickle.load(f)\n",
    "    \n",
    "model_dt"
   ]
  },
  {
   "cell_type": "markdown",
   "id": "621608eb-5a9c-46b2-a216-61c91e8cdefd",
   "metadata": {},
   "source": [
    "## Load the data"
   ]
  },
  {
   "cell_type": "code",
   "execution_count": 2,
   "id": "e498d5eb-8d12-4057-8af3-bd5bcc47b9eb",
   "metadata": {},
   "outputs": [
    {
     "data": {
      "text/html": [
       "<div>\n",
       "<style scoped>\n",
       "    .dataframe tbody tr th:only-of-type {\n",
       "        vertical-align: middle;\n",
       "    }\n",
       "\n",
       "    .dataframe tbody tr th {\n",
       "        vertical-align: top;\n",
       "    }\n",
       "\n",
       "    .dataframe thead th {\n",
       "        text-align: right;\n",
       "    }\n",
       "</style>\n",
       "<table border=\"1\" class=\"dataframe\">\n",
       "  <thead>\n",
       "    <tr style=\"text-align: right;\">\n",
       "      <th></th>\n",
       "      <th>Open</th>\n",
       "      <th>High</th>\n",
       "      <th>Low</th>\n",
       "      <th>Close</th>\n",
       "      <th>Adj Close</th>\n",
       "      <th>Volume</th>\n",
       "      <th>change_tomorrow</th>\n",
       "      <th>change_tomorrow_direction</th>\n",
       "    </tr>\n",
       "    <tr>\n",
       "      <th>Date</th>\n",
       "      <th></th>\n",
       "      <th></th>\n",
       "      <th></th>\n",
       "      <th></th>\n",
       "      <th></th>\n",
       "      <th></th>\n",
       "      <th></th>\n",
       "      <th></th>\n",
       "    </tr>\n",
       "  </thead>\n",
       "  <tbody>\n",
       "    <tr>\n",
       "      <th>2016-12-08</th>\n",
       "      <td>61.299999</td>\n",
       "      <td>61.580002</td>\n",
       "      <td>60.840000</td>\n",
       "      <td>61.009998</td>\n",
       "      <td>55.705235</td>\n",
       "      <td>21220800</td>\n",
       "      <td>1.549141</td>\n",
       "      <td>UP</td>\n",
       "    </tr>\n",
       "    <tr>\n",
       "      <th>2016-12-09</th>\n",
       "      <td>61.180000</td>\n",
       "      <td>61.990002</td>\n",
       "      <td>61.130001</td>\n",
       "      <td>61.970001</td>\n",
       "      <td>56.581772</td>\n",
       "      <td>27349400</td>\n",
       "      <td>0.321694</td>\n",
       "      <td>UP</td>\n",
       "    </tr>\n",
       "    <tr>\n",
       "      <th>2016-12-12</th>\n",
       "      <td>61.820000</td>\n",
       "      <td>62.299999</td>\n",
       "      <td>61.720001</td>\n",
       "      <td>62.169998</td>\n",
       "      <td>56.764374</td>\n",
       "      <td>20198100</td>\n",
       "      <td>1.286125</td>\n",
       "      <td>UP</td>\n",
       "    </tr>\n",
       "    <tr>\n",
       "      <th>2016-12-13</th>\n",
       "      <td>62.500000</td>\n",
       "      <td>63.419998</td>\n",
       "      <td>62.240002</td>\n",
       "      <td>62.980000</td>\n",
       "      <td>57.503944</td>\n",
       "      <td>35718900</td>\n",
       "      <td>-0.478620</td>\n",
       "      <td>DOWN</td>\n",
       "    </tr>\n",
       "    <tr>\n",
       "      <th>2016-12-14</th>\n",
       "      <td>63.000000</td>\n",
       "      <td>63.450001</td>\n",
       "      <td>62.529999</td>\n",
       "      <td>62.680000</td>\n",
       "      <td>57.230022</td>\n",
       "      <td>30352700</td>\n",
       "      <td>-0.159793</td>\n",
       "      <td>DOWN</td>\n",
       "    </tr>\n",
       "    <tr>\n",
       "      <th>...</th>\n",
       "      <td>...</td>\n",
       "      <td>...</td>\n",
       "      <td>...</td>\n",
       "      <td>...</td>\n",
       "      <td>...</td>\n",
       "      <td>...</td>\n",
       "      <td>...</td>\n",
       "      <td>...</td>\n",
       "    </tr>\n",
       "    <tr>\n",
       "      <th>2023-12-18</th>\n",
       "      <td>369.450012</td>\n",
       "      <td>373.000000</td>\n",
       "      <td>368.679993</td>\n",
       "      <td>372.649994</td>\n",
       "      <td>372.649994</td>\n",
       "      <td>21802900</td>\n",
       "      <td>0.163429</td>\n",
       "      <td>UP</td>\n",
       "    </tr>\n",
       "    <tr>\n",
       "      <th>2023-12-19</th>\n",
       "      <td>371.489990</td>\n",
       "      <td>373.260010</td>\n",
       "      <td>369.839996</td>\n",
       "      <td>373.260010</td>\n",
       "      <td>373.260010</td>\n",
       "      <td>20603700</td>\n",
       "      <td>-0.712324</td>\n",
       "      <td>DOWN</td>\n",
       "    </tr>\n",
       "    <tr>\n",
       "      <th>2023-12-20</th>\n",
       "      <td>375.000000</td>\n",
       "      <td>376.029999</td>\n",
       "      <td>370.529999</td>\n",
       "      <td>370.619995</td>\n",
       "      <td>370.619995</td>\n",
       "      <td>26316700</td>\n",
       "      <td>0.781714</td>\n",
       "      <td>UP</td>\n",
       "    </tr>\n",
       "    <tr>\n",
       "      <th>2023-12-21</th>\n",
       "      <td>372.559998</td>\n",
       "      <td>374.410004</td>\n",
       "      <td>370.040009</td>\n",
       "      <td>373.540009</td>\n",
       "      <td>373.540009</td>\n",
       "      <td>17708000</td>\n",
       "      <td>0.277638</td>\n",
       "      <td>UP</td>\n",
       "    </tr>\n",
       "    <tr>\n",
       "      <th>2023-12-22</th>\n",
       "      <td>373.679993</td>\n",
       "      <td>375.179993</td>\n",
       "      <td>372.709991</td>\n",
       "      <td>374.579987</td>\n",
       "      <td>374.579987</td>\n",
       "      <td>17091100</td>\n",
       "      <td>0.021357</td>\n",
       "      <td>UP</td>\n",
       "    </tr>\n",
       "  </tbody>\n",
       "</table>\n",
       "<p>1772 rows × 8 columns</p>\n",
       "</div>"
      ],
      "text/plain": [
       "                  Open        High         Low       Close   Adj Close  \\\n",
       "Date                                                                     \n",
       "2016-12-08   61.299999   61.580002   60.840000   61.009998   55.705235   \n",
       "2016-12-09   61.180000   61.990002   61.130001   61.970001   56.581772   \n",
       "2016-12-12   61.820000   62.299999   61.720001   62.169998   56.764374   \n",
       "2016-12-13   62.500000   63.419998   62.240002   62.980000   57.503944   \n",
       "2016-12-14   63.000000   63.450001   62.529999   62.680000   57.230022   \n",
       "...                ...         ...         ...         ...         ...   \n",
       "2023-12-18  369.450012  373.000000  368.679993  372.649994  372.649994   \n",
       "2023-12-19  371.489990  373.260010  369.839996  373.260010  373.260010   \n",
       "2023-12-20  375.000000  376.029999  370.529999  370.619995  370.619995   \n",
       "2023-12-21  372.559998  374.410004  370.040009  373.540009  373.540009   \n",
       "2023-12-22  373.679993  375.179993  372.709991  374.579987  374.579987   \n",
       "\n",
       "              Volume  change_tomorrow change_tomorrow_direction  \n",
       "Date                                                             \n",
       "2016-12-08  21220800         1.549141                        UP  \n",
       "2016-12-09  27349400         0.321694                        UP  \n",
       "2016-12-12  20198100         1.286125                        UP  \n",
       "2016-12-13  35718900        -0.478620                      DOWN  \n",
       "2016-12-14  30352700        -0.159793                      DOWN  \n",
       "...              ...              ...                       ...  \n",
       "2023-12-18  21802900         0.163429                        UP  \n",
       "2023-12-19  20603700        -0.712324                      DOWN  \n",
       "2023-12-20  26316700         0.781714                        UP  \n",
       "2023-12-21  17708000         0.277638                        UP  \n",
       "2023-12-22  17091100         0.021357                        UP  \n",
       "\n",
       "[1772 rows x 8 columns]"
      ]
     },
     "execution_count": 2,
     "metadata": {},
     "output_type": "execute_result"
    }
   ],
   "source": [
    "import pandas as pd\n",
    "\n",
    "df = pd.read_excel('data/Microsoft_LinkedIn_Processed.xlsx', index_col=0, parse_dates=['Date'])\n",
    "df"
   ]
  },
  {
   "cell_type": "markdown",
   "id": "aaeddddb-fd3f-4e5e-bc2e-d22024048fda",
   "metadata": {},
   "source": [
    "# Simple Investment Strategy"
   ]
  },
  {
   "cell_type": "markdown",
   "id": "5410890e-48b3-4ae7-9c49-7671ace0ceac",
   "metadata": {},
   "source": [
    "### Create Strategy class"
   ]
  },
  {
   "cell_type": "code",
   "execution_count": 3,
   "id": "560945c7-52c0-48bf-b80e-aea52d8b75ea",
   "metadata": {},
   "outputs": [],
   "source": [
    "from backtesting import Strategy, Backtest"
   ]
  },
  {
   "cell_type": "code",
   "execution_count": 4,
   "id": "00d838c9-5351-453e-ad6e-7c7806828d5e",
   "metadata": {},
   "outputs": [],
   "source": [
    "class Regression(Strategy):\n",
    "    def init(self):\n",
    "        self.model = model_dt\n",
    "        self.already_bought = False\n",
    "\n",
    "    def next(self):\n",
    "        explanatory_today = self.data.df.iloc[[-1], :]\n",
    "        forecast_tomorrow = self.model.predict(explanatory_today)[0]\n",
    "        \n",
    "        if forecast_tomorrow > 1 and self.already_bought == False:\n",
    "            self.buy()\n",
    "            self.already_bought = True\n",
    "        elif forecast_tomorrow < -5 and self.already_bought == True:\n",
    "            self.sell()\n",
    "            self.already_bought = False\n",
    "        else:\n",
    "            pass"
   ]
  },
  {
   "cell_type": "markdown",
   "id": "4dd9e767-6501-4654-99db-ad9e8e5a0ac6",
   "metadata": {},
   "source": [
    "### Create Backtest class"
   ]
  },
  {
   "cell_type": "code",
   "execution_count": 5,
   "id": "6e114db4-d63f-4f1f-8ecc-4f5dc79c34d8",
   "metadata": {},
   "outputs": [],
   "source": [
    "df_explanatory = df[['Open', 'High', 'Low', 'Close', 'Volume']].copy()"
   ]
  },
  {
   "cell_type": "code",
   "execution_count": 6,
   "id": "6b0ce4af-c8a5-4a74-bf6a-4fca6388279d",
   "metadata": {},
   "outputs": [],
   "source": [
    "bt = Backtest(df_explanatory, Regression,\n",
    "              cash=10000, commission=.002, exclusive_orders=True)"
   ]
  },
  {
   "cell_type": "markdown",
   "id": "f9aa1f67-54ec-4e48-badb-7da089e6430e",
   "metadata": {},
   "source": [
    "### Run backtesting with specific values"
   ]
  },
  {
   "cell_type": "code",
   "execution_count": 7,
   "id": "187b0201-8a9b-48ed-8738-ff08bfcaef77",
   "metadata": {},
   "outputs": [],
   "source": [
    "results = bt.run()"
   ]
  },
  {
   "cell_type": "markdown",
   "id": "8c5cd0f5-71c9-4736-840f-c14568003e45",
   "metadata": {},
   "source": [
    "### Interpret backtesting results"
   ]
  },
  {
   "cell_type": "code",
   "execution_count": 8,
   "id": "8b733f2d-3afd-4541-a14b-c39cb00e24b2",
   "metadata": {},
   "outputs": [
    {
     "data": {
      "text/html": [
       "<div>\n",
       "<style scoped>\n",
       "    .dataframe tbody tr th:only-of-type {\n",
       "        vertical-align: middle;\n",
       "    }\n",
       "\n",
       "    .dataframe tbody tr th {\n",
       "        vertical-align: top;\n",
       "    }\n",
       "\n",
       "    .dataframe thead th {\n",
       "        text-align: right;\n",
       "    }\n",
       "</style>\n",
       "<table border=\"1\" class=\"dataframe\">\n",
       "  <thead>\n",
       "    <tr style=\"text-align: right;\">\n",
       "      <th></th>\n",
       "      <th>Values</th>\n",
       "    </tr>\n",
       "  </thead>\n",
       "  <tbody>\n",
       "    <tr>\n",
       "      <th>Start</th>\n",
       "      <td>2016-12-08 00:00:00</td>\n",
       "    </tr>\n",
       "    <tr>\n",
       "      <th>End</th>\n",
       "      <td>2023-12-22 00:00:00</td>\n",
       "    </tr>\n",
       "    <tr>\n",
       "      <th>Duration</th>\n",
       "      <td>2570 days 00:00:00</td>\n",
       "    </tr>\n",
       "    <tr>\n",
       "      <th>Exposure Time [%]</th>\n",
       "      <td>99.8307</td>\n",
       "    </tr>\n",
       "    <tr>\n",
       "      <th>Equity Final [$]</th>\n",
       "      <td>55709.181907</td>\n",
       "    </tr>\n",
       "    <tr>\n",
       "      <th>Equity Peak [$]</th>\n",
       "      <td>57053.164817</td>\n",
       "    </tr>\n",
       "    <tr>\n",
       "      <th>Return [%]</th>\n",
       "      <td>457.091819</td>\n",
       "    </tr>\n",
       "  </tbody>\n",
       "</table>\n",
       "</div>"
      ],
      "text/plain": [
       "                                Values\n",
       "Start              2016-12-08 00:00:00\n",
       "End                2023-12-22 00:00:00\n",
       "Duration            2570 days 00:00:00\n",
       "Exposure Time [%]              99.8307\n",
       "Equity Final [$]          55709.181907\n",
       "Equity Peak [$]           57053.164817\n",
       "Return [%]                  457.091819"
      ]
     },
     "execution_count": 8,
     "metadata": {},
     "output_type": "execute_result"
    }
   ],
   "source": [
    "results.to_frame(name='Values').loc[:'Return [%]']"
   ]
  },
  {
   "cell_type": "markdown",
   "id": "ac5f94d8-1151-4dda-8678-4a561cf93f02",
   "metadata": {},
   "source": [
    "## Parametrize the Investment Strategy"
   ]
  },
  {
   "cell_type": "markdown",
   "id": "49ba32ac-753b-48e6-aff1-f9fd90b23b7c",
   "metadata": {},
   "source": [
    "### Create Strategy class"
   ]
  },
  {
   "cell_type": "code",
   "execution_count": 9,
   "id": "42a55a4c-87b9-4f27-962b-998f0c4debad",
   "metadata": {},
   "outputs": [],
   "source": [
    "from backtesting import Strategy, Backtest"
   ]
  },
  {
   "cell_type": "code",
   "execution_count": 10,
   "id": "b630d898-f973-409a-94d1-8642df3badeb",
   "metadata": {},
   "outputs": [],
   "source": [
    "class Regression(Strategy):\n",
    "    limit_buy = 1\n",
    "    limit_sell = -5\n",
    "    \n",
    "    def init(self):\n",
    "        self.model = model_dt\n",
    "        self.already_bought = False\n",
    "\n",
    "    def next(self):\n",
    "        explanatory_today = self.data.df.iloc[[-1], :]\n",
    "        forecast_tomorrow = self.model.predict(explanatory_today)[0]\n",
    "        \n",
    "        if forecast_tomorrow > self.limit_buy and self.already_bought == False:\n",
    "            self.buy()\n",
    "            self.already_bought = True\n",
    "        elif forecast_tomorrow < self.limit_sell and self.already_bought == True:\n",
    "            self.sell()\n",
    "            self.already_bought = False\n",
    "        else:\n",
    "            pass"
   ]
  },
  {
   "cell_type": "markdown",
   "id": "233d6ebf-d58a-4678-b0b9-f8dac7ccbda0",
   "metadata": {},
   "source": [
    "### Create Backtest class"
   ]
  },
  {
   "cell_type": "code",
   "execution_count": 11,
   "id": "f65f0045-6efc-4941-b075-f23d139ed1b8",
   "metadata": {},
   "outputs": [],
   "source": [
    "bt = Backtest(df_explanatory, Regression,\n",
    "              cash=10000, commission=.002, exclusive_orders=True)"
   ]
  },
  {
   "cell_type": "markdown",
   "id": "01e9306d-0303-49a5-a100-f5ea87a02823",
   "metadata": {},
   "source": [
    "## Optimize backtesting with multiple combinations"
   ]
  },
  {
   "cell_type": "code",
   "execution_count": 12,
   "id": "782bf3a7-b828-48ea-8e3c-df7bb7e05a0e",
   "metadata": {},
   "outputs": [
    {
     "data": {
      "text/plain": [
       "[0, 1, 2, 3, 4, 5, 6, 7, 8, 9, 10]"
      ]
     },
     "execution_count": 12,
     "metadata": {},
     "output_type": "execute_result"
    }
   ],
   "source": [
    "list_limits_buy = list(range(0, 11, 1))\n",
    "list_limits_buy"
   ]
  },
  {
   "cell_type": "code",
   "execution_count": 13,
   "id": "4dbd2bcf-e15d-4389-80b5-77b1b0ceeca9",
   "metadata": {},
   "outputs": [
    {
     "data": {
      "text/plain": [
       "[0, -1, -2, -3, -4, -5, -6, -7, -8, -9, -10]"
      ]
     },
     "execution_count": 13,
     "metadata": {},
     "output_type": "execute_result"
    }
   ],
   "source": [
    "list_limits_sell = list(range(0, -11, -1))\n",
    "list_limits_sell"
   ]
  },
  {
   "cell_type": "code",
   "execution_count": 14,
   "id": "5458b6f9-7238-478d-8e52-ee1137bc97b6",
   "metadata": {},
   "outputs": [
    {
     "name": "stdout",
     "output_type": "stream",
     "text": [
      "CPU times: user 3.39 s, sys: 22.9 ms, total: 3.41 s\n",
      "Wall time: 2min 36s\n"
     ]
    }
   ],
   "source": [
    "%%time\n",
    "\n",
    "results = bt.optimize(\n",
    "    limit_buy = list_limits_buy, limit_sell = list_limits_sell,\n",
    "    maximize='Return [%]', return_heatmap=True\n",
    ")"
   ]
  },
  {
   "cell_type": "code",
   "execution_count": 15,
   "id": "93a55a5d",
   "metadata": {},
   "outputs": [
    {
     "data": {
      "text/plain": [
       "Start                     2016-12-08 00:00:00\n",
       "End                       2023-12-22 00:00:00\n",
       "Duration                   2570 days 00:00:00\n",
       "Exposure Time [%]                   99.887133\n",
       "Equity Final [$]               2551119.494212\n",
       "Equity Peak [$]                2685823.890329\n",
       "Return [%]                       25411.194942\n",
       "Buy & Hold Return [%]              513.964919\n",
       "Return (Ann.) [%]                  119.920876\n",
       "Volatility (Ann.) [%]               59.919511\n",
       "Sharpe Ratio                         2.001366\n",
       "Sortino Ratio                        7.500473\n",
       "Calmar Ratio                         7.128199\n",
       "Max. Drawdown [%]                  -16.823447\n",
       "Avg. Drawdown [%]                   -2.421032\n",
       "Max. Drawdown Duration      183 days 00:00:00\n",
       "Avg. Drawdown Duration       11 days 00:00:00\n",
       "# Trades                                  494\n",
       "Win Rate [%]                        64.777328\n",
       "Best Trade [%]                      19.537685\n",
       "Worst Trade [%]                     -8.630213\n",
       "Avg. Trade [%]                       1.129109\n",
       "Max. Trade Duration         183 days 00:00:00\n",
       "Avg. Trade Duration           6 days 00:00:00\n",
       "Profit Factor                        3.189528\n",
       "Expectancy [%]                       1.174123\n",
       "SQN                                  4.157783\n",
       "_strategy                 Regression(limit...\n",
       "_equity_curve                             ...\n",
       "_trades                        Size  Entry...\n",
       "dtype: object"
      ]
     },
     "execution_count": 15,
     "metadata": {},
     "output_type": "execute_result"
    }
   ],
   "source": [
    "results[0]"
   ]
  },
  {
   "cell_type": "code",
   "execution_count": 16,
   "id": "64343ec8",
   "metadata": {},
   "outputs": [
    {
     "data": {
      "text/plain": [
       "limit_buy  limit_sell\n",
       "0           0            25411.194942\n",
       "           -1            12727.678550\n",
       "           -2             5410.271273\n",
       "           -3             2779.130362\n",
       "           -4             1343.882491\n",
       "                             ...     \n",
       "10         -6             -100.000000\n",
       "           -7             -100.000000\n",
       "           -8             -100.000000\n",
       "           -9             -100.000000\n",
       "           -10            -100.000000\n",
       "Name: Return [%], Length: 121, dtype: float64"
      ]
     },
     "execution_count": 16,
     "metadata": {},
     "output_type": "execute_result"
    }
   ],
   "source": [
    "results[1]"
   ]
  },
  {
   "cell_type": "markdown",
   "id": "d42b0f04-395c-4547-8ab5-fb37ba973298",
   "metadata": {},
   "source": [
    "### [ ] Interpret optimization results"
   ]
  },
  {
   "cell_type": "code",
   "execution_count": 17,
   "id": "b888ba91",
   "metadata": {},
   "outputs": [
    {
     "data": {
      "text/html": [
       "<div>\n",
       "<style scoped>\n",
       "    .dataframe tbody tr th:only-of-type {\n",
       "        vertical-align: middle;\n",
       "    }\n",
       "\n",
       "    .dataframe tbody tr th {\n",
       "        vertical-align: top;\n",
       "    }\n",
       "\n",
       "    .dataframe thead th {\n",
       "        text-align: right;\n",
       "    }\n",
       "</style>\n",
       "<table border=\"1\" class=\"dataframe\">\n",
       "  <thead>\n",
       "    <tr style=\"text-align: right;\">\n",
       "      <th></th>\n",
       "      <th>limit_buy</th>\n",
       "      <th>limit_sell</th>\n",
       "      <th>Return [%]</th>\n",
       "    </tr>\n",
       "  </thead>\n",
       "  <tbody>\n",
       "    <tr>\n",
       "      <th>0</th>\n",
       "      <td>0</td>\n",
       "      <td>0</td>\n",
       "      <td>25411.194942</td>\n",
       "    </tr>\n",
       "    <tr>\n",
       "      <th>1</th>\n",
       "      <td>0</td>\n",
       "      <td>-1</td>\n",
       "      <td>12727.678550</td>\n",
       "    </tr>\n",
       "    <tr>\n",
       "      <th>2</th>\n",
       "      <td>0</td>\n",
       "      <td>-2</td>\n",
       "      <td>5410.271273</td>\n",
       "    </tr>\n",
       "    <tr>\n",
       "      <th>3</th>\n",
       "      <td>0</td>\n",
       "      <td>-3</td>\n",
       "      <td>2779.130362</td>\n",
       "    </tr>\n",
       "    <tr>\n",
       "      <th>4</th>\n",
       "      <td>0</td>\n",
       "      <td>-4</td>\n",
       "      <td>1343.882491</td>\n",
       "    </tr>\n",
       "    <tr>\n",
       "      <th>...</th>\n",
       "      <td>...</td>\n",
       "      <td>...</td>\n",
       "      <td>...</td>\n",
       "    </tr>\n",
       "    <tr>\n",
       "      <th>116</th>\n",
       "      <td>10</td>\n",
       "      <td>-6</td>\n",
       "      <td>-100.000000</td>\n",
       "    </tr>\n",
       "    <tr>\n",
       "      <th>117</th>\n",
       "      <td>10</td>\n",
       "      <td>-7</td>\n",
       "      <td>-100.000000</td>\n",
       "    </tr>\n",
       "    <tr>\n",
       "      <th>118</th>\n",
       "      <td>10</td>\n",
       "      <td>-8</td>\n",
       "      <td>-100.000000</td>\n",
       "    </tr>\n",
       "    <tr>\n",
       "      <th>119</th>\n",
       "      <td>10</td>\n",
       "      <td>-9</td>\n",
       "      <td>-100.000000</td>\n",
       "    </tr>\n",
       "    <tr>\n",
       "      <th>120</th>\n",
       "      <td>10</td>\n",
       "      <td>-10</td>\n",
       "      <td>-100.000000</td>\n",
       "    </tr>\n",
       "  </tbody>\n",
       "</table>\n",
       "<p>121 rows × 3 columns</p>\n",
       "</div>"
      ],
      "text/plain": [
       "     limit_buy  limit_sell    Return [%]\n",
       "0            0           0  25411.194942\n",
       "1            0          -1  12727.678550\n",
       "2            0          -2   5410.271273\n",
       "3            0          -3   2779.130362\n",
       "4            0          -4   1343.882491\n",
       "..         ...         ...           ...\n",
       "116         10          -6   -100.000000\n",
       "117         10          -7   -100.000000\n",
       "118         10          -8   -100.000000\n",
       "119         10          -9   -100.000000\n",
       "120         10         -10   -100.000000\n",
       "\n",
       "[121 rows x 3 columns]"
      ]
     },
     "execution_count": 17,
     "metadata": {},
     "output_type": "execute_result"
    }
   ],
   "source": [
    "dff = results[1].reset_index()\n",
    "dff"
   ]
  },
  {
   "cell_type": "code",
   "execution_count": 18,
   "id": "1e9929a6",
   "metadata": {},
   "outputs": [],
   "source": [
    "dff = dff.pivot(index='limit_buy', columns='limit_sell', values='Return [%]')"
   ]
  },
  {
   "cell_type": "markdown",
   "id": "9e8eeb73-c0ee-4bd0-b54a-3104e961244c",
   "metadata": {},
   "source": [
    "### DataFrame heatmaps for better reporting"
   ]
  },
  {
   "cell_type": "code",
   "execution_count": 19,
   "id": "950fd7ce-1faf-4dd2-9dff-467f02558506",
   "metadata": {},
   "outputs": [
    {
     "data": {
      "text/html": [
       "<style type=\"text/css\">\n",
       "#T_e5fd4_row0_col0 {\n",
       "  background-color: #023858;\n",
       "  color: #f1f1f1;\n",
       "}\n",
       "#T_e5fd4_row0_col1 {\n",
       "  background-color: #73a9cf;\n",
       "  color: #f1f1f1;\n",
       "}\n",
       "#T_e5fd4_row0_col2 {\n",
       "  background-color: #d8d7e9;\n",
       "  color: #000000;\n",
       "}\n",
       "#T_e5fd4_row0_col3 {\n",
       "  background-color: #eee9f3;\n",
       "  color: #000000;\n",
       "}\n",
       "#T_e5fd4_row0_col4, #T_e5fd4_row1_col1, #T_e5fd4_row1_col2 {\n",
       "  background-color: #f7f0f7;\n",
       "  color: #000000;\n",
       "}\n",
       "#T_e5fd4_row0_col5 {\n",
       "  background-color: #fbf3f9;\n",
       "  color: #000000;\n",
       "}\n",
       "#T_e5fd4_row0_col6, #T_e5fd4_row0_col7, #T_e5fd4_row0_col8 {\n",
       "  background-color: #fbf4f9;\n",
       "  color: #000000;\n",
       "}\n",
       "#T_e5fd4_row0_col9, #T_e5fd4_row0_col10, #T_e5fd4_row1_col5, #T_e5fd4_row1_col6, #T_e5fd4_row1_col7, #T_e5fd4_row1_col8, #T_e5fd4_row1_col9, #T_e5fd4_row1_col10, #T_e5fd4_row2_col3, #T_e5fd4_row3_col4, #T_e5fd4_row4_col4, #T_e5fd4_row5_col4 {\n",
       "  background-color: #fcf4fa;\n",
       "  color: #000000;\n",
       "}\n",
       "#T_e5fd4_row1_col0, #T_e5fd4_row2_col5, #T_e5fd4_row2_col6, #T_e5fd4_row2_col7, #T_e5fd4_row2_col8, #T_e5fd4_row2_col9, #T_e5fd4_row2_col10, #T_e5fd4_row3_col5, #T_e5fd4_row3_col6, #T_e5fd4_row3_col7, #T_e5fd4_row3_col8, #T_e5fd4_row3_col9, #T_e5fd4_row3_col10, #T_e5fd4_row4_col5, #T_e5fd4_row4_col6, #T_e5fd4_row4_col7, #T_e5fd4_row4_col8, #T_e5fd4_row4_col9, #T_e5fd4_row4_col10, #T_e5fd4_row5_col5, #T_e5fd4_row5_col6, #T_e5fd4_row5_col7, #T_e5fd4_row5_col8, #T_e5fd4_row5_col9, #T_e5fd4_row5_col10, #T_e5fd4_row6_col5, #T_e5fd4_row6_col6, #T_e5fd4_row6_col7, #T_e5fd4_row6_col8, #T_e5fd4_row6_col9, #T_e5fd4_row6_col10 {\n",
       "  background-color: #fdf5fa;\n",
       "  color: #000000;\n",
       "}\n",
       "#T_e5fd4_row1_col3 {\n",
       "  background-color: #f8f1f8;\n",
       "  color: #000000;\n",
       "}\n",
       "#T_e5fd4_row1_col4 {\n",
       "  background-color: #faf2f8;\n",
       "  color: #000000;\n",
       "}\n",
       "#T_e5fd4_row2_col0, #T_e5fd4_row3_col0, #T_e5fd4_row3_col1, #T_e5fd4_row3_col2, #T_e5fd4_row3_col3, #T_e5fd4_row4_col0, #T_e5fd4_row4_col1, #T_e5fd4_row4_col2, #T_e5fd4_row4_col3, #T_e5fd4_row5_col0, #T_e5fd4_row5_col1, #T_e5fd4_row5_col2, #T_e5fd4_row5_col3, #T_e5fd4_row6_col0, #T_e5fd4_row6_col1, #T_e5fd4_row6_col2, #T_e5fd4_row6_col3, #T_e5fd4_row7_col0, #T_e5fd4_row7_col1, #T_e5fd4_row7_col2, #T_e5fd4_row7_col3, #T_e5fd4_row7_col4, #T_e5fd4_row8_col0, #T_e5fd4_row8_col1, #T_e5fd4_row8_col2, #T_e5fd4_row8_col3, #T_e5fd4_row8_col4, #T_e5fd4_row8_col5, #T_e5fd4_row8_col6, #T_e5fd4_row8_col7, #T_e5fd4_row8_col8, #T_e5fd4_row9_col0, #T_e5fd4_row9_col1, #T_e5fd4_row9_col2, #T_e5fd4_row9_col3, #T_e5fd4_row9_col4, #T_e5fd4_row9_col5, #T_e5fd4_row9_col6, #T_e5fd4_row9_col7, #T_e5fd4_row9_col8, #T_e5fd4_row9_col9, #T_e5fd4_row9_col10, #T_e5fd4_row10_col0, #T_e5fd4_row10_col1, #T_e5fd4_row10_col2, #T_e5fd4_row10_col3, #T_e5fd4_row10_col4, #T_e5fd4_row10_col5, #T_e5fd4_row10_col6, #T_e5fd4_row10_col7, #T_e5fd4_row10_col8, #T_e5fd4_row10_col9, #T_e5fd4_row10_col10 {\n",
       "  background-color: #fff7fb;\n",
       "  color: #000000;\n",
       "}\n",
       "#T_e5fd4_row2_col1, #T_e5fd4_row6_col4, #T_e5fd4_row7_col6, #T_e5fd4_row7_col7, #T_e5fd4_row7_col8, #T_e5fd4_row7_col9, #T_e5fd4_row7_col10, #T_e5fd4_row8_col9, #T_e5fd4_row8_col10 {\n",
       "  background-color: #fef6fa;\n",
       "  color: #000000;\n",
       "}\n",
       "#T_e5fd4_row2_col2, #T_e5fd4_row7_col5 {\n",
       "  background-color: #fef6fb;\n",
       "  color: #000000;\n",
       "}\n",
       "#T_e5fd4_row2_col4 {\n",
       "  background-color: #faf3f9;\n",
       "  color: #000000;\n",
       "}\n",
       "</style>\n",
       "<table id=\"T_e5fd4\">\n",
       "  <thead>\n",
       "    <tr>\n",
       "      <th class=\"index_name level0\" >limit_sell</th>\n",
       "      <th id=\"T_e5fd4_level0_col0\" class=\"col_heading level0 col0\" >0</th>\n",
       "      <th id=\"T_e5fd4_level0_col1\" class=\"col_heading level0 col1\" >-1</th>\n",
       "      <th id=\"T_e5fd4_level0_col2\" class=\"col_heading level0 col2\" >-2</th>\n",
       "      <th id=\"T_e5fd4_level0_col3\" class=\"col_heading level0 col3\" >-3</th>\n",
       "      <th id=\"T_e5fd4_level0_col4\" class=\"col_heading level0 col4\" >-4</th>\n",
       "      <th id=\"T_e5fd4_level0_col5\" class=\"col_heading level0 col5\" >-5</th>\n",
       "      <th id=\"T_e5fd4_level0_col6\" class=\"col_heading level0 col6\" >-6</th>\n",
       "      <th id=\"T_e5fd4_level0_col7\" class=\"col_heading level0 col7\" >-7</th>\n",
       "      <th id=\"T_e5fd4_level0_col8\" class=\"col_heading level0 col8\" >-8</th>\n",
       "      <th id=\"T_e5fd4_level0_col9\" class=\"col_heading level0 col9\" >-9</th>\n",
       "      <th id=\"T_e5fd4_level0_col10\" class=\"col_heading level0 col10\" >-10</th>\n",
       "    </tr>\n",
       "    <tr>\n",
       "      <th class=\"index_name level0\" >limit_buy</th>\n",
       "      <th class=\"blank col0\" >&nbsp;</th>\n",
       "      <th class=\"blank col1\" >&nbsp;</th>\n",
       "      <th class=\"blank col2\" >&nbsp;</th>\n",
       "      <th class=\"blank col3\" >&nbsp;</th>\n",
       "      <th class=\"blank col4\" >&nbsp;</th>\n",
       "      <th class=\"blank col5\" >&nbsp;</th>\n",
       "      <th class=\"blank col6\" >&nbsp;</th>\n",
       "      <th class=\"blank col7\" >&nbsp;</th>\n",
       "      <th class=\"blank col8\" >&nbsp;</th>\n",
       "      <th class=\"blank col9\" >&nbsp;</th>\n",
       "      <th class=\"blank col10\" >&nbsp;</th>\n",
       "    </tr>\n",
       "  </thead>\n",
       "  <tbody>\n",
       "    <tr>\n",
       "      <th id=\"T_e5fd4_level0_row0\" class=\"row_heading level0 row0\" >0</th>\n",
       "      <td id=\"T_e5fd4_row0_col0\" class=\"data row0 col0\" >25411</td>\n",
       "      <td id=\"T_e5fd4_row0_col1\" class=\"data row0 col1\" >12728</td>\n",
       "      <td id=\"T_e5fd4_row0_col2\" class=\"data row0 col2\" >5410</td>\n",
       "      <td id=\"T_e5fd4_row0_col3\" class=\"data row0 col3\" >2779</td>\n",
       "      <td id=\"T_e5fd4_row0_col4\" class=\"data row0 col4\" >1344</td>\n",
       "      <td id=\"T_e5fd4_row0_col5\" class=\"data row0 col5\" >676</td>\n",
       "      <td id=\"T_e5fd4_row0_col6\" class=\"data row0 col6\" >521</td>\n",
       "      <td id=\"T_e5fd4_row0_col7\" class=\"data row0 col7\" >521</td>\n",
       "      <td id=\"T_e5fd4_row0_col8\" class=\"data row0 col8\" >502</td>\n",
       "      <td id=\"T_e5fd4_row0_col9\" class=\"data row0 col9\" >479</td>\n",
       "      <td id=\"T_e5fd4_row0_col10\" class=\"data row0 col10\" >479</td>\n",
       "    </tr>\n",
       "    <tr>\n",
       "      <th id=\"T_e5fd4_level0_row1\" class=\"row_heading level0 row1\" >1</th>\n",
       "      <td id=\"T_e5fd4_row1_col0\" class=\"data row1 col0\" >345</td>\n",
       "      <td id=\"T_e5fd4_row1_col1\" class=\"data row1 col1\" >1310</td>\n",
       "      <td id=\"T_e5fd4_row1_col2\" class=\"data row1 col2\" >1199</td>\n",
       "      <td id=\"T_e5fd4_row1_col3\" class=\"data row1 col3\" >1093</td>\n",
       "      <td id=\"T_e5fd4_row1_col4\" class=\"data row1 col4\" >866</td>\n",
       "      <td id=\"T_e5fd4_row1_col5\" class=\"data row1 col5\" >457</td>\n",
       "      <td id=\"T_e5fd4_row1_col6\" class=\"data row1 col6\" >466</td>\n",
       "      <td id=\"T_e5fd4_row1_col7\" class=\"data row1 col7\" >466</td>\n",
       "      <td id=\"T_e5fd4_row1_col8\" class=\"data row1 col8\" >450</td>\n",
       "      <td id=\"T_e5fd4_row1_col9\" class=\"data row1 col9\" >472</td>\n",
       "      <td id=\"T_e5fd4_row1_col10\" class=\"data row1 col10\" >472</td>\n",
       "    </tr>\n",
       "    <tr>\n",
       "      <th id=\"T_e5fd4_level0_row2\" class=\"row_heading level0 row2\" >2</th>\n",
       "      <td id=\"T_e5fd4_row2_col0\" class=\"data row2 col0\" >-2</td>\n",
       "      <td id=\"T_e5fd4_row2_col1\" class=\"data row2 col1\" >129</td>\n",
       "      <td id=\"T_e5fd4_row2_col2\" class=\"data row2 col2\" >96</td>\n",
       "      <td id=\"T_e5fd4_row2_col3\" class=\"data row2 col3\" >436</td>\n",
       "      <td id=\"T_e5fd4_row2_col4\" class=\"data row2 col4\" >698</td>\n",
       "      <td id=\"T_e5fd4_row2_col5\" class=\"data row2 col5\" >331</td>\n",
       "      <td id=\"T_e5fd4_row2_col6\" class=\"data row2 col6\" >320</td>\n",
       "      <td id=\"T_e5fd4_row2_col7\" class=\"data row2 col7\" >320</td>\n",
       "      <td id=\"T_e5fd4_row2_col8\" class=\"data row2 col8\" >306</td>\n",
       "      <td id=\"T_e5fd4_row2_col9\" class=\"data row2 col9\" >323</td>\n",
       "      <td id=\"T_e5fd4_row2_col10\" class=\"data row2 col10\" >323</td>\n",
       "    </tr>\n",
       "    <tr>\n",
       "      <th id=\"T_e5fd4_level0_row3\" class=\"row_heading level0 row3\" >3</th>\n",
       "      <td id=\"T_e5fd4_row3_col0\" class=\"data row3 col0\" >-69</td>\n",
       "      <td id=\"T_e5fd4_row3_col1\" class=\"data row3 col1\" >-58</td>\n",
       "      <td id=\"T_e5fd4_row3_col2\" class=\"data row3 col2\" >-80</td>\n",
       "      <td id=\"T_e5fd4_row3_col3\" class=\"data row3 col3\" >-15</td>\n",
       "      <td id=\"T_e5fd4_row3_col4\" class=\"data row3 col4\" >420</td>\n",
       "      <td id=\"T_e5fd4_row3_col5\" class=\"data row3 col5\" >267</td>\n",
       "      <td id=\"T_e5fd4_row3_col6\" class=\"data row3 col6\" >259</td>\n",
       "      <td id=\"T_e5fd4_row3_col7\" class=\"data row3 col7\" >259</td>\n",
       "      <td id=\"T_e5fd4_row3_col8\" class=\"data row3 col8\" >306</td>\n",
       "      <td id=\"T_e5fd4_row3_col9\" class=\"data row3 col9\" >323</td>\n",
       "      <td id=\"T_e5fd4_row3_col10\" class=\"data row3 col10\" >323</td>\n",
       "    </tr>\n",
       "    <tr>\n",
       "      <th id=\"T_e5fd4_level0_row4\" class=\"row_heading level0 row4\" >4</th>\n",
       "      <td id=\"T_e5fd4_row4_col0\" class=\"data row4 col0\" >-76</td>\n",
       "      <td id=\"T_e5fd4_row4_col1\" class=\"data row4 col1\" >-72</td>\n",
       "      <td id=\"T_e5fd4_row4_col2\" class=\"data row4 col2\" >-78</td>\n",
       "      <td id=\"T_e5fd4_row4_col3\" class=\"data row4 col3\" >-25</td>\n",
       "      <td id=\"T_e5fd4_row4_col4\" class=\"data row4 col4\" >484</td>\n",
       "      <td id=\"T_e5fd4_row4_col5\" class=\"data row4 col5\" >338</td>\n",
       "      <td id=\"T_e5fd4_row4_col6\" class=\"data row4 col6\" >259</td>\n",
       "      <td id=\"T_e5fd4_row4_col7\" class=\"data row4 col7\" >259</td>\n",
       "      <td id=\"T_e5fd4_row4_col8\" class=\"data row4 col8\" >306</td>\n",
       "      <td id=\"T_e5fd4_row4_col9\" class=\"data row4 col9\" >323</td>\n",
       "      <td id=\"T_e5fd4_row4_col10\" class=\"data row4 col10\" >323</td>\n",
       "    </tr>\n",
       "    <tr>\n",
       "      <th id=\"T_e5fd4_level0_row5\" class=\"row_heading level0 row5\" >5</th>\n",
       "      <td id=\"T_e5fd4_row5_col0\" class=\"data row5 col0\" >-79</td>\n",
       "      <td id=\"T_e5fd4_row5_col1\" class=\"data row5 col1\" >-76</td>\n",
       "      <td id=\"T_e5fd4_row5_col2\" class=\"data row5 col2\" >-78</td>\n",
       "      <td id=\"T_e5fd4_row5_col3\" class=\"data row5 col3\" >-31</td>\n",
       "      <td id=\"T_e5fd4_row5_col4\" class=\"data row5 col4\" >421</td>\n",
       "      <td id=\"T_e5fd4_row5_col5\" class=\"data row5 col5\" >338</td>\n",
       "      <td id=\"T_e5fd4_row5_col6\" class=\"data row5 col6\" >259</td>\n",
       "      <td id=\"T_e5fd4_row5_col7\" class=\"data row5 col7\" >259</td>\n",
       "      <td id=\"T_e5fd4_row5_col8\" class=\"data row5 col8\" >306</td>\n",
       "      <td id=\"T_e5fd4_row5_col9\" class=\"data row5 col9\" >323</td>\n",
       "      <td id=\"T_e5fd4_row5_col10\" class=\"data row5 col10\" >323</td>\n",
       "    </tr>\n",
       "    <tr>\n",
       "      <th id=\"T_e5fd4_level0_row6\" class=\"row_heading level0 row6\" >6</th>\n",
       "      <td id=\"T_e5fd4_row6_col0\" class=\"data row6 col0\" >-100</td>\n",
       "      <td id=\"T_e5fd4_row6_col1\" class=\"data row6 col1\" >-100</td>\n",
       "      <td id=\"T_e5fd4_row6_col2\" class=\"data row6 col2\" >-100</td>\n",
       "      <td id=\"T_e5fd4_row6_col3\" class=\"data row6 col3\" >-100</td>\n",
       "      <td id=\"T_e5fd4_row6_col4\" class=\"data row6 col4\" >154</td>\n",
       "      <td id=\"T_e5fd4_row6_col5\" class=\"data row6 col5\" >211</td>\n",
       "      <td id=\"T_e5fd4_row6_col6\" class=\"data row6 col6\" >259</td>\n",
       "      <td id=\"T_e5fd4_row6_col7\" class=\"data row6 col7\" >259</td>\n",
       "      <td id=\"T_e5fd4_row6_col8\" class=\"data row6 col8\" >306</td>\n",
       "      <td id=\"T_e5fd4_row6_col9\" class=\"data row6 col9\" >323</td>\n",
       "      <td id=\"T_e5fd4_row6_col10\" class=\"data row6 col10\" >323</td>\n",
       "    </tr>\n",
       "    <tr>\n",
       "      <th id=\"T_e5fd4_level0_row7\" class=\"row_heading level0 row7\" >7</th>\n",
       "      <td id=\"T_e5fd4_row7_col0\" class=\"data row7 col0\" >-100</td>\n",
       "      <td id=\"T_e5fd4_row7_col1\" class=\"data row7 col1\" >-100</td>\n",
       "      <td id=\"T_e5fd4_row7_col2\" class=\"data row7 col2\" >-100</td>\n",
       "      <td id=\"T_e5fd4_row7_col3\" class=\"data row7 col3\" >-100</td>\n",
       "      <td id=\"T_e5fd4_row7_col4\" class=\"data row7 col4\" >-100</td>\n",
       "      <td id=\"T_e5fd4_row7_col5\" class=\"data row7 col5\" >59</td>\n",
       "      <td id=\"T_e5fd4_row7_col6\" class=\"data row7 col6\" >141</td>\n",
       "      <td id=\"T_e5fd4_row7_col7\" class=\"data row7 col7\" >141</td>\n",
       "      <td id=\"T_e5fd4_row7_col8\" class=\"data row7 col8\" >141</td>\n",
       "      <td id=\"T_e5fd4_row7_col9\" class=\"data row7 col9\" >151</td>\n",
       "      <td id=\"T_e5fd4_row7_col10\" class=\"data row7 col10\" >151</td>\n",
       "    </tr>\n",
       "    <tr>\n",
       "      <th id=\"T_e5fd4_level0_row8\" class=\"row_heading level0 row8\" >8</th>\n",
       "      <td id=\"T_e5fd4_row8_col0\" class=\"data row8 col0\" >-100</td>\n",
       "      <td id=\"T_e5fd4_row8_col1\" class=\"data row8 col1\" >-100</td>\n",
       "      <td id=\"T_e5fd4_row8_col2\" class=\"data row8 col2\" >-100</td>\n",
       "      <td id=\"T_e5fd4_row8_col3\" class=\"data row8 col3\" >-100</td>\n",
       "      <td id=\"T_e5fd4_row8_col4\" class=\"data row8 col4\" >-100</td>\n",
       "      <td id=\"T_e5fd4_row8_col5\" class=\"data row8 col5\" >-91</td>\n",
       "      <td id=\"T_e5fd4_row8_col6\" class=\"data row8 col6\" >-43</td>\n",
       "      <td id=\"T_e5fd4_row8_col7\" class=\"data row8 col7\" >-43</td>\n",
       "      <td id=\"T_e5fd4_row8_col8\" class=\"data row8 col8\" >-43</td>\n",
       "      <td id=\"T_e5fd4_row8_col9\" class=\"data row8 col9\" >137</td>\n",
       "      <td id=\"T_e5fd4_row8_col10\" class=\"data row8 col10\" >137</td>\n",
       "    </tr>\n",
       "    <tr>\n",
       "      <th id=\"T_e5fd4_level0_row9\" class=\"row_heading level0 row9\" >9</th>\n",
       "      <td id=\"T_e5fd4_row9_col0\" class=\"data row9 col0\" >-100</td>\n",
       "      <td id=\"T_e5fd4_row9_col1\" class=\"data row9 col1\" >-100</td>\n",
       "      <td id=\"T_e5fd4_row9_col2\" class=\"data row9 col2\" >-100</td>\n",
       "      <td id=\"T_e5fd4_row9_col3\" class=\"data row9 col3\" >-100</td>\n",
       "      <td id=\"T_e5fd4_row9_col4\" class=\"data row9 col4\" >-100</td>\n",
       "      <td id=\"T_e5fd4_row9_col5\" class=\"data row9 col5\" >-100</td>\n",
       "      <td id=\"T_e5fd4_row9_col6\" class=\"data row9 col6\" >-100</td>\n",
       "      <td id=\"T_e5fd4_row9_col7\" class=\"data row9 col7\" >-100</td>\n",
       "      <td id=\"T_e5fd4_row9_col8\" class=\"data row9 col8\" >-100</td>\n",
       "      <td id=\"T_e5fd4_row9_col9\" class=\"data row9 col9\" >-100</td>\n",
       "      <td id=\"T_e5fd4_row9_col10\" class=\"data row9 col10\" >-100</td>\n",
       "    </tr>\n",
       "    <tr>\n",
       "      <th id=\"T_e5fd4_level0_row10\" class=\"row_heading level0 row10\" >10</th>\n",
       "      <td id=\"T_e5fd4_row10_col0\" class=\"data row10 col0\" >-100</td>\n",
       "      <td id=\"T_e5fd4_row10_col1\" class=\"data row10 col1\" >-100</td>\n",
       "      <td id=\"T_e5fd4_row10_col2\" class=\"data row10 col2\" >-100</td>\n",
       "      <td id=\"T_e5fd4_row10_col3\" class=\"data row10 col3\" >-100</td>\n",
       "      <td id=\"T_e5fd4_row10_col4\" class=\"data row10 col4\" >-100</td>\n",
       "      <td id=\"T_e5fd4_row10_col5\" class=\"data row10 col5\" >-100</td>\n",
       "      <td id=\"T_e5fd4_row10_col6\" class=\"data row10 col6\" >-100</td>\n",
       "      <td id=\"T_e5fd4_row10_col7\" class=\"data row10 col7\" >-100</td>\n",
       "      <td id=\"T_e5fd4_row10_col8\" class=\"data row10 col8\" >-100</td>\n",
       "      <td id=\"T_e5fd4_row10_col9\" class=\"data row10 col9\" >-100</td>\n",
       "      <td id=\"T_e5fd4_row10_col10\" class=\"data row10 col10\" >-100</td>\n",
       "    </tr>\n",
       "  </tbody>\n",
       "</table>\n"
      ],
      "text/plain": [
       "<pandas.io.formats.style.Styler at 0x7f8c1949a2f0>"
      ]
     },
     "execution_count": 19,
     "metadata": {},
     "output_type": "execute_result"
    }
   ],
   "source": [
    "dff.sort_index(axis=1, ascending=False)\\\n",
    "  .style.format(precision=0)\\\n",
    "    .background_gradient(vmin=dff.values.min(), vmax=dff.values.max())"
   ]
  }
 ],
 "metadata": {
  "kernelspec": {
   "display_name": "Python 3",
   "language": "python",
   "name": "python3"
  },
  "language_info": {
   "codemirror_mode": {
    "name": "ipython",
    "version": 3
   },
   "file_extension": ".py",
   "mimetype": "text/x-python",
   "name": "python",
   "nbconvert_exporter": "python",
   "pygments_lexer": "ipython3",
   "version": "3.10.12"
  }
 },
 "nbformat": 4,
 "nbformat_minor": 5
}
