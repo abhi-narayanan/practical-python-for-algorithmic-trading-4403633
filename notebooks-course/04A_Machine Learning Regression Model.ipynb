{
 "cells": [
  {
   "cell_type": "markdown",
   "id": "19042295-3a3e-4e14-afc4-201c9e34e999",
   "metadata": {},
   "source": [
    "# Machine Learning Regression Model"
   ]
  },
  {
   "cell_type": "code",
   "execution_count": 10,
   "id": "12490862",
   "metadata": {},
   "outputs": [
    {
     "name": "stdout",
     "output_type": "stream",
     "text": [
      "Object `?` not found.\n"
     ]
    }
   ],
   "source": [
    "???"
   ]
  },
  {
   "cell_type": "markdown",
   "id": "0a9e3021",
   "metadata": {},
   "source": [
    "Classification Model | Regression Model\n",
    "-|-\n",
    "![](src/pred_classification.png) | ![](src/pred_regression.png)"
   ]
  },
  {
   "cell_type": "markdown",
   "id": "726ed1f5-8f2e-4e72-9e96-643fec7ca11a",
   "metadata": {},
   "source": [
    "## [ ] Load the data"
   ]
  },
  {
   "cell_type": "code",
   "execution_count": 1,
   "id": "9f9d6220-8756-4c2b-9b36-834614882376",
   "metadata": {},
   "outputs": [
    {
     "data": {
      "text/html": [
       "<div>\n",
       "<style scoped>\n",
       "    .dataframe tbody tr th:only-of-type {\n",
       "        vertical-align: middle;\n",
       "    }\n",
       "\n",
       "    .dataframe tbody tr th {\n",
       "        vertical-align: top;\n",
       "    }\n",
       "\n",
       "    .dataframe thead th {\n",
       "        text-align: right;\n",
       "    }\n",
       "</style>\n",
       "<table border=\"1\" class=\"dataframe\">\n",
       "  <thead>\n",
       "    <tr style=\"text-align: right;\">\n",
       "      <th></th>\n",
       "      <th>Open</th>\n",
       "      <th>High</th>\n",
       "      <th>Low</th>\n",
       "      <th>Close</th>\n",
       "      <th>Adj Close</th>\n",
       "      <th>Volume</th>\n",
       "      <th>change_tomorrow</th>\n",
       "      <th>change_tomorrow_direction</th>\n",
       "    </tr>\n",
       "    <tr>\n",
       "      <th>Date</th>\n",
       "      <th></th>\n",
       "      <th></th>\n",
       "      <th></th>\n",
       "      <th></th>\n",
       "      <th></th>\n",
       "      <th></th>\n",
       "      <th></th>\n",
       "      <th></th>\n",
       "    </tr>\n",
       "  </thead>\n",
       "  <tbody>\n",
       "    <tr>\n",
       "      <th>2016-12-08</th>\n",
       "      <td>61.299999</td>\n",
       "      <td>61.580002</td>\n",
       "      <td>60.840000</td>\n",
       "      <td>61.009998</td>\n",
       "      <td>55.705235</td>\n",
       "      <td>21220800</td>\n",
       "      <td>1.549141</td>\n",
       "      <td>UP</td>\n",
       "    </tr>\n",
       "    <tr>\n",
       "      <th>2016-12-09</th>\n",
       "      <td>61.180000</td>\n",
       "      <td>61.990002</td>\n",
       "      <td>61.130001</td>\n",
       "      <td>61.970001</td>\n",
       "      <td>56.581772</td>\n",
       "      <td>27349400</td>\n",
       "      <td>0.321694</td>\n",
       "      <td>UP</td>\n",
       "    </tr>\n",
       "    <tr>\n",
       "      <th>2016-12-12</th>\n",
       "      <td>61.820000</td>\n",
       "      <td>62.299999</td>\n",
       "      <td>61.720001</td>\n",
       "      <td>62.169998</td>\n",
       "      <td>56.764374</td>\n",
       "      <td>20198100</td>\n",
       "      <td>1.286125</td>\n",
       "      <td>UP</td>\n",
       "    </tr>\n",
       "    <tr>\n",
       "      <th>2016-12-13</th>\n",
       "      <td>62.500000</td>\n",
       "      <td>63.419998</td>\n",
       "      <td>62.240002</td>\n",
       "      <td>62.980000</td>\n",
       "      <td>57.503944</td>\n",
       "      <td>35718900</td>\n",
       "      <td>-0.478620</td>\n",
       "      <td>DOWN</td>\n",
       "    </tr>\n",
       "    <tr>\n",
       "      <th>2016-12-14</th>\n",
       "      <td>63.000000</td>\n",
       "      <td>63.450001</td>\n",
       "      <td>62.529999</td>\n",
       "      <td>62.680000</td>\n",
       "      <td>57.230022</td>\n",
       "      <td>30352700</td>\n",
       "      <td>-0.159793</td>\n",
       "      <td>DOWN</td>\n",
       "    </tr>\n",
       "    <tr>\n",
       "      <th>...</th>\n",
       "      <td>...</td>\n",
       "      <td>...</td>\n",
       "      <td>...</td>\n",
       "      <td>...</td>\n",
       "      <td>...</td>\n",
       "      <td>...</td>\n",
       "      <td>...</td>\n",
       "      <td>...</td>\n",
       "    </tr>\n",
       "    <tr>\n",
       "      <th>2023-12-18</th>\n",
       "      <td>369.450012</td>\n",
       "      <td>373.000000</td>\n",
       "      <td>368.679993</td>\n",
       "      <td>372.649994</td>\n",
       "      <td>372.649994</td>\n",
       "      <td>21802900</td>\n",
       "      <td>0.163429</td>\n",
       "      <td>UP</td>\n",
       "    </tr>\n",
       "    <tr>\n",
       "      <th>2023-12-19</th>\n",
       "      <td>371.489990</td>\n",
       "      <td>373.260010</td>\n",
       "      <td>369.839996</td>\n",
       "      <td>373.260010</td>\n",
       "      <td>373.260010</td>\n",
       "      <td>20603700</td>\n",
       "      <td>-0.712324</td>\n",
       "      <td>DOWN</td>\n",
       "    </tr>\n",
       "    <tr>\n",
       "      <th>2023-12-20</th>\n",
       "      <td>375.000000</td>\n",
       "      <td>376.029999</td>\n",
       "      <td>370.529999</td>\n",
       "      <td>370.619995</td>\n",
       "      <td>370.619995</td>\n",
       "      <td>26316700</td>\n",
       "      <td>0.781714</td>\n",
       "      <td>UP</td>\n",
       "    </tr>\n",
       "    <tr>\n",
       "      <th>2023-12-21</th>\n",
       "      <td>372.559998</td>\n",
       "      <td>374.410004</td>\n",
       "      <td>370.040009</td>\n",
       "      <td>373.540009</td>\n",
       "      <td>373.540009</td>\n",
       "      <td>17708000</td>\n",
       "      <td>0.277638</td>\n",
       "      <td>UP</td>\n",
       "    </tr>\n",
       "    <tr>\n",
       "      <th>2023-12-22</th>\n",
       "      <td>373.679993</td>\n",
       "      <td>375.179993</td>\n",
       "      <td>372.709991</td>\n",
       "      <td>374.579987</td>\n",
       "      <td>374.579987</td>\n",
       "      <td>17091100</td>\n",
       "      <td>0.021357</td>\n",
       "      <td>UP</td>\n",
       "    </tr>\n",
       "  </tbody>\n",
       "</table>\n",
       "<p>1772 rows × 8 columns</p>\n",
       "</div>"
      ],
      "text/plain": [
       "                  Open        High         Low       Close   Adj Close  \\\n",
       "Date                                                                     \n",
       "2016-12-08   61.299999   61.580002   60.840000   61.009998   55.705235   \n",
       "2016-12-09   61.180000   61.990002   61.130001   61.970001   56.581772   \n",
       "2016-12-12   61.820000   62.299999   61.720001   62.169998   56.764374   \n",
       "2016-12-13   62.500000   63.419998   62.240002   62.980000   57.503944   \n",
       "2016-12-14   63.000000   63.450001   62.529999   62.680000   57.230022   \n",
       "...                ...         ...         ...         ...         ...   \n",
       "2023-12-18  369.450012  373.000000  368.679993  372.649994  372.649994   \n",
       "2023-12-19  371.489990  373.260010  369.839996  373.260010  373.260010   \n",
       "2023-12-20  375.000000  376.029999  370.529999  370.619995  370.619995   \n",
       "2023-12-21  372.559998  374.410004  370.040009  373.540009  373.540009   \n",
       "2023-12-22  373.679993  375.179993  372.709991  374.579987  374.579987   \n",
       "\n",
       "              Volume  change_tomorrow change_tomorrow_direction  \n",
       "Date                                                             \n",
       "2016-12-08  21220800         1.549141                        UP  \n",
       "2016-12-09  27349400         0.321694                        UP  \n",
       "2016-12-12  20198100         1.286125                        UP  \n",
       "2016-12-13  35718900        -0.478620                      DOWN  \n",
       "2016-12-14  30352700        -0.159793                      DOWN  \n",
       "...              ...              ...                       ...  \n",
       "2023-12-18  21802900         0.163429                        UP  \n",
       "2023-12-19  20603700        -0.712324                      DOWN  \n",
       "2023-12-20  26316700         0.781714                        UP  \n",
       "2023-12-21  17708000         0.277638                        UP  \n",
       "2023-12-22  17091100         0.021357                        UP  \n",
       "\n",
       "[1772 rows x 8 columns]"
      ]
     },
     "execution_count": 1,
     "metadata": {},
     "output_type": "execute_result"
    }
   ],
   "source": [
    "import pandas as pd\n",
    "\n",
    "df = pd.read_excel('data/Microsoft_LinkedIn_Processed.xlsx', parse_dates=['Date'], index_col=0)\n",
    "df"
   ]
  },
  {
   "cell_type": "markdown",
   "id": "71e77503-0b0d-4041-895b-f0a07a595b81",
   "metadata": {},
   "source": [
    "## Machine Learning Model"
   ]
  },
  {
   "cell_type": "markdown",
   "id": "bf95e298-19ea-4094-b3c5-bc755e69fdc3",
   "metadata": {},
   "source": [
    "### Separate the data\n",
    "\n",
    "1. Target: which variable do you want to predict?\n",
    "2. Explanatory: which variables will you use to calculate the prediction?"
   ]
  },
  {
   "cell_type": "code",
   "execution_count": 2,
   "id": "2276993f-9b26-40a9-a639-3736682f641c",
   "metadata": {},
   "outputs": [],
   "source": [
    "target = df.change_tomorrow\n",
    "explanatory = df[['Open','High','Low','Close','Volume']]"
   ]
  },
  {
   "cell_type": "code",
   "execution_count": 3,
   "id": "c23942f9",
   "metadata": {},
   "outputs": [
    {
     "data": {
      "text/plain": [
       "Date\n",
       "2016-12-08    1.549141\n",
       "2016-12-09    0.321694\n",
       "2016-12-12    1.286125\n",
       "2016-12-13   -0.478620\n",
       "2016-12-14   -0.159793\n",
       "                ...   \n",
       "2023-12-18    0.163429\n",
       "2023-12-19   -0.712324\n",
       "2023-12-20    0.781714\n",
       "2023-12-21    0.277638\n",
       "2023-12-22    0.021357\n",
       "Name: change_tomorrow, Length: 1772, dtype: float64"
      ]
     },
     "execution_count": 3,
     "metadata": {},
     "output_type": "execute_result"
    }
   ],
   "source": [
    "target"
   ]
  },
  {
   "cell_type": "code",
   "execution_count": 4,
   "id": "37f9114d",
   "metadata": {},
   "outputs": [
    {
     "data": {
      "text/html": [
       "<div>\n",
       "<style scoped>\n",
       "    .dataframe tbody tr th:only-of-type {\n",
       "        vertical-align: middle;\n",
       "    }\n",
       "\n",
       "    .dataframe tbody tr th {\n",
       "        vertical-align: top;\n",
       "    }\n",
       "\n",
       "    .dataframe thead th {\n",
       "        text-align: right;\n",
       "    }\n",
       "</style>\n",
       "<table border=\"1\" class=\"dataframe\">\n",
       "  <thead>\n",
       "    <tr style=\"text-align: right;\">\n",
       "      <th></th>\n",
       "      <th>Open</th>\n",
       "      <th>High</th>\n",
       "      <th>Low</th>\n",
       "      <th>Close</th>\n",
       "      <th>Volume</th>\n",
       "    </tr>\n",
       "    <tr>\n",
       "      <th>Date</th>\n",
       "      <th></th>\n",
       "      <th></th>\n",
       "      <th></th>\n",
       "      <th></th>\n",
       "      <th></th>\n",
       "    </tr>\n",
       "  </thead>\n",
       "  <tbody>\n",
       "    <tr>\n",
       "      <th>2016-12-08</th>\n",
       "      <td>61.299999</td>\n",
       "      <td>61.580002</td>\n",
       "      <td>60.840000</td>\n",
       "      <td>61.009998</td>\n",
       "      <td>21220800</td>\n",
       "    </tr>\n",
       "    <tr>\n",
       "      <th>2016-12-09</th>\n",
       "      <td>61.180000</td>\n",
       "      <td>61.990002</td>\n",
       "      <td>61.130001</td>\n",
       "      <td>61.970001</td>\n",
       "      <td>27349400</td>\n",
       "    </tr>\n",
       "    <tr>\n",
       "      <th>2016-12-12</th>\n",
       "      <td>61.820000</td>\n",
       "      <td>62.299999</td>\n",
       "      <td>61.720001</td>\n",
       "      <td>62.169998</td>\n",
       "      <td>20198100</td>\n",
       "    </tr>\n",
       "    <tr>\n",
       "      <th>2016-12-13</th>\n",
       "      <td>62.500000</td>\n",
       "      <td>63.419998</td>\n",
       "      <td>62.240002</td>\n",
       "      <td>62.980000</td>\n",
       "      <td>35718900</td>\n",
       "    </tr>\n",
       "    <tr>\n",
       "      <th>2016-12-14</th>\n",
       "      <td>63.000000</td>\n",
       "      <td>63.450001</td>\n",
       "      <td>62.529999</td>\n",
       "      <td>62.680000</td>\n",
       "      <td>30352700</td>\n",
       "    </tr>\n",
       "    <tr>\n",
       "      <th>...</th>\n",
       "      <td>...</td>\n",
       "      <td>...</td>\n",
       "      <td>...</td>\n",
       "      <td>...</td>\n",
       "      <td>...</td>\n",
       "    </tr>\n",
       "    <tr>\n",
       "      <th>2023-12-18</th>\n",
       "      <td>369.450012</td>\n",
       "      <td>373.000000</td>\n",
       "      <td>368.679993</td>\n",
       "      <td>372.649994</td>\n",
       "      <td>21802900</td>\n",
       "    </tr>\n",
       "    <tr>\n",
       "      <th>2023-12-19</th>\n",
       "      <td>371.489990</td>\n",
       "      <td>373.260010</td>\n",
       "      <td>369.839996</td>\n",
       "      <td>373.260010</td>\n",
       "      <td>20603700</td>\n",
       "    </tr>\n",
       "    <tr>\n",
       "      <th>2023-12-20</th>\n",
       "      <td>375.000000</td>\n",
       "      <td>376.029999</td>\n",
       "      <td>370.529999</td>\n",
       "      <td>370.619995</td>\n",
       "      <td>26316700</td>\n",
       "    </tr>\n",
       "    <tr>\n",
       "      <th>2023-12-21</th>\n",
       "      <td>372.559998</td>\n",
       "      <td>374.410004</td>\n",
       "      <td>370.040009</td>\n",
       "      <td>373.540009</td>\n",
       "      <td>17708000</td>\n",
       "    </tr>\n",
       "    <tr>\n",
       "      <th>2023-12-22</th>\n",
       "      <td>373.679993</td>\n",
       "      <td>375.179993</td>\n",
       "      <td>372.709991</td>\n",
       "      <td>374.579987</td>\n",
       "      <td>17091100</td>\n",
       "    </tr>\n",
       "  </tbody>\n",
       "</table>\n",
       "<p>1772 rows × 5 columns</p>\n",
       "</div>"
      ],
      "text/plain": [
       "                  Open        High         Low       Close    Volume\n",
       "Date                                                                \n",
       "2016-12-08   61.299999   61.580002   60.840000   61.009998  21220800\n",
       "2016-12-09   61.180000   61.990002   61.130001   61.970001  27349400\n",
       "2016-12-12   61.820000   62.299999   61.720001   62.169998  20198100\n",
       "2016-12-13   62.500000   63.419998   62.240002   62.980000  35718900\n",
       "2016-12-14   63.000000   63.450001   62.529999   62.680000  30352700\n",
       "...                ...         ...         ...         ...       ...\n",
       "2023-12-18  369.450012  373.000000  368.679993  372.649994  21802900\n",
       "2023-12-19  371.489990  373.260010  369.839996  373.260010  20603700\n",
       "2023-12-20  375.000000  376.029999  370.529999  370.619995  26316700\n",
       "2023-12-21  372.559998  374.410004  370.040009  373.540009  17708000\n",
       "2023-12-22  373.679993  375.179993  372.709991  374.579987  17091100\n",
       "\n",
       "[1772 rows x 5 columns]"
      ]
     },
     "execution_count": 4,
     "metadata": {},
     "output_type": "execute_result"
    }
   ],
   "source": [
    "explanatory"
   ]
  },
  {
   "cell_type": "markdown",
   "id": "9fc0cfb0-881f-464c-bcde-10bf38b12e19",
   "metadata": {},
   "source": [
    "### Compute the model\n",
    "\n",
    "The following model will predict the **numerical increase** of the stock for the following day.\n",
    "\n",
    "As the variable we predict is numerical, we talk about regression models. In the previous tutorial, we used a classification model since the variable we predicted was categorical (UP or DOWN)."
   ]
  },
  {
   "cell_type": "code",
   "execution_count": 5,
   "id": "421351bb-20a4-47e9-aaef-74602350bb46",
   "metadata": {},
   "outputs": [],
   "source": [
    "from sklearn.tree import DecisionTreeRegressor, plot_tree"
   ]
  },
  {
   "cell_type": "code",
   "execution_count": 6,
   "id": "e07d5b91",
   "metadata": {},
   "outputs": [],
   "source": [
    "model_dt = DecisionTreeRegressor(max_depth=15, criterion='squared_error')"
   ]
  },
  {
   "cell_type": "code",
   "execution_count": 7,
   "id": "ac3ca664",
   "metadata": {},
   "outputs": [
    {
     "data": {
      "text/html": [
       "<style>#sk-container-id-1 {color: black;}#sk-container-id-1 pre{padding: 0;}#sk-container-id-1 div.sk-toggleable {background-color: white;}#sk-container-id-1 label.sk-toggleable__label {cursor: pointer;display: block;width: 100%;margin-bottom: 0;padding: 0.3em;box-sizing: border-box;text-align: center;}#sk-container-id-1 label.sk-toggleable__label-arrow:before {content: \"▸\";float: left;margin-right: 0.25em;color: #696969;}#sk-container-id-1 label.sk-toggleable__label-arrow:hover:before {color: black;}#sk-container-id-1 div.sk-estimator:hover label.sk-toggleable__label-arrow:before {color: black;}#sk-container-id-1 div.sk-toggleable__content {max-height: 0;max-width: 0;overflow: hidden;text-align: left;background-color: #f0f8ff;}#sk-container-id-1 div.sk-toggleable__content pre {margin: 0.2em;color: black;border-radius: 0.25em;background-color: #f0f8ff;}#sk-container-id-1 input.sk-toggleable__control:checked~div.sk-toggleable__content {max-height: 200px;max-width: 100%;overflow: auto;}#sk-container-id-1 input.sk-toggleable__control:checked~label.sk-toggleable__label-arrow:before {content: \"▾\";}#sk-container-id-1 div.sk-estimator input.sk-toggleable__control:checked~label.sk-toggleable__label {background-color: #d4ebff;}#sk-container-id-1 div.sk-label input.sk-toggleable__control:checked~label.sk-toggleable__label {background-color: #d4ebff;}#sk-container-id-1 input.sk-hidden--visually {border: 0;clip: rect(1px 1px 1px 1px);clip: rect(1px, 1px, 1px, 1px);height: 1px;margin: -1px;overflow: hidden;padding: 0;position: absolute;width: 1px;}#sk-container-id-1 div.sk-estimator {font-family: monospace;background-color: #f0f8ff;border: 1px dotted black;border-radius: 0.25em;box-sizing: border-box;margin-bottom: 0.5em;}#sk-container-id-1 div.sk-estimator:hover {background-color: #d4ebff;}#sk-container-id-1 div.sk-parallel-item::after {content: \"\";width: 100%;border-bottom: 1px solid gray;flex-grow: 1;}#sk-container-id-1 div.sk-label:hover label.sk-toggleable__label {background-color: #d4ebff;}#sk-container-id-1 div.sk-serial::before {content: \"\";position: absolute;border-left: 1px solid gray;box-sizing: border-box;top: 0;bottom: 0;left: 50%;z-index: 0;}#sk-container-id-1 div.sk-serial {display: flex;flex-direction: column;align-items: center;background-color: white;padding-right: 0.2em;padding-left: 0.2em;position: relative;}#sk-container-id-1 div.sk-item {position: relative;z-index: 1;}#sk-container-id-1 div.sk-parallel {display: flex;align-items: stretch;justify-content: center;background-color: white;position: relative;}#sk-container-id-1 div.sk-item::before, #sk-container-id-1 div.sk-parallel-item::before {content: \"\";position: absolute;border-left: 1px solid gray;box-sizing: border-box;top: 0;bottom: 0;left: 50%;z-index: -1;}#sk-container-id-1 div.sk-parallel-item {display: flex;flex-direction: column;z-index: 1;position: relative;background-color: white;}#sk-container-id-1 div.sk-parallel-item:first-child::after {align-self: flex-end;width: 50%;}#sk-container-id-1 div.sk-parallel-item:last-child::after {align-self: flex-start;width: 50%;}#sk-container-id-1 div.sk-parallel-item:only-child::after {width: 0;}#sk-container-id-1 div.sk-dashed-wrapped {border: 1px dashed gray;margin: 0 0.4em 0.5em 0.4em;box-sizing: border-box;padding-bottom: 0.4em;background-color: white;}#sk-container-id-1 div.sk-label label {font-family: monospace;font-weight: bold;display: inline-block;line-height: 1.2em;}#sk-container-id-1 div.sk-label-container {text-align: center;}#sk-container-id-1 div.sk-container {/* jupyter's `normalize.less` sets `[hidden] { display: none; }` but bootstrap.min.css set `[hidden] { display: none !important; }` so we also need the `!important` here to be able to override the default hidden behavior on the sphinx rendered scikit-learn.org. See: https://github.com/scikit-learn/scikit-learn/issues/21755 */display: inline-block !important;position: relative;}#sk-container-id-1 div.sk-text-repr-fallback {display: none;}</style><div id=\"sk-container-id-1\" class=\"sk-top-container\"><div class=\"sk-text-repr-fallback\"><pre>DecisionTreeRegressor(max_depth=15)</pre><b>In a Jupyter environment, please rerun this cell to show the HTML representation or trust the notebook. <br />On GitHub, the HTML representation is unable to render, please try loading this page with nbviewer.org.</b></div><div class=\"sk-container\" hidden><div class=\"sk-item\"><div class=\"sk-estimator sk-toggleable\"><input class=\"sk-toggleable__control sk-hidden--visually\" id=\"sk-estimator-id-1\" type=\"checkbox\" checked><label for=\"sk-estimator-id-1\" class=\"sk-toggleable__label sk-toggleable__label-arrow\">DecisionTreeRegressor</label><div class=\"sk-toggleable__content\"><pre>DecisionTreeRegressor(max_depth=15)</pre></div></div></div></div></div>"
      ],
      "text/plain": [
       "DecisionTreeRegressor(max_depth=15)"
      ]
     },
     "execution_count": 7,
     "metadata": {},
     "output_type": "execute_result"
    }
   ],
   "source": [
    "model_dt.fit(X=explanatory, y=target)"
   ]
  },
  {
   "cell_type": "code",
   "execution_count": 8,
   "id": "f62c2746",
   "metadata": {},
   "outputs": [
    {
     "data": {
      "image/png": "[encoded data removed]",
      "text/plain": [
       "<Figure size 640x480 with 1 Axes>"
      ]
     },
     "metadata": {},
     "output_type": "display_data"
    }
   ],
   "source": [
    "plot_tree(decision_tree=model_dt, feature_names=model_dt.feature_names_in_);"
   ]
  },
  {
   "cell_type": "markdown",
   "id": "2400ea55-6f2d-4901-af7b-fea9e9c1c8ac",
   "metadata": {},
   "source": [
    "### Calculate the predictions"
   ]
  },
  {
   "cell_type": "code",
   "execution_count": 9,
   "id": "60150484-4d5f-4fdd-b22a-81e3494e9026",
   "metadata": {},
   "outputs": [],
   "source": [
    "y_pred = model_dt.predict(X=explanatory)"
   ]
  },
  {
   "cell_type": "code",
   "execution_count": 10,
   "id": "f7e9138a",
   "metadata": {},
   "outputs": [
    {
     "data": {
      "text/html": [
       "<div>\n",
       "<style scoped>\n",
       "    .dataframe tbody tr th:only-of-type {\n",
       "        vertical-align: middle;\n",
       "    }\n",
       "\n",
       "    .dataframe tbody tr th {\n",
       "        vertical-align: top;\n",
       "    }\n",
       "\n",
       "    .dataframe thead th {\n",
       "        text-align: right;\n",
       "    }\n",
       "</style>\n",
       "<table border=\"1\" class=\"dataframe\">\n",
       "  <thead>\n",
       "    <tr style=\"text-align: right;\">\n",
       "      <th></th>\n",
       "      <th>change_tomorrow</th>\n",
       "      <th>prediction</th>\n",
       "    </tr>\n",
       "    <tr>\n",
       "      <th>Date</th>\n",
       "      <th></th>\n",
       "      <th></th>\n",
       "    </tr>\n",
       "  </thead>\n",
       "  <tbody>\n",
       "    <tr>\n",
       "      <th>2016-12-08</th>\n",
       "      <td>1.549141</td>\n",
       "      <td>1.098976</td>\n",
       "    </tr>\n",
       "    <tr>\n",
       "      <th>2016-12-09</th>\n",
       "      <td>0.321694</td>\n",
       "      <td>0.472320</td>\n",
       "    </tr>\n",
       "    <tr>\n",
       "      <th>2016-12-12</th>\n",
       "      <td>1.286125</td>\n",
       "      <td>1.098976</td>\n",
       "    </tr>\n",
       "    <tr>\n",
       "      <th>2016-12-13</th>\n",
       "      <td>-0.478620</td>\n",
       "      <td>-0.806372</td>\n",
       "    </tr>\n",
       "    <tr>\n",
       "      <th>2016-12-14</th>\n",
       "      <td>-0.159793</td>\n",
       "      <td>0.280520</td>\n",
       "    </tr>\n",
       "    <tr>\n",
       "      <th>...</th>\n",
       "      <td>...</td>\n",
       "      <td>...</td>\n",
       "    </tr>\n",
       "    <tr>\n",
       "      <th>2023-12-18</th>\n",
       "      <td>0.163429</td>\n",
       "      <td>0.385932</td>\n",
       "    </tr>\n",
       "    <tr>\n",
       "      <th>2023-12-19</th>\n",
       "      <td>-0.712324</td>\n",
       "      <td>-0.022319</td>\n",
       "    </tr>\n",
       "    <tr>\n",
       "      <th>2023-12-20</th>\n",
       "      <td>0.781714</td>\n",
       "      <td>0.390720</td>\n",
       "    </tr>\n",
       "    <tr>\n",
       "      <th>2023-12-21</th>\n",
       "      <td>0.277638</td>\n",
       "      <td>-0.022319</td>\n",
       "    </tr>\n",
       "    <tr>\n",
       "      <th>2023-12-22</th>\n",
       "      <td>0.021357</td>\n",
       "      <td>-0.022319</td>\n",
       "    </tr>\n",
       "  </tbody>\n",
       "</table>\n",
       "<p>1772 rows × 2 columns</p>\n",
       "</div>"
      ],
      "text/plain": [
       "            change_tomorrow  prediction\n",
       "Date                                   \n",
       "2016-12-08         1.549141    1.098976\n",
       "2016-12-09         0.321694    0.472320\n",
       "2016-12-12         1.286125    1.098976\n",
       "2016-12-13        -0.478620   -0.806372\n",
       "2016-12-14        -0.159793    0.280520\n",
       "...                     ...         ...\n",
       "2023-12-18         0.163429    0.385932\n",
       "2023-12-19        -0.712324   -0.022319\n",
       "2023-12-20         0.781714    0.390720\n",
       "2023-12-21         0.277638   -0.022319\n",
       "2023-12-22         0.021357   -0.022319\n",
       "\n",
       "[1772 rows x 2 columns]"
      ]
     },
     "execution_count": 10,
     "metadata": {},
     "output_type": "execute_result"
    }
   ],
   "source": [
    "df_predictions = df[['change_tomorrow']].copy()\n",
    "\n",
    "df_predictions['prediction'] = y_pred\n",
    "df_predictions"
   ]
  },
  {
   "cell_type": "markdown",
   "id": "c9283287-67e8-4f24-a051-9a02d6324372",
   "metadata": {},
   "source": [
    "### Evaluate the model: compare predictions with the reality"
   ]
  },
  {
   "cell_type": "code",
   "execution_count": 11,
   "id": "409fa80a-1952-456d-bc3f-4840069af6df",
   "metadata": {},
   "outputs": [
    {
     "data": {
      "text/plain": [
       "0.5126509788668467"
      ]
     },
     "execution_count": 11,
     "metadata": {},
     "output_type": "execute_result"
    }
   ],
   "source": [
    "model_dt.score(X=explanatory, y=target)"
   ]
  },
  {
   "cell_type": "markdown",
   "id": "23dac8f3",
   "metadata": {},
   "source": [
    "## [ ] How to interpret the error?"
   ]
  },
  {
   "cell_type": "code",
   "execution_count": 12,
   "id": "8cecc500",
   "metadata": {},
   "outputs": [],
   "source": [
    "df_predictions['error'] = df_predictions.prediction - df_predictions.change_tomorrow"
   ]
  },
  {
   "cell_type": "code",
   "execution_count": 13,
   "id": "dba86ccb-477b-46d6-990f-7bcadac1c7c9",
   "metadata": {},
   "outputs": [
    {
     "data": {
      "text/plain": [
       "-0.0"
      ]
     },
     "execution_count": 13,
     "metadata": {},
     "output_type": "execute_result"
    }
   ],
   "source": [
    "df_predictions.error.sum().round(2)"
   ]
  },
  {
   "cell_type": "code",
   "execution_count": 14,
   "id": "2b9dc127",
   "metadata": {},
   "outputs": [],
   "source": [
    "df_predictions['error2'] = df_predictions.error**2"
   ]
  },
  {
   "cell_type": "code",
   "execution_count": 15,
   "id": "c2f6fcd5",
   "metadata": {},
   "outputs": [],
   "source": [
    "sse = df_predictions.error2.sum()"
   ]
  },
  {
   "cell_type": "code",
   "execution_count": 16,
   "id": "440ef1ce",
   "metadata": {},
   "outputs": [],
   "source": [
    "mse = df_predictions.error2.mean()"
   ]
  },
  {
   "cell_type": "code",
   "execution_count": 17,
   "id": "08678aab",
   "metadata": {},
   "outputs": [],
   "source": [
    "import numpy as np"
   ]
  },
  {
   "cell_type": "code",
   "execution_count": 18,
   "id": "c674d4f5",
   "metadata": {},
   "outputs": [],
   "source": [
    "rmse = np.sqrt(mse)"
   ]
  },
  {
   "cell_type": "code",
   "execution_count": 19,
   "id": "394d2c9a",
   "metadata": {},
   "outputs": [
    {
     "data": {
      "image/png": "[encoded data removed]",
      "text/plain": [
       "<Figure size 640x480 with 1 Axes>"
      ]
     },
     "metadata": {},
     "output_type": "display_data"
    }
   ],
   "source": [
    "df_predictions.error.hist(bins=30);"
   ]
  },
  {
   "cell_type": "markdown",
   "id": "dbcfb411",
   "metadata": {},
   "source": [
    "The Standard Deviation of the Error|The Normal Distribution\n",
    "-|-\n",
    "![](src/std.png) | ![](src/std_normal.png)\n",
    "\n",
    "source: wikipedia"
   ]
  },
  {
   "cell_type": "markdown",
   "id": "cf7b5699-2309-44b1-8b26-039ab54fc1e3",
   "metadata": {},
   "source": [
    "## Save the model into a file\n",
    "\n",
    "- We'll write the numbers of the Decision Tree's mathematical equation into a file."
   ]
  },
  {
   "cell_type": "code",
   "execution_count": 20,
   "id": "47d6620b-6c85-49b3-acfe-d5ad5b202cfa",
   "metadata": {},
   "outputs": [],
   "source": [
    "import pickle"
   ]
  },
  {
   "cell_type": "code",
   "execution_count": 21,
   "id": "20db632c-098e-4c62-ad4b-53a0a9019161",
   "metadata": {},
   "outputs": [],
   "source": [
    "with open('models/model_dt_regression.pkl', 'wb') as f:\n",
    "    pickle.dump(model_dt, f)"
   ]
  }
 ],
 "metadata": {
  "kernelspec": {
   "display_name": "Python 3 (ipykernel)",
   "language": "python",
   "name": "python3"
  },
  "language_info": {
   "codemirror_mode": {
    "name": "ipython",
    "version": 3
   },
   "file_extension": ".py",
   "mimetype": "text/x-python",
   "name": "python",
   "nbconvert_exporter": "python",
   "pygments_lexer": "ipython3",
   "version": "3.10.12"
  }
 },
 "nbformat": 4,
 "nbformat_minor": 5
}
